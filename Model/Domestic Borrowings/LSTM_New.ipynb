{
  "cells": [
    {
      "cell_type": "code",
      "execution_count": 53,
      "metadata": {
        "colab": {
          "base_uri": "https://localhost:8080/"
        },
        "id": "AOnpqjK0i_gh",
        "outputId": "280372af-a8b4-45ce-87b9-b7bbb4eb66fd"
      },
      "outputs": [
        {
          "output_type": "stream",
          "name": "stdout",
          "text": [
            "Drive already mounted at /content/drive; to attempt to forcibly remount, call drive.mount(\"/content/drive\", force_remount=True).\n"
          ]
        }
      ],
      "source": [
        "from google.colab import drive\n",
        "drive.mount('/content/drive')"
      ],
      "id": "AOnpqjK0i_gh"
    },
    {
      "cell_type": "code",
      "execution_count": 54,
      "metadata": {
        "id": "bf5f0291"
      },
      "outputs": [],
      "source": [
        "import math\n",
        "import matplotlib.pyplot as plt\n",
        "import keras\n",
        "import pandas as pd\n",
        "import numpy as np\n",
        "from keras.models import Sequential\n",
        "from keras.layers import Dense\n",
        "from keras.layers import LSTM\n",
        "from keras.layers import Dropout\n",
        "from keras.layers import *\n",
        "from sklearn.preprocessing import MinMaxScaler\n",
        "from sklearn.metrics import mean_squared_error\n",
        "from sklearn.metrics import mean_absolute_error\n",
        "from sklearn.model_selection import train_test_split\n",
        "from keras.callbacks import EarlyStopping\n",
        "from tensorflow.keras.optimizers import Adam"
      ],
      "id": "bf5f0291"
    },
    {
      "cell_type": "code",
      "execution_count": 55,
      "metadata": {
        "colab": {
          "base_uri": "https://localhost:8080/",
          "height": 224
        },
        "id": "688fe9bd",
        "outputId": "b0185df3-2057-4c06-8adb-4fbdeebb19ea"
      },
      "outputs": [
        {
          "output_type": "stream",
          "name": "stdout",
          "text": [
            "Number of rows and columns: (125, 2)\n"
          ]
        },
        {
          "output_type": "execute_result",
          "data": {
            "text/plain": [
              "        Year   DomesticDebt_adjust\n",
              "0  1990-03-31         13507.410336\n",
              "1  1990-06-30         14167.597438\n",
              "2  1990-09-30         14827.794085\n",
              "3  1990-12-31         15487.998142\n",
              "4  1991-03-31         16148.210336"
            ],
            "text/html": [
              "\n",
              "  <div id=\"df-9000bece-f80f-4a37-80f4-c6d777d14770\" class=\"colab-df-container\">\n",
              "    <div>\n",
              "<style scoped>\n",
              "    .dataframe tbody tr th:only-of-type {\n",
              "        vertical-align: middle;\n",
              "    }\n",
              "\n",
              "    .dataframe tbody tr th {\n",
              "        vertical-align: top;\n",
              "    }\n",
              "\n",
              "    .dataframe thead th {\n",
              "        text-align: right;\n",
              "    }\n",
              "</style>\n",
              "<table border=\"1\" class=\"dataframe\">\n",
              "  <thead>\n",
              "    <tr style=\"text-align: right;\">\n",
              "      <th></th>\n",
              "      <th>Year</th>\n",
              "      <th>DomesticDebt_adjust</th>\n",
              "    </tr>\n",
              "  </thead>\n",
              "  <tbody>\n",
              "    <tr>\n",
              "      <th>0</th>\n",
              "      <td>1990-03-31</td>\n",
              "      <td>13507.410336</td>\n",
              "    </tr>\n",
              "    <tr>\n",
              "      <th>1</th>\n",
              "      <td>1990-06-30</td>\n",
              "      <td>14167.597438</td>\n",
              "    </tr>\n",
              "    <tr>\n",
              "      <th>2</th>\n",
              "      <td>1990-09-30</td>\n",
              "      <td>14827.794085</td>\n",
              "    </tr>\n",
              "    <tr>\n",
              "      <th>3</th>\n",
              "      <td>1990-12-31</td>\n",
              "      <td>15487.998142</td>\n",
              "    </tr>\n",
              "    <tr>\n",
              "      <th>4</th>\n",
              "      <td>1991-03-31</td>\n",
              "      <td>16148.210336</td>\n",
              "    </tr>\n",
              "  </tbody>\n",
              "</table>\n",
              "</div>\n",
              "    <div class=\"colab-df-buttons\">\n",
              "\n",
              "  <div class=\"colab-df-container\">\n",
              "    <button class=\"colab-df-convert\" onclick=\"convertToInteractive('df-9000bece-f80f-4a37-80f4-c6d777d14770')\"\n",
              "            title=\"Convert this dataframe to an interactive table.\"\n",
              "            style=\"display:none;\">\n",
              "\n",
              "  <svg xmlns=\"http://www.w3.org/2000/svg\" height=\"24px\" viewBox=\"0 -960 960 960\">\n",
              "    <path d=\"M120-120v-720h720v720H120Zm60-500h600v-160H180v160Zm220 220h160v-160H400v160Zm0 220h160v-160H400v160ZM180-400h160v-160H180v160Zm440 0h160v-160H620v160ZM180-180h160v-160H180v160Zm440 0h160v-160H620v160Z\"/>\n",
              "  </svg>\n",
              "    </button>\n",
              "\n",
              "  <style>\n",
              "    .colab-df-container {\n",
              "      display:flex;\n",
              "      gap: 12px;\n",
              "    }\n",
              "\n",
              "    .colab-df-convert {\n",
              "      background-color: #E8F0FE;\n",
              "      border: none;\n",
              "      border-radius: 50%;\n",
              "      cursor: pointer;\n",
              "      display: none;\n",
              "      fill: #1967D2;\n",
              "      height: 32px;\n",
              "      padding: 0 0 0 0;\n",
              "      width: 32px;\n",
              "    }\n",
              "\n",
              "    .colab-df-convert:hover {\n",
              "      background-color: #E2EBFA;\n",
              "      box-shadow: 0px 1px 2px rgba(60, 64, 67, 0.3), 0px 1px 3px 1px rgba(60, 64, 67, 0.15);\n",
              "      fill: #174EA6;\n",
              "    }\n",
              "\n",
              "    .colab-df-buttons div {\n",
              "      margin-bottom: 4px;\n",
              "    }\n",
              "\n",
              "    [theme=dark] .colab-df-convert {\n",
              "      background-color: #3B4455;\n",
              "      fill: #D2E3FC;\n",
              "    }\n",
              "\n",
              "    [theme=dark] .colab-df-convert:hover {\n",
              "      background-color: #434B5C;\n",
              "      box-shadow: 0px 1px 3px 1px rgba(0, 0, 0, 0.15);\n",
              "      filter: drop-shadow(0px 1px 2px rgba(0, 0, 0, 0.3));\n",
              "      fill: #FFFFFF;\n",
              "    }\n",
              "  </style>\n",
              "\n",
              "    <script>\n",
              "      const buttonEl =\n",
              "        document.querySelector('#df-9000bece-f80f-4a37-80f4-c6d777d14770 button.colab-df-convert');\n",
              "      buttonEl.style.display =\n",
              "        google.colab.kernel.accessAllowed ? 'block' : 'none';\n",
              "\n",
              "      async function convertToInteractive(key) {\n",
              "        const element = document.querySelector('#df-9000bece-f80f-4a37-80f4-c6d777d14770');\n",
              "        const dataTable =\n",
              "          await google.colab.kernel.invokeFunction('convertToInteractive',\n",
              "                                                    [key], {});\n",
              "        if (!dataTable) return;\n",
              "\n",
              "        const docLinkHtml = 'Like what you see? Visit the ' +\n",
              "          '<a target=\"_blank\" href=https://colab.research.google.com/notebooks/data_table.ipynb>data table notebook</a>'\n",
              "          + ' to learn more about interactive tables.';\n",
              "        element.innerHTML = '';\n",
              "        dataTable['output_type'] = 'display_data';\n",
              "        await google.colab.output.renderOutput(dataTable, element);\n",
              "        const docLink = document.createElement('div');\n",
              "        docLink.innerHTML = docLinkHtml;\n",
              "        element.appendChild(docLink);\n",
              "      }\n",
              "    </script>\n",
              "  </div>\n",
              "\n",
              "\n",
              "<div id=\"df-02c0f7bf-16ff-42e9-9e3b-f016a6e0425e\">\n",
              "  <button class=\"colab-df-quickchart\" onclick=\"quickchart('df-02c0f7bf-16ff-42e9-9e3b-f016a6e0425e')\"\n",
              "            title=\"Suggest charts.\"\n",
              "            style=\"display:none;\">\n",
              "\n",
              "<svg xmlns=\"http://www.w3.org/2000/svg\" height=\"24px\"viewBox=\"0 0 24 24\"\n",
              "     width=\"24px\">\n",
              "    <g>\n",
              "        <path d=\"M19 3H5c-1.1 0-2 .9-2 2v14c0 1.1.9 2 2 2h14c1.1 0 2-.9 2-2V5c0-1.1-.9-2-2-2zM9 17H7v-7h2v7zm4 0h-2V7h2v10zm4 0h-2v-4h2v4z\"/>\n",
              "    </g>\n",
              "</svg>\n",
              "  </button>\n",
              "\n",
              "<style>\n",
              "  .colab-df-quickchart {\n",
              "      --bg-color: #E8F0FE;\n",
              "      --fill-color: #1967D2;\n",
              "      --hover-bg-color: #E2EBFA;\n",
              "      --hover-fill-color: #174EA6;\n",
              "      --disabled-fill-color: #AAA;\n",
              "      --disabled-bg-color: #DDD;\n",
              "  }\n",
              "\n",
              "  [theme=dark] .colab-df-quickchart {\n",
              "      --bg-color: #3B4455;\n",
              "      --fill-color: #D2E3FC;\n",
              "      --hover-bg-color: #434B5C;\n",
              "      --hover-fill-color: #FFFFFF;\n",
              "      --disabled-bg-color: #3B4455;\n",
              "      --disabled-fill-color: #666;\n",
              "  }\n",
              "\n",
              "  .colab-df-quickchart {\n",
              "    background-color: var(--bg-color);\n",
              "    border: none;\n",
              "    border-radius: 50%;\n",
              "    cursor: pointer;\n",
              "    display: none;\n",
              "    fill: var(--fill-color);\n",
              "    height: 32px;\n",
              "    padding: 0;\n",
              "    width: 32px;\n",
              "  }\n",
              "\n",
              "  .colab-df-quickchart:hover {\n",
              "    background-color: var(--hover-bg-color);\n",
              "    box-shadow: 0 1px 2px rgba(60, 64, 67, 0.3), 0 1px 3px 1px rgba(60, 64, 67, 0.15);\n",
              "    fill: var(--button-hover-fill-color);\n",
              "  }\n",
              "\n",
              "  .colab-df-quickchart-complete:disabled,\n",
              "  .colab-df-quickchart-complete:disabled:hover {\n",
              "    background-color: var(--disabled-bg-color);\n",
              "    fill: var(--disabled-fill-color);\n",
              "    box-shadow: none;\n",
              "  }\n",
              "\n",
              "  .colab-df-spinner {\n",
              "    border: 2px solid var(--fill-color);\n",
              "    border-color: transparent;\n",
              "    border-bottom-color: var(--fill-color);\n",
              "    animation:\n",
              "      spin 1s steps(1) infinite;\n",
              "  }\n",
              "\n",
              "  @keyframes spin {\n",
              "    0% {\n",
              "      border-color: transparent;\n",
              "      border-bottom-color: var(--fill-color);\n",
              "      border-left-color: var(--fill-color);\n",
              "    }\n",
              "    20% {\n",
              "      border-color: transparent;\n",
              "      border-left-color: var(--fill-color);\n",
              "      border-top-color: var(--fill-color);\n",
              "    }\n",
              "    30% {\n",
              "      border-color: transparent;\n",
              "      border-left-color: var(--fill-color);\n",
              "      border-top-color: var(--fill-color);\n",
              "      border-right-color: var(--fill-color);\n",
              "    }\n",
              "    40% {\n",
              "      border-color: transparent;\n",
              "      border-right-color: var(--fill-color);\n",
              "      border-top-color: var(--fill-color);\n",
              "    }\n",
              "    60% {\n",
              "      border-color: transparent;\n",
              "      border-right-color: var(--fill-color);\n",
              "    }\n",
              "    80% {\n",
              "      border-color: transparent;\n",
              "      border-right-color: var(--fill-color);\n",
              "      border-bottom-color: var(--fill-color);\n",
              "    }\n",
              "    90% {\n",
              "      border-color: transparent;\n",
              "      border-bottom-color: var(--fill-color);\n",
              "    }\n",
              "  }\n",
              "</style>\n",
              "\n",
              "  <script>\n",
              "    async function quickchart(key) {\n",
              "      const quickchartButtonEl =\n",
              "        document.querySelector('#' + key + ' button');\n",
              "      quickchartButtonEl.disabled = true;  // To prevent multiple clicks.\n",
              "      quickchartButtonEl.classList.add('colab-df-spinner');\n",
              "      try {\n",
              "        const charts = await google.colab.kernel.invokeFunction(\n",
              "            'suggestCharts', [key], {});\n",
              "      } catch (error) {\n",
              "        console.error('Error during call to suggestCharts:', error);\n",
              "      }\n",
              "      quickchartButtonEl.classList.remove('colab-df-spinner');\n",
              "      quickchartButtonEl.classList.add('colab-df-quickchart-complete');\n",
              "    }\n",
              "    (() => {\n",
              "      let quickchartButtonEl =\n",
              "        document.querySelector('#df-02c0f7bf-16ff-42e9-9e3b-f016a6e0425e button');\n",
              "      quickchartButtonEl.style.display =\n",
              "        google.colab.kernel.accessAllowed ? 'block' : 'none';\n",
              "    })();\n",
              "  </script>\n",
              "</div>\n",
              "    </div>\n",
              "  </div>\n"
            ]
          },
          "metadata": {},
          "execution_count": 55
        }
      ],
      "source": [
        "df=pd.read_csv(\"/content/drive/MyDrive/quarter_data_domestic_1.csv\")\n",
        "print('Number of rows and columns:', df.shape)\n",
        "df.head(5)"
      ],
      "id": "688fe9bd"
    },
    {
      "cell_type": "code",
      "execution_count": 56,
      "metadata": {
        "id": "252095b9"
      },
      "outputs": [],
      "source": [
        "training_set = df.iloc[:60, 1:2].values\n",
        "test_set = df.iloc[60:, 1:2].values"
      ],
      "id": "252095b9"
    },
    {
      "cell_type": "code",
      "execution_count": 57,
      "metadata": {
        "colab": {
          "base_uri": "https://localhost:8080/"
        },
        "id": "006f9c92",
        "outputId": "c54a860f-6d70-420f-e535-7543a51b9df6"
      },
      "outputs": [
        {
          "output_type": "execute_result",
          "data": {
            "text/plain": [
              "array([[ 13507.41033566],\n",
              "       [ 14167.59743779],\n",
              "       [ 14827.79408454],\n",
              "       [ 15487.99814202],\n",
              "       [ 16148.21033566],\n",
              "       [ 15998.69743779],\n",
              "       [ 15849.19408454],\n",
              "       [ 15699.69814202],\n",
              "       [ 15550.21033566],\n",
              "       [ 17722.52243779],\n",
              "       [ 19894.84408454],\n",
              "       [ 22067.17314202],\n",
              "       [ 24239.51033566],\n",
              "       [ 27603.34743779],\n",
              "       [ 30967.19408454],\n",
              "       [ 34331.04814202],\n",
              "       [ 37694.91033566],\n",
              "       [ 36763.97243779],\n",
              "       [ 35833.04408454],\n",
              "       [ 34902.12314202],\n",
              "       [ 33971.21033566],\n",
              "       [ 37916.64743779],\n",
              "       [ 41862.09408454],\n",
              "       [ 45807.54814202],\n",
              "       [ 49753.01033566],\n",
              "       [ 44883.24743779],\n",
              "       [ 40013.49408454],\n",
              "       [ 35143.74814202],\n",
              "       [ 30274.01033566],\n",
              "       [ 40545.69743779],\n",
              "       [ 50817.39408454],\n",
              "       [ 61089.09814202],\n",
              "       [ 71360.81033566],\n",
              "       [ 72239.29743779],\n",
              "       [ 73117.79408454],\n",
              "       [ 73996.29814202],\n",
              "       [ 74874.81033566],\n",
              "       [ 85780.84743779],\n",
              "       [ 96686.89408454],\n",
              "       [107592.94814202],\n",
              "       [118499.01033566],\n",
              "       [119772.74743779],\n",
              "       [121046.49408454],\n",
              "       [122320.24814202],\n",
              "       [123594.01033566],\n",
              "       [124282.99743779],\n",
              "       [124971.99408454],\n",
              "       [125660.99814202],\n",
              "       [126350.01033566],\n",
              "       [114739.99743779],\n",
              "       [103129.99408454],\n",
              "       [ 91519.99814202],\n",
              "       [ 79910.01033566],\n",
              "       [ 89243.04743779],\n",
              "       [ 98576.09408454],\n",
              "       [107909.14814202],\n",
              "       [117242.21033566],\n",
              "       [118832.39743779],\n",
              "       [120422.59408454],\n",
              "       [122012.79814202]])"
            ]
          },
          "metadata": {},
          "execution_count": 57
        }
      ],
      "source": [
        "training_set"
      ],
      "id": "006f9c92"
    },
    {
      "cell_type": "code",
      "execution_count": 58,
      "metadata": {
        "id": "c1d62e19"
      },
      "outputs": [],
      "source": [
        "# Feature Scaling\n",
        "sc = MinMaxScaler(feature_range = (0, 1))\n",
        "training_set_scaled = sc.fit_transform(training_set)\n",
        "# Creating a data structure with 60 time-steps and 1 output\n",
        "X_train = []\n",
        "y_train = []\n",
        "for i in range(10, 60):\n",
        "    X_train.append(training_set_scaled[i-10:i, 0])\n",
        "    y_train.append(training_set_scaled[i, 0])\n",
        "X_train, y_train = np.array(X_train), np.array(y_train)\n",
        "X_train = np.reshape(X_train, (X_train.shape[0], X_train.shape[1], 1))\n",
        "#(740, 60, 1)"
      ],
      "id": "c1d62e19"
    },
    {
      "cell_type": "code",
      "execution_count": 59,
      "metadata": {
        "id": "c3ab4dc4"
      },
      "outputs": [],
      "source": [
        "#Creating the LSTM Model\n",
        "model = Sequential()\n",
        "model.add(LSTM(500,input_shape=(X_train.shape[1], 1)))\n",
        "model.add(Dense(1))\n",
        "\n",
        "\n",
        "# Defining the optimizer with the learning rate\n",
        "learning_rate = 0.0001\n",
        "optimizer = Adam(learning_rate=learning_rate)\n",
        "\n",
        "#Compiling the model\n",
        "model.compile(loss='mse',optimizer=optimizer)\n"
      ],
      "id": "c3ab4dc4"
    },
    {
      "cell_type": "code",
      "execution_count": 60,
      "metadata": {
        "colab": {
          "base_uri": "https://localhost:8080/"
        },
        "id": "f95ac845",
        "outputId": "8634a9af-d42e-4835-c326-edce9dce5850"
      },
      "outputs": [
        {
          "output_type": "stream",
          "name": "stdout",
          "text": [
            "Epoch 1/100\n",
            "50/50 [==============================] - 2s 4ms/step - loss: 0.1373\n",
            "Epoch 2/100\n",
            "50/50 [==============================] - 0s 4ms/step - loss: 0.0269\n",
            "Epoch 3/100\n",
            "50/50 [==============================] - 0s 5ms/step - loss: 0.0222\n",
            "Epoch 4/100\n",
            "50/50 [==============================] - 0s 4ms/step - loss: 0.0277\n",
            "Epoch 5/100\n",
            "50/50 [==============================] - 0s 5ms/step - loss: 0.0228\n",
            "Epoch 6/100\n",
            "50/50 [==============================] - 0s 5ms/step - loss: 0.0211\n",
            "Epoch 7/100\n",
            "50/50 [==============================] - 0s 4ms/step - loss: 0.0221\n",
            "Epoch 8/100\n",
            "50/50 [==============================] - 0s 5ms/step - loss: 0.0218\n",
            "Epoch 9/100\n",
            "50/50 [==============================] - 0s 5ms/step - loss: 0.0225\n",
            "Epoch 10/100\n",
            "50/50 [==============================] - 0s 5ms/step - loss: 0.0237\n",
            "Epoch 11/100\n",
            "50/50 [==============================] - 0s 5ms/step - loss: 0.0200\n",
            "Epoch 12/100\n",
            "50/50 [==============================] - 0s 5ms/step - loss: 0.0191\n",
            "Epoch 13/100\n",
            "50/50 [==============================] - 0s 5ms/step - loss: 0.0225\n",
            "Epoch 14/100\n",
            "50/50 [==============================] - 0s 5ms/step - loss: 0.0200\n",
            "Epoch 15/100\n",
            "50/50 [==============================] - 0s 5ms/step - loss: 0.0199\n",
            "Epoch 16/100\n",
            "50/50 [==============================] - 0s 6ms/step - loss: 0.0189\n",
            "Epoch 17/100\n",
            "50/50 [==============================] - 0s 5ms/step - loss: 0.0198\n",
            "Epoch 18/100\n",
            "50/50 [==============================] - 0s 4ms/step - loss: 0.0190\n",
            "Epoch 19/100\n",
            "50/50 [==============================] - 0s 4ms/step - loss: 0.0170\n",
            "Epoch 20/100\n",
            "50/50 [==============================] - 0s 4ms/step - loss: 0.0173\n",
            "Epoch 21/100\n",
            "50/50 [==============================] - 0s 4ms/step - loss: 0.0183\n",
            "Epoch 22/100\n",
            "50/50 [==============================] - 0s 4ms/step - loss: 0.0163\n",
            "Epoch 23/100\n",
            "50/50 [==============================] - 0s 4ms/step - loss: 0.0158\n",
            "Epoch 24/100\n",
            "50/50 [==============================] - 0s 4ms/step - loss: 0.0168\n",
            "Epoch 25/100\n",
            "50/50 [==============================] - 0s 4ms/step - loss: 0.0157\n",
            "Epoch 26/100\n",
            "50/50 [==============================] - 0s 4ms/step - loss: 0.0157\n",
            "Epoch 27/100\n",
            "50/50 [==============================] - 0s 4ms/step - loss: 0.0145\n",
            "Epoch 28/100\n",
            "50/50 [==============================] - 0s 4ms/step - loss: 0.0153\n",
            "Epoch 29/100\n",
            "50/50 [==============================] - 0s 4ms/step - loss: 0.0139\n",
            "Epoch 30/100\n",
            "50/50 [==============================] - 0s 4ms/step - loss: 0.0158\n",
            "Epoch 31/100\n",
            "50/50 [==============================] - 0s 4ms/step - loss: 0.0143\n",
            "Epoch 32/100\n",
            "50/50 [==============================] - 0s 4ms/step - loss: 0.0154\n",
            "Epoch 33/100\n",
            "50/50 [==============================] - 0s 4ms/step - loss: 0.0141\n",
            "Epoch 34/100\n",
            "50/50 [==============================] - 0s 4ms/step - loss: 0.0144\n",
            "Epoch 35/100\n",
            "50/50 [==============================] - 0s 4ms/step - loss: 0.0140\n",
            "Epoch 36/100\n",
            "50/50 [==============================] - 0s 4ms/step - loss: 0.0123\n",
            "Epoch 37/100\n",
            "50/50 [==============================] - 0s 4ms/step - loss: 0.0137\n",
            "Epoch 38/100\n",
            "50/50 [==============================] - 0s 4ms/step - loss: 0.0134\n",
            "Epoch 39/100\n",
            "50/50 [==============================] - 0s 4ms/step - loss: 0.0120\n",
            "Epoch 40/100\n",
            "50/50 [==============================] - 0s 4ms/step - loss: 0.0116\n",
            "Epoch 41/100\n",
            "50/50 [==============================] - 0s 4ms/step - loss: 0.0121\n",
            "Epoch 42/100\n",
            "50/50 [==============================] - 0s 4ms/step - loss: 0.0121\n",
            "Epoch 43/100\n",
            "50/50 [==============================] - 0s 3ms/step - loss: 0.0115\n",
            "Epoch 44/100\n",
            "50/50 [==============================] - 0s 3ms/step - loss: 0.0107\n",
            "Epoch 45/100\n",
            "50/50 [==============================] - 0s 4ms/step - loss: 0.0121\n",
            "Epoch 46/100\n",
            "50/50 [==============================] - 0s 4ms/step - loss: 0.0120\n",
            "Epoch 47/100\n",
            "50/50 [==============================] - 0s 4ms/step - loss: 0.0106\n",
            "Epoch 48/100\n",
            "50/50 [==============================] - 0s 4ms/step - loss: 0.0112\n",
            "Epoch 49/100\n",
            "50/50 [==============================] - 0s 4ms/step - loss: 0.0111\n",
            "Epoch 50/100\n",
            "50/50 [==============================] - 0s 4ms/step - loss: 0.0100\n",
            "Epoch 51/100\n",
            "50/50 [==============================] - 0s 3ms/step - loss: 0.0095\n",
            "Epoch 52/100\n",
            "50/50 [==============================] - 0s 4ms/step - loss: 0.0099\n",
            "Epoch 53/100\n",
            "50/50 [==============================] - 0s 4ms/step - loss: 0.0116\n",
            "Epoch 54/100\n",
            "50/50 [==============================] - 0s 3ms/step - loss: 0.0087\n",
            "Epoch 55/100\n",
            "50/50 [==============================] - 0s 3ms/step - loss: 0.0101\n",
            "Epoch 56/100\n",
            "50/50 [==============================] - 0s 4ms/step - loss: 0.0086\n",
            "Epoch 57/100\n",
            "50/50 [==============================] - 0s 4ms/step - loss: 0.0089\n",
            "Epoch 58/100\n",
            "50/50 [==============================] - 0s 4ms/step - loss: 0.0091\n",
            "Epoch 59/100\n",
            "50/50 [==============================] - 0s 4ms/step - loss: 0.0084\n",
            "Epoch 60/100\n",
            "50/50 [==============================] - 0s 3ms/step - loss: 0.0089\n",
            "Epoch 61/100\n",
            "50/50 [==============================] - 0s 4ms/step - loss: 0.0084\n",
            "Epoch 62/100\n",
            "50/50 [==============================] - 0s 3ms/step - loss: 0.0081\n",
            "Epoch 63/100\n",
            "50/50 [==============================] - 0s 4ms/step - loss: 0.0092\n",
            "Epoch 64/100\n",
            "50/50 [==============================] - 0s 4ms/step - loss: 0.0087\n",
            "Epoch 65/100\n",
            "50/50 [==============================] - 0s 4ms/step - loss: 0.0071\n",
            "Epoch 66/100\n",
            "50/50 [==============================] - 0s 3ms/step - loss: 0.0071\n",
            "Epoch 67/100\n",
            "50/50 [==============================] - 0s 3ms/step - loss: 0.0067\n",
            "Epoch 68/100\n",
            "50/50 [==============================] - 0s 4ms/step - loss: 0.0076\n",
            "Epoch 69/100\n",
            "50/50 [==============================] - 0s 4ms/step - loss: 0.0067\n",
            "Epoch 70/100\n",
            "50/50 [==============================] - 0s 4ms/step - loss: 0.0072\n",
            "Epoch 71/100\n",
            "50/50 [==============================] - 0s 5ms/step - loss: 0.0065\n",
            "Epoch 72/100\n",
            "50/50 [==============================] - 0s 5ms/step - loss: 0.0068\n",
            "Epoch 73/100\n",
            "50/50 [==============================] - 0s 5ms/step - loss: 0.0074\n",
            "Epoch 74/100\n",
            "50/50 [==============================] - 0s 5ms/step - loss: 0.0062\n",
            "Epoch 75/100\n",
            "50/50 [==============================] - 0s 5ms/step - loss: 0.0063\n",
            "Epoch 76/100\n",
            "50/50 [==============================] - 0s 5ms/step - loss: 0.0085\n",
            "Epoch 77/100\n",
            "50/50 [==============================] - 0s 5ms/step - loss: 0.0074\n",
            "Epoch 78/100\n",
            "50/50 [==============================] - 0s 5ms/step - loss: 0.0059\n",
            "Epoch 79/100\n",
            "50/50 [==============================] - 0s 5ms/step - loss: 0.0062\n",
            "Epoch 80/100\n",
            "50/50 [==============================] - 0s 5ms/step - loss: 0.0053\n",
            "Epoch 81/100\n",
            "50/50 [==============================] - 0s 5ms/step - loss: 0.0070\n",
            "Epoch 82/100\n",
            "50/50 [==============================] - 0s 5ms/step - loss: 0.0061\n",
            "Epoch 83/100\n",
            "50/50 [==============================] - 0s 5ms/step - loss: 0.0058\n",
            "Epoch 84/100\n",
            "50/50 [==============================] - 0s 5ms/step - loss: 0.0063\n",
            "Epoch 85/100\n",
            "50/50 [==============================] - 0s 5ms/step - loss: 0.0060\n",
            "Epoch 86/100\n",
            "50/50 [==============================] - 0s 5ms/step - loss: 0.0054\n",
            "Epoch 87/100\n",
            "50/50 [==============================] - 0s 4ms/step - loss: 0.0052\n",
            "Epoch 88/100\n",
            "50/50 [==============================] - 0s 4ms/step - loss: 0.0052\n",
            "Epoch 89/100\n",
            "50/50 [==============================] - 0s 3ms/step - loss: 0.0051\n",
            "Epoch 90/100\n",
            "50/50 [==============================] - 0s 4ms/step - loss: 0.0056\n",
            "Epoch 91/100\n",
            "50/50 [==============================] - 0s 4ms/step - loss: 0.0056\n",
            "Epoch 92/100\n",
            "50/50 [==============================] - 0s 4ms/step - loss: 0.0041\n",
            "Epoch 93/100\n",
            "50/50 [==============================] - 0s 4ms/step - loss: 0.0053\n",
            "Epoch 94/100\n",
            "50/50 [==============================] - 0s 4ms/step - loss: 0.0042\n",
            "Epoch 95/100\n",
            "50/50 [==============================] - 0s 4ms/step - loss: 0.0046\n",
            "Epoch 96/100\n",
            "50/50 [==============================] - 0s 4ms/step - loss: 0.0063\n",
            "Epoch 97/100\n",
            "50/50 [==============================] - 0s 4ms/step - loss: 0.0049\n",
            "Epoch 98/100\n",
            "50/50 [==============================] - 0s 4ms/step - loss: 0.0051\n",
            "Epoch 99/100\n",
            "50/50 [==============================] - 0s 4ms/step - loss: 0.0040\n",
            "Epoch 100/100\n",
            "50/50 [==============================] - 0s 4ms/step - loss: 0.0052\n"
          ]
        }
      ],
      "source": [
        "#Training the model\n",
        "history=model.fit(X_train,y_train,epochs=100,batch_size=1)"
      ],
      "id": "f95ac845"
    },
    {
      "cell_type": "code",
      "execution_count": 61,
      "metadata": {
        "colab": {
          "base_uri": "https://localhost:8080/"
        },
        "id": "SKFWNcNPoUf1",
        "outputId": "65500fd5-c7f9-4f6f-bc3f-8d2d612a428c"
      },
      "outputs": [
        {
          "output_type": "stream",
          "name": "stdout",
          "text": [
            "(37, 10, 1)\n"
          ]
        }
      ],
      "source": [
        "# Getting the predicted stock price of 2017\n",
        "dataset_train = df.iloc[:60, 1:2]\n",
        "dataset_test = df.iloc[60:, 1:2]\n",
        "dataset_total = pd.concat((dataset_train, dataset_test), axis = 0)\n",
        "inputs = dataset_total[len(dataset_total) - len(dataset_test) - 10:].values\n",
        "inputs = inputs.reshape(-1,1)\n",
        "inputs = sc.transform(inputs)\n",
        "X_test = []\n",
        "y_test=[]\n",
        "for i in range(10, 47):\n",
        "    X_test.append(inputs[i-10:i, 0])\n",
        "    y_test.append(inputs[i, 0])\n",
        "X_test, y_test = np.array(X_test), np.array(y_test)\n",
        "#X_test = np.array(X_test)\n",
        "X_test = np.reshape(X_test, (X_test.shape[0], X_test.shape[1], 1))\n",
        "#y_test = np.reshape(y_test,(y_test.shape[0],y_test.shape[1],1))\n",
        "print(X_test.shape)\n",
        "# (459, 60, 1)"
      ],
      "id": "SKFWNcNPoUf1"
    },
    {
      "cell_type": "code",
      "execution_count": 62,
      "metadata": {
        "colab": {
          "base_uri": "https://localhost:8080/"
        },
        "id": "OVDEcIrOmr5R",
        "outputId": "7a79556a-0975-4495-a5f7-ce2d2c0ab333"
      },
      "outputs": [
        {
          "output_type": "stream",
          "name": "stdout",
          "text": [
            "2/2 [==============================] - 0s 9ms/step\n"
          ]
        }
      ],
      "source": [
        "predicted_value = model.predict(X_test)\n",
        "original_predicted_value = sc.inverse_transform(predicted_value)"
      ],
      "id": "OVDEcIrOmr5R"
    },
    {
      "cell_type": "code",
      "execution_count": 63,
      "metadata": {
        "colab": {
          "base_uri": "https://localhost:8080/"
        },
        "id": "bnfM5SEYjk6U",
        "outputId": "75283d13-c812-4844-ed63-f8269f51e67e"
      },
      "outputs": [
        {
          "output_type": "execute_result",
          "data": {
            "text/plain": [
              "(37, 1)"
            ]
          },
          "metadata": {},
          "execution_count": 63
        }
      ],
      "source": [
        "predicted_value.shape"
      ],
      "id": "bnfM5SEYjk6U"
    },
    {
      "cell_type": "code",
      "execution_count": 64,
      "metadata": {
        "colab": {
          "base_uri": "https://localhost:8080/"
        },
        "id": "sxplQ0ShjqYX",
        "outputId": "1e2a0b0b-4782-4050-c33d-3c1bb7b07867"
      },
      "outputs": [
        {
          "output_type": "execute_result",
          "data": {
            "text/plain": [
              "(65, 1)"
            ]
          },
          "metadata": {},
          "execution_count": 64
        }
      ],
      "source": [
        "dataset_test.shape"
      ],
      "id": "sxplQ0ShjqYX"
    },
    {
      "cell_type": "code",
      "execution_count": 65,
      "metadata": {
        "colab": {
          "base_uri": "https://localhost:8080/"
        },
        "id": "Z443KTUmvLP8",
        "outputId": "437dbedb-7f22-44d9-df64-3918dc6f420e"
      },
      "outputs": [
        {
          "output_type": "execute_result",
          "data": {
            "text/plain": [
              "array([51.86225713, 52.0152009 , 50.76633976, 48.86550257, 47.342288  ,\n",
              "       47.00051451, 50.39529512, 56.16044641, 60.90518812, 63.17486389,\n",
              "       54.33052414, 38.969603  , 32.18483078, 31.49578595, 39.51777973,\n",
              "       59.24401015, 69.40190283, 66.12022321, 59.56444623, 60.7237967 ,\n",
              "       68.14441165, 74.49783474, 73.10499964, 66.30644183, 61.93426121,\n",
              "       60.98898448, 63.53007118, 66.89860684, 67.88429209, 66.85295938,\n",
              "       54.46613085, 37.22021324, 31.83755634, 31.62473642, 36.29198974,\n",
              "       45.28457364, 46.4744506 ])"
            ]
          },
          "metadata": {},
          "execution_count": 65
        }
      ],
      "source": [
        "# Calculate mean absolute percentage error (MAPE) for each prediction\n",
        "mape = np.mean(np.abs((y_test - predicted_value) / y_test) * 100, axis=1)\n",
        "mape\n",
        "\n",
        "# Print the computed MAPE values for each prediction\n",
        "#for i, mape_value in enumerate(mape):\n",
        " #   print(f\"MAPE for prediction {i+1}: {mape_value:.2f}\")"
      ],
      "id": "Z443KTUmvLP8"
    },
    {
      "cell_type": "code",
      "source": [
        "import numpy as np\n",
        "\n",
        "# Assuming 'mape' is the array of MAPE values\n",
        "overall_mape = np.mean(mape)\n",
        "print(\"Overall MAPE:\", overall_mape)\n"
      ],
      "metadata": {
        "colab": {
          "base_uri": "https://localhost:8080/"
        },
        "id": "_ekzm_GgvnZF",
        "outputId": "b3362d2e-eb68-42cc-d300-a20c6b4b5810"
      },
      "id": "_ekzm_GgvnZF",
      "execution_count": 66,
      "outputs": [
        {
          "output_type": "stream",
          "name": "stdout",
          "text": [
            "Overall MAPE: 53.875224675625475\n"
          ]
        }
      ]
    },
    {
      "cell_type": "code",
      "source": [
        "mae = mean_absolute_error(y_test, predicted_value)\n",
        "mae"
      ],
      "metadata": {
        "colab": {
          "base_uri": "https://localhost:8080/"
        },
        "id": "ChfYQaZ4wJAc",
        "outputId": "af2c6830-207e-4546-ac7c-66e62cfe0de9"
      },
      "id": "ChfYQaZ4wJAc",
      "execution_count": 67,
      "outputs": [
        {
          "output_type": "execute_result",
          "data": {
            "text/plain": [
              "1.163490023491908"
            ]
          },
          "metadata": {},
          "execution_count": 67
        }
      ]
    },
    {
      "cell_type": "code",
      "source": [
        "#Calculate RMSE\n",
        "rmse = mean_squared_error(y_test, predicted_value,squared=False)\n",
        "rmse"
      ],
      "metadata": {
        "colab": {
          "base_uri": "https://localhost:8080/"
        },
        "id": "ZK02Nji2wm0D",
        "outputId": "64e4c071-d463-4be0-f45f-1beb33f7e650"
      },
      "id": "ZK02Nji2wm0D",
      "execution_count": 68,
      "outputs": [
        {
          "output_type": "execute_result",
          "data": {
            "text/plain": [
              "1.3016788612304557"
            ]
          },
          "metadata": {},
          "execution_count": 68
        }
      ]
    },
    {
      "cell_type": "code",
      "execution_count": 69,
      "metadata": {
        "colab": {
          "base_uri": "https://localhost:8080/",
          "height": 617
        },
        "id": "9yDG3AyinLIQ",
        "outputId": "eadd7136-e8c6-49b0-f1ce-5a981f11a2ce"
      },
      "outputs": [
        {
          "output_type": "display_data",
          "data": {
            "text/plain": [
              "<Figure size 1000x600 with 1 Axes>"
            ],
            "image/png": "[encoded data removed]"
          },
          "metadata": {}
        }
      ],
      "source": [
        "# Visualising the results\n",
        "# Adjust the figure size to accommodate the x-axis labels\n",
        "plt.figure(figsize=(10, 6))  # Set the desired figure size\n",
        "\n",
        "# Rotate the tick labels and align them to the right\n",
        "plt.xticks(rotation=45, ha='right')\n",
        "\n",
        "plt.plot(df.loc[60:, 'Year '],dataset_test.values, color = 'red', label = 'Real Domestic Debt Value')\n",
        "plt.plot(df.loc[88:, 'Year '],original_predicted_value, color = 'blue', label = 'Predicted Domestic Debt Value')\n",
        "plt.xticks(np.arange(0,40,4))\n",
        "plt.title('Domestic Debt Value Prediction')\n",
        "plt.xlabel('Time')\n",
        "plt.ylabel('Domestic Debt Value')\n",
        "plt.legend()\n",
        "\n",
        "\n",
        "plt.show()"
      ],
      "id": "9yDG3AyinLIQ"
    },
    {
      "cell_type": "code",
      "source": [
        "predicted_value.shape"
      ],
      "metadata": {
        "colab": {
          "base_uri": "https://localhost:8080/"
        },
        "id": "I4Zs2SzgYVb4",
        "outputId": "ddb2bce1-777c-4ede-ea4f-7659b3d9708a"
      },
      "id": "I4Zs2SzgYVb4",
      "execution_count": 70,
      "outputs": [
        {
          "output_type": "execute_result",
          "data": {
            "text/plain": [
              "(37, 1)"
            ]
          },
          "metadata": {},
          "execution_count": 70
        }
      ]
    },
    {
      "cell_type": "code",
      "source": [
        "df.loc[87:, 'Year ']"
      ],
      "metadata": {
        "colab": {
          "base_uri": "https://localhost:8080/"
        },
        "id": "cIywkv39YF9w",
        "outputId": "258d5649-da20-4b4b-e919-e967d912ce15"
      },
      "id": "cIywkv39YF9w",
      "execution_count": 71,
      "outputs": [
        {
          "output_type": "execute_result",
          "data": {
            "text/plain": [
              "87     2011-12-31\n",
              "88     2012-03-31\n",
              "89     2012-06-30\n",
              "90     2012-09-30\n",
              "91     2012-12-31\n",
              "92     2013-03-31\n",
              "93     2013-06-30\n",
              "94     2013-09-30\n",
              "95     2013-12-31\n",
              "96     2014-03-31\n",
              "97     2014-06-30\n",
              "98     2014-09-30\n",
              "99     2014-12-31\n",
              "100    2015-03-31\n",
              "101    2015-06-30\n",
              "102    2015-09-30\n",
              "103    2015-12-31\n",
              "104    2016-03-31\n",
              "105    2016-06-30\n",
              "106    2016-09-30\n",
              "107    2016-12-31\n",
              "108    2017-03-31\n",
              "109    2017-06-30\n",
              "110    2017-09-30\n",
              "111    2017-12-31\n",
              "112    2018-03-31\n",
              "113    2018-06-30\n",
              "114    2018-09-30\n",
              "115    2018-12-31\n",
              "116    2019-03-31\n",
              "117    2019-06-30\n",
              "118    2019-09-30\n",
              "119    2019-12-31\n",
              "120    2020-03-31\n",
              "121    2020-06-30\n",
              "122    2020-09-30\n",
              "123    2020-12-31\n",
              "124    2021-03-31\n",
              "Name: Year , dtype: object"
            ]
          },
          "metadata": {},
          "execution_count": 71
        }
      ]
    },
    {
      "cell_type": "code",
      "execution_count": 72,
      "metadata": {
        "id": "O90WaA7O5i5O",
        "colab": {
          "base_uri": "https://localhost:8080/"
        },
        "outputId": "1e5896e2-b319-40d4-dcc0-a75ed47c6b8e"
      },
      "outputs": [
        {
          "output_type": "stream",
          "name": "stdout",
          "text": [
            "1/1 [==============================] - 0s 496ms/step\n",
            "1/1 [==============================] - 0s 32ms/step\n",
            "1/1 [==============================] - 0s 45ms/step\n",
            "1/1 [==============================] - 0s 30ms/step\n",
            "1/1 [==============================] - 0s 29ms/step\n",
            "1/1 [==============================] - 0s 29ms/step\n",
            "1/1 [==============================] - 0s 28ms/step\n",
            "1/1 [==============================] - 0s 28ms/step\n",
            "1/1 [==============================] - 0s 26ms/step\n",
            "1/1 [==============================] - 0s 27ms/step\n",
            "1/1 [==============================] - 0s 25ms/step\n",
            "1/1 [==============================] - 0s 28ms/step\n",
            "1/1 [==============================] - 0s 25ms/step\n",
            "1/1 [==============================] - 0s 27ms/step\n",
            "1/1 [==============================] - 0s 34ms/step\n",
            "1/1 [==============================] - 0s 30ms/step\n",
            "1/1 [==============================] - 0s 29ms/step\n",
            "1/1 [==============================] - 0s 29ms/step\n",
            "1/1 [==============================] - 0s 31ms/step\n",
            "1/1 [==============================] - 0s 28ms/step\n",
            "[nan nan nan nan nan nan nan nan nan nan nan nan nan nan nan nan nan nan\n",
            " nan nan]\n"
          ]
        }
      ],
      "source": [
        "# Extend the dataset to include the future time period\n",
        "dataset_extended = pd.concat([dataset_total, pd.DataFrame(inputs)], axis=0)\n",
        "\n",
        "# Generate future time steps for prediction\n",
        "future_steps = 5 * 4  # 5 years * 4 quarters/year\n",
        "\n",
        "# Initialize an array to store the predicted values\n",
        "predictions = []\n",
        "\n",
        "# Make predictions for each future time step\n",
        "for _ in range(future_steps):\n",
        "    # Reshape the input data to match the model's input shape\n",
        "    input_data = dataset_extended[-60:].values\n",
        "    input_data = input_data.reshape(1, -1, 1)\n",
        "\n",
        "    # Use the model to make predictions\n",
        "    predicted_value = model.predict(input_data)\n",
        "\n",
        "    # Append the predicted value to the predictions array\n",
        "    predictions.append(predicted_value[0, 0])\n",
        "\n",
        "    # Update the input data with the predicted value for the next time step\n",
        "    dataset_extended = pd.concat([dataset_extended, pd.DataFrame(predicted_value)], axis=0)\n",
        "\n",
        "# Convert the predictions array to a numpy array\n",
        "predictions = np.array(predictions)\n",
        "\n",
        "# Print the predicted values for the future period\n",
        "print(predictions)\n"
      ],
      "id": "O90WaA7O5i5O"
    }
  ],
  "metadata": {
    "accelerator": "GPU",
    "colab": {
      "provenance": []
    },
    "kernelspec": {
      "display_name": "Python 3",
      "name": "python3"
    },
    "language_info": {
      "codemirror_mode": {
        "name": "ipython",
        "version": 3
      },
      "file_extension": ".py",
      "mimetype": "text/x-python",
      "name": "python",
      "nbconvert_exporter": "python",
      "pygments_lexer": "ipython3",
      "version": "3.10.11"
    }
  },
  "nbformat": 4,
  "nbformat_minor": 5
}