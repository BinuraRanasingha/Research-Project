{
 "cells": [
  {
   "cell_type": "code",
   "execution_count": 1,
   "id": "140d2ebc",
   "metadata": {},
   "outputs": [],
   "source": [
    "#Loading the necessary libraries\n",
    "import numpy as np\n",
    "import pandas as pd\n",
    "import matplotlib.pyplot as plt\n",
    "import itertools\n",
    "from statsmodels.tsa.stattools import adfuller\n",
    "from statsmodels.graphics.tsaplots import plot_acf, plot_pacf\n",
    "import statsmodels.api as sm\n",
    "from sklearn.metrics import mean_absolute_error, mean_squared_error\n",
    "import pmdarima as pm\n",
    "from statsmodels.tsa.arima.model import ARIMA\n",
    "from statsmodels.tsa.seasonal import seasonal_decompose\n",
    "from pmdarima import auto_arima\n",
    "from sklearn.model_selection import train_test_split\n",
    "from scipy.stats.mstats import winsorize #########for outlier detection##########################\n",
    "from sklearn.preprocessing import StandardScaler"
   ]
  },
  {
   "cell_type": "code",
   "execution_count": 2,
   "id": "f9265873",
   "metadata": {},
   "outputs": [
    {
     "data": {
      "text/html": [
       "<div>\n",
       "<style scoped>\n",
       "    .dataframe tbody tr th:only-of-type {\n",
       "        vertical-align: middle;\n",
       "    }\n",
       "\n",
       "    .dataframe tbody tr th {\n",
       "        vertical-align: top;\n",
       "    }\n",
       "\n",
       "    .dataframe thead th {\n",
       "        text-align: right;\n",
       "    }\n",
       "</style>\n",
       "<table border=\"1\" class=\"dataframe\">\n",
       "  <thead>\n",
       "    <tr style=\"text-align: right;\">\n",
       "      <th></th>\n",
       "      <th>Year</th>\n",
       "      <th>Domestic  Borrowing</th>\n",
       "    </tr>\n",
       "  </thead>\n",
       "  <tbody>\n",
       "    <tr>\n",
       "      <th>0</th>\n",
       "      <td>1990</td>\n",
       "      <td>13508.4</td>\n",
       "    </tr>\n",
       "    <tr>\n",
       "      <th>1</th>\n",
       "      <td>1991</td>\n",
       "      <td>16149.2</td>\n",
       "    </tr>\n",
       "    <tr>\n",
       "      <th>2</th>\n",
       "      <td>1992</td>\n",
       "      <td>15551.2</td>\n",
       "    </tr>\n",
       "    <tr>\n",
       "      <th>3</th>\n",
       "      <td>1993</td>\n",
       "      <td>24240.5</td>\n",
       "    </tr>\n",
       "    <tr>\n",
       "      <th>4</th>\n",
       "      <td>1994</td>\n",
       "      <td>37695.9</td>\n",
       "    </tr>\n",
       "    <tr>\n",
       "      <th>5</th>\n",
       "      <td>1995</td>\n",
       "      <td>33972.2</td>\n",
       "    </tr>\n",
       "    <tr>\n",
       "      <th>6</th>\n",
       "      <td>1996</td>\n",
       "      <td>49754.0</td>\n",
       "    </tr>\n",
       "    <tr>\n",
       "      <th>7</th>\n",
       "      <td>1997</td>\n",
       "      <td>30275.0</td>\n",
       "    </tr>\n",
       "    <tr>\n",
       "      <th>8</th>\n",
       "      <td>1998</td>\n",
       "      <td>71361.8</td>\n",
       "    </tr>\n",
       "    <tr>\n",
       "      <th>9</th>\n",
       "      <td>1999</td>\n",
       "      <td>74875.8</td>\n",
       "    </tr>\n",
       "  </tbody>\n",
       "</table>\n",
       "</div>"
      ],
      "text/plain": [
       "   Year   Domestic  Borrowing\n",
       "0   1990              13508.4\n",
       "1   1991              16149.2\n",
       "2   1992              15551.2\n",
       "3   1993              24240.5\n",
       "4   1994              37695.9\n",
       "5   1995              33972.2\n",
       "6   1996              49754.0\n",
       "7   1997              30275.0\n",
       "8   1998              71361.8\n",
       "9   1999              74875.8"
      ]
     },
     "execution_count": 2,
     "metadata": {},
     "output_type": "execute_result"
    }
   ],
   "source": [
    "#Importing the dataset\n",
    "df_domestic = pd.read_csv('C:\\\\Users\\\\PCView\\\\Desktop\\\\Research_code\\\\Research-Models\\\\Data\\\\Domestic_Borrowing.csv')\n",
    "df_domestic.head(10)"
   ]
  },
  {
   "cell_type": "markdown",
   "id": "012917a0",
   "metadata": {},
   "source": [
    "# 1. Exploring the dataset"
   ]
  },
  {
   "cell_type": "code",
   "execution_count": 3,
   "id": "b0a65c91",
   "metadata": {},
   "outputs": [
    {
     "data": {
      "text/plain": [
       "(32, 2)"
      ]
     },
     "execution_count": 3,
     "metadata": {},
     "output_type": "execute_result"
    }
   ],
   "source": [
    "df_domestic.shape"
   ]
  },
  {
   "cell_type": "code",
   "execution_count": 4,
   "id": "0f8203dc",
   "metadata": {},
   "outputs": [
    {
     "data": {
      "text/plain": [
       "Year                   0\n",
       "Domestic  Borrowing    0\n",
       "dtype: int64"
      ]
     },
     "execution_count": 4,
     "metadata": {},
     "output_type": "execute_result"
    }
   ],
   "source": [
    "df_domestic.isnull().sum()"
   ]
  },
  {
   "cell_type": "code",
   "execution_count": 5,
   "id": "da62ecb0",
   "metadata": {},
   "outputs": [
    {
     "name": "stdout",
     "output_type": "stream",
     "text": [
      "<class 'pandas.core.frame.DataFrame'>\n",
      "RangeIndex: 32 entries, 0 to 31\n",
      "Data columns (total 2 columns):\n",
      " #   Column               Non-Null Count  Dtype  \n",
      "---  ------               --------------  -----  \n",
      " 0   Year                 32 non-null     int64  \n",
      " 1   Domestic  Borrowing  32 non-null     float64\n",
      "dtypes: float64(1), int64(1)\n",
      "memory usage: 640.0 bytes\n"
     ]
    }
   ],
   "source": [
    "df_domestic.info()"
   ]
  },
  {
   "cell_type": "code",
   "execution_count": 6,
   "id": "8f237f3a",
   "metadata": {},
   "outputs": [
    {
     "data": {
      "text/plain": [
       "0"
      ]
     },
     "execution_count": 6,
     "metadata": {},
     "output_type": "execute_result"
    }
   ],
   "source": [
    "df_domestic.duplicated().sum()"
   ]
  },
  {
   "cell_type": "markdown",
   "id": "4efa9011",
   "metadata": {},
   "source": [
    "* There are no duplicate records in the dataset."
   ]
  },
  {
   "cell_type": "code",
   "execution_count": 7,
   "id": "157de031",
   "metadata": {},
   "outputs": [
    {
     "data": {
      "text/plain": [
       "0     1990\n",
       "1     1991\n",
       "2     1992\n",
       "3     1993\n",
       "4     1994\n",
       "5     1995\n",
       "6     1996\n",
       "7     1997\n",
       "8     1998\n",
       "9     1999\n",
       "10    2000\n",
       "11    2001\n",
       "12    2002\n",
       "13    2003\n",
       "14    2004\n",
       "15    2005\n",
       "16    2006\n",
       "17    2007\n",
       "18    2008\n",
       "19    2009\n",
       "20    2010\n",
       "21    2011\n",
       "22    2012\n",
       "23    2013\n",
       "24    2014\n",
       "25    2015\n",
       "26    2016\n",
       "27    2017\n",
       "28    2018\n",
       "29    2019\n",
       "30    2020\n",
       "31    2021\n",
       "Name: Year , dtype: int64"
      ]
     },
     "execution_count": 7,
     "metadata": {},
     "output_type": "execute_result"
    }
   ],
   "source": [
    "#Selecting only the necessary columns\n",
    "x = df_domestic['Year ']\n",
    "x"
   ]
  },
  {
   "cell_type": "code",
   "execution_count": 8,
   "id": "46d1eb10",
   "metadata": {},
   "outputs": [
    {
     "data": {
      "text/plain": [
       "0     1.350840e+04\n",
       "1     1.614920e+04\n",
       "2     1.555120e+04\n",
       "3     2.424050e+04\n",
       "4     3.769590e+04\n",
       "5     3.397220e+04\n",
       "6     4.975400e+04\n",
       "7     3.027500e+04\n",
       "8     7.136180e+04\n",
       "9     7.487580e+04\n",
       "10    1.185000e+05\n",
       "11    1.235950e+05\n",
       "12    1.263510e+05\n",
       "13    7.991100e+04\n",
       "14    1.172432e+05\n",
       "15    1.236040e+05\n",
       "16    1.638045e+05\n",
       "17    1.451373e+05\n",
       "18    3.142870e+05\n",
       "19    2.455540e+05\n",
       "20    2.022290e+05\n",
       "21    2.312240e+05\n",
       "22    2.025110e+05\n",
       "23    3.923900e+05\n",
       "24    3.787210e+05\n",
       "25    5.926991e+05\n",
       "26    2.484110e+05\n",
       "27    2.942510e+05\n",
       "28    4.372338e+05\n",
       "29    8.964480e+05\n",
       "30    1.750887e+06\n",
       "31    2.071826e+06\n",
       "Name: Domestic  Borrowing, dtype: float64"
      ]
     },
     "execution_count": 8,
     "metadata": {},
     "output_type": "execute_result"
    }
   ],
   "source": [
    "y = df_domestic['Domestic  Borrowing']\n",
    "y"
   ]
  },
  {
   "cell_type": "markdown",
   "id": "cc6eb50d",
   "metadata": {},
   "source": [
    "# 2. Preprocessing"
   ]
  },
  {
   "cell_type": "code",
   "execution_count": 9,
   "id": "12716fba",
   "metadata": {},
   "outputs": [
    {
     "data": {
      "text/plain": [
       "Year                   0\n",
       "Domestic  Borrowing    0\n",
       "dtype: int64"
      ]
     },
     "execution_count": 9,
     "metadata": {},
     "output_type": "execute_result"
    }
   ],
   "source": [
    "df_domestic.isnull().sum()"
   ]
  },
  {
   "cell_type": "code",
   "execution_count": 10,
   "id": "3146f2c6",
   "metadata": {},
   "outputs": [
    {
     "data": {
      "text/plain": [
       "Year                     int64\n",
       "Domestic  Borrowing    float64\n",
       "dtype: object"
      ]
     },
     "execution_count": 10,
     "metadata": {},
     "output_type": "execute_result"
    }
   ],
   "source": [
    "df_domestic.dtypes"
   ]
  },
  {
   "cell_type": "code",
   "execution_count": 11,
   "id": "863608ea",
   "metadata": {},
   "outputs": [
    {
     "data": {
      "text/plain": [
       "[<matplotlib.lines.Line2D at 0x147d848dc10>]"
      ]
     },
     "execution_count": 11,
     "metadata": {},
     "output_type": "execute_result"
    },
    {
     "data": {
      "image/png": "[encoded data removed]",
      "text/plain": [
       "<Figure size 640x480 with 1 Axes>"
      ]
     },
     "metadata": {},
     "output_type": "display_data"
    }
   ],
   "source": [
    "plt.plot(df_domestic['Year '],df_domestic['Domestic  Borrowing'])"
   ]
  },
  {
   "cell_type": "markdown",
   "id": "c81dea18",
   "metadata": {},
   "source": [
    "* Since the columns from 1950 to 1995 doesnt have the real domestic values they are removed."
   ]
  },
  {
   "cell_type": "code",
   "execution_count": 12,
   "id": "c483af6c",
   "metadata": {},
   "outputs": [
    {
     "name": "stdout",
     "output_type": "stream",
     "text": [
      "False\n"
     ]
    }
   ],
   "source": [
    "is_year_index = 'Year ' in df_domestic.index.names\n",
    "print(is_year_index)"
   ]
  },
  {
   "cell_type": "code",
   "execution_count": 13,
   "id": "fc882749",
   "metadata": {},
   "outputs": [],
   "source": [
    "df_domestic.reset_index(inplace=True)"
   ]
  },
  {
   "cell_type": "code",
   "execution_count": 14,
   "id": "e228065f",
   "metadata": {},
   "outputs": [
    {
     "data": {
      "text/plain": [
       "index                    int64\n",
       "Year                     int64\n",
       "Domestic  Borrowing    float64\n",
       "dtype: object"
      ]
     },
     "execution_count": 14,
     "metadata": {},
     "output_type": "execute_result"
    }
   ],
   "source": [
    "df_domestic.dtypes"
   ]
  },
  {
   "cell_type": "markdown",
   "id": "c686f5c2",
   "metadata": {},
   "source": [
    "## 2.1 Quarterly Decomposing Data"
   ]
  },
  {
   "cell_type": "code",
   "execution_count": 15,
   "id": "1dab5968",
   "metadata": {},
   "outputs": [],
   "source": [
    "#Converting the year column into datetime format\n",
    "df_domestic['Year '] = pd.to_datetime(df_domestic['Year ' ], format='%Y')\n",
    "\n",
    "#Setting the Year column as the index\n",
    "df_domestic.set_index('Year ', inplace=True)\n",
    "\n",
    "#Resampling the data to quarterly frequency and interpolate missing values\n",
    "quarterly_data = df_domestic.resample('Q').mean().interpolate()\n",
    "\n",
    "#Performaing seasonal decomposition\n",
    "result = seasonal_decompose(quarterly_data['Domestic  Borrowing'], model='additive', period=4)\n",
    "\n",
    "#Extracting the trend, seasonal, and residual components\n",
    "trend = result.trend\n",
    "seasonal = result.seasonal\n",
    "residual = result.resid\n",
    "\n",
    "#Creating a dataframe with the decomposed components\n",
    "quarterly_decomposition = pd.DataFrame({'Trend':trend,'Seasonal':seasonal,'Residual':residual})\n",
    "\n",
    "#Adjust the seasonal component to have the same length as the original data\n",
    "adjusted_seasonal = quarterly_decomposition['Seasonal'].repeat(1)[:len(quarterly_data)]\n",
    "\n",
    "#Subtract the adjusted seasonal component from the original data\n",
    "adjusted_data = quarterly_data['Domestic  Borrowing'] - adjusted_seasonal\n",
    "\n",
    "#Creating a dataframe with the adjusted data\n",
    "adjusted_quarterly_data = pd.DataFrame({'DomesticDebt_adjust':adjusted_data})"
   ]
  },
  {
   "cell_type": "code",
   "execution_count": 16,
   "id": "1def7844",
   "metadata": {},
   "outputs": [],
   "source": [
    "#Exporting the quarterly divided dataset\n",
    "adjusted_quarterly_data.to_csv('C:\\\\Users\\\\PCView\\\\Desktop\\\\Research_code\\\\Research-Models\\\\Data\\\\quarter_data_domestic.csv')"
   ]
  },
  {
   "cell_type": "markdown",
   "id": "425ceda5",
   "metadata": {},
   "source": [
    "# 3. Building the model"
   ]
  },
  {
   "cell_type": "markdown",
   "id": "b2691db8",
   "metadata": {},
   "source": [
    "* First we are trying to fit the data to an ARIMA model but before fitting an ARIMA model we should check whether the data is stationary and whether the data exhibit any seasonality."
   ]
  },
  {
   "cell_type": "code",
   "execution_count": 17,
   "id": "d6a48425",
   "metadata": {},
   "outputs": [
    {
     "data": {
      "text/html": [
       "<div>\n",
       "<style scoped>\n",
       "    .dataframe tbody tr th:only-of-type {\n",
       "        vertical-align: middle;\n",
       "    }\n",
       "\n",
       "    .dataframe tbody tr th {\n",
       "        vertical-align: top;\n",
       "    }\n",
       "\n",
       "    .dataframe thead th {\n",
       "        text-align: right;\n",
       "    }\n",
       "</style>\n",
       "<table border=\"1\" class=\"dataframe\">\n",
       "  <thead>\n",
       "    <tr style=\"text-align: right;\">\n",
       "      <th></th>\n",
       "      <th>Year</th>\n",
       "      <th>DomesticDebt_adjust</th>\n",
       "    </tr>\n",
       "  </thead>\n",
       "  <tbody>\n",
       "    <tr>\n",
       "      <th>0</th>\n",
       "      <td>1990-03-31</td>\n",
       "      <td>14337.301563</td>\n",
       "    </tr>\n",
       "    <tr>\n",
       "      <th>1</th>\n",
       "      <td>1990-06-30</td>\n",
       "      <td>14002.819688</td>\n",
       "    </tr>\n",
       "    <tr>\n",
       "      <th>2</th>\n",
       "      <td>1990-09-30</td>\n",
       "      <td>14331.459062</td>\n",
       "    </tr>\n",
       "    <tr>\n",
       "      <th>3</th>\n",
       "      <td>1990-12-31</td>\n",
       "      <td>15323.219687</td>\n",
       "    </tr>\n",
       "    <tr>\n",
       "      <th>4</th>\n",
       "      <td>1991-03-31</td>\n",
       "      <td>16978.101563</td>\n",
       "    </tr>\n",
       "    <tr>\n",
       "      <th>5</th>\n",
       "      <td>1991-06-30</td>\n",
       "      <td>15833.919688</td>\n",
       "    </tr>\n",
       "    <tr>\n",
       "      <th>6</th>\n",
       "      <td>1991-09-30</td>\n",
       "      <td>15352.859062</td>\n",
       "    </tr>\n",
       "    <tr>\n",
       "      <th>7</th>\n",
       "      <td>1991-12-31</td>\n",
       "      <td>15534.919687</td>\n",
       "    </tr>\n",
       "    <tr>\n",
       "      <th>8</th>\n",
       "      <td>1992-03-31</td>\n",
       "      <td>16380.101563</td>\n",
       "    </tr>\n",
       "    <tr>\n",
       "      <th>9</th>\n",
       "      <td>1992-06-30</td>\n",
       "      <td>17557.744688</td>\n",
       "    </tr>\n",
       "  </tbody>\n",
       "</table>\n",
       "</div>"
      ],
      "text/plain": [
       "        Year   DomesticDebt_adjust\n",
       "0  1990-03-31         14337.301563\n",
       "1  1990-06-30         14002.819688\n",
       "2  1990-09-30         14331.459062\n",
       "3  1990-12-31         15323.219687\n",
       "4  1991-03-31         16978.101563\n",
       "5  1991-06-30         15833.919688\n",
       "6  1991-09-30         15352.859062\n",
       "7  1991-12-31         15534.919687\n",
       "8  1992-03-31         16380.101563\n",
       "9  1992-06-30         17557.744688"
      ]
     },
     "execution_count": 17,
     "metadata": {},
     "output_type": "execute_result"
    }
   ],
   "source": [
    "#Importing the quartely divided dataset\n",
    "quarter_dom = pd.read_csv('C:\\\\Users\\\\PCView\\\\Desktop\\\\Research_code\\\\Research-Models\\\\Data\\\\quarter_data_domestic.csv')\n",
    "quarter_dom.head(10)"
   ]
  },
  {
   "cell_type": "code",
   "execution_count": 18,
   "id": "0c65bfe9",
   "metadata": {},
   "outputs": [
    {
     "data": {
      "text/plain": [
       "[<matplotlib.lines.Line2D at 0x147d85305e0>]"
      ]
     },
     "execution_count": 18,
     "metadata": {},
     "output_type": "execute_result"
    },
    {
     "data": {
      "image/png": "[encoded data removed]",
      "text/plain": [
       "<Figure size 640x480 with 1 Axes>"
      ]
     },
     "metadata": {},
     "output_type": "display_data"
    }
   ],
   "source": [
    "plt.plot(quarter_dom['DomesticDebt_adjust'])"
   ]
  },
  {
   "cell_type": "markdown",
   "id": "040636b5",
   "metadata": {},
   "source": [
    "## 3.1 Checking for statonarity of data"
   ]
  },
  {
   "cell_type": "markdown",
   "id": "2384d259",
   "metadata": {},
   "source": [
    "* To check for the data statinarity we will be using the Adfuller test."
   ]
  },
  {
   "cell_type": "markdown",
   "id": "bb4f65e9",
   "metadata": {},
   "source": [
    "**Hypothesis**\n",
    "\n",
    "H0: Data is not stationary vs H1: Data is stationary."
   ]
  },
  {
   "cell_type": "code",
   "execution_count": 19,
   "id": "a58f9c7a",
   "metadata": {},
   "outputs": [
    {
     "name": "stdout",
     "output_type": "stream",
     "text": [
      "ADF Statistic: 0.671737\n",
      "p-value: 0.989257\n",
      "Critical Values:\n",
      "\t1%: -3.487\n",
      "\t5%: -2.886\n",
      "\t10%: -2.580\n"
     ]
    }
   ],
   "source": [
    "#Performing the test\n",
    "result = adfuller(quarter_dom['DomesticDebt_adjust'])\n",
    "print('ADF Statistic: %f' % result[0])\n",
    "print('p-value: %f' % result[1])\n",
    "print('Critical Values:')\n",
    "for key, value in result[4].items():\n",
    "    print('\\t%s: %.3f' % (key, value))"
   ]
  },
  {
   "cell_type": "markdown",
   "id": "e1ccdb0b",
   "metadata": {},
   "source": [
    "* When p-value is greater than alpha(0.05) we do not reject H0."
   ]
  },
  {
   "cell_type": "markdown",
   "id": "f236282e",
   "metadata": {},
   "source": [
    "* The result from the adfuller test is p-value(0.989345) which is greater than alpha(0.05) so we do not reject H0 at 5% significance level. Therefore we conclude that at 5% significance level we have enough evidence to conclude that the data is not stationary."
   ]
  },
  {
   "cell_type": "code",
   "execution_count": 20,
   "id": "8efc2da6",
   "metadata": {},
   "outputs": [
    {
     "data": {
      "image/png": "[encoded data removed]",
      "text/plain": [
       "<Figure size 640x480 with 6 Axes>"
      ]
     },
     "metadata": {},
     "output_type": "display_data"
    }
   ],
   "source": [
    "# Original Series\n",
    "fig, axes = plt.subplots(3, 2, sharex=True)\n",
    "axes[0, 0].plot(quarter_dom.DomesticDebt_adjust); axes[0, 0].set_title('Original Series')\n",
    "plot_acf(quarter_dom.DomesticDebt_adjust, ax=axes[0, 1])\n",
    "\n",
    "# 1st Differencing\n",
    "axes[1, 0].plot(quarter_dom.DomesticDebt_adjust.diff()); axes[1, 0].set_title('1st Order Differencing')\n",
    "plot_acf(quarter_dom.DomesticDebt_adjust.diff().dropna(), ax=axes[1, 1])\n",
    "\n",
    "# 2nd Differencing\n",
    "axes[2, 0].plot(quarter_dom.DomesticDebt_adjust.diff().diff()); axes[2, 0].set_title('2nd Order Differencing')\n",
    "plot_acf(quarter_dom.DomesticDebt_adjust.diff().diff().dropna(), ax=axes[2, 1])\n",
    "\n",
    "# 3rd Differencing\n",
    "plt.show()"
   ]
  },
  {
   "cell_type": "code",
   "execution_count": 21,
   "id": "c60399aa",
   "metadata": {},
   "outputs": [
    {
     "data": {
      "image/png": "[encoded data removed]",
      "text/plain": [
       "<Figure size 640x480 with 1 Axes>"
      ]
     },
     "execution_count": 21,
     "metadata": {},
     "output_type": "execute_result"
    },
    {
     "data": {
      "image/png": "[encoded data removed]",
      "text/plain": [
       "<Figure size 640x480 with 1 Axes>"
      ]
     },
     "metadata": {},
     "output_type": "display_data"
    }
   ],
   "source": [
    "plot_acf(quarter_dom.DomesticDebt_adjust.diff().diff().dropna())"
   ]
  },
  {
   "cell_type": "code",
   "execution_count": 22,
   "id": "af13e75e",
   "metadata": {},
   "outputs": [
    {
     "data": {
      "image/png": "[encoded data removed]",
      "text/plain": [
       "<Figure size 640x480 with 1 Axes>"
      ]
     },
     "execution_count": 22,
     "metadata": {},
     "output_type": "execute_result"
    },
    {
     "data": {
      "image/png": "[encoded data removed]",
      "text/plain": [
       "<Figure size 640x480 with 1 Axes>"
      ]
     },
     "metadata": {},
     "output_type": "display_data"
    }
   ],
   "source": [
    "plot_pacf(quarter_dom.DomesticDebt_adjust.diff().diff().dropna())"
   ]
  },
  {
   "cell_type": "markdown",
   "id": "fee63b51",
   "metadata": {},
   "source": [
    "c"
   ]
  },
  {
   "cell_type": "markdown",
   "id": "423d7b26",
   "metadata": {},
   "source": [
    "## 3.2 Checking for seasonality in data"
   ]
  },
  {
   "cell_type": "markdown",
   "id": "bffb7891",
   "metadata": {},
   "source": [
    "* To check for seasonality in the data we will use the seasonality plot."
   ]
  },
  {
   "cell_type": "markdown",
   "id": "5560c788",
   "metadata": {},
   "source": [
    "# Perform seasonal decomposition using moving averages\n",
    "decomposition = seasonal_decompose(quarter_dom['DomesticDebt_adjust'], model='multiplicative', period=12)\n",
    "\n",
    "# Plot the seasonal decomposition\n",
    "fig = decomposition.plot()"
   ]
  },
  {
   "cell_type": "markdown",
   "id": "7773c01d",
   "metadata": {},
   "source": [
    "* There is a seasonal component in the dataset because we can see that the \"Seasonal\" graph from the above plots do not give a flat line."
   ]
  },
  {
   "cell_type": "markdown",
   "id": "ba218c35",
   "metadata": {},
   "source": [
    "* Since our data exhibits a seasonality we cannot use the ARIMA model."
   ]
  },
  {
   "cell_type": "markdown",
   "id": "734dc531",
   "metadata": {},
   "source": [
    "* Next we will check whether we can use a SARIMA model to fit these data."
   ]
  },
  {
   "cell_type": "code",
   "execution_count": 23,
   "id": "a1922d75",
   "metadata": {},
   "outputs": [
    {
     "name": "stdout",
     "output_type": "stream",
     "text": [
      "True\n"
     ]
    }
   ],
   "source": [
    "quarter_dom=quarter_dom.set_index('Year ')\n",
    "is_year_index = 'Year ' in quarter_dom.index.names\n",
    "print(is_year_index)"
   ]
  },
  {
   "cell_type": "code",
   "execution_count": 24,
   "id": "fb184f3e",
   "metadata": {},
   "outputs": [],
   "source": [
    "# Split the data into training and testing sets\n",
    "train_data,test_data = train_test_split(quarter_dom, train_size=0.8,random_state=42)"
   ]
  },
  {
   "cell_type": "code",
   "execution_count": 25,
   "id": "d6665ce4",
   "metadata": {},
   "outputs": [],
   "source": [
    "# Standardize features\n",
    "scaler = StandardScaler()\n",
    "train_scaled = scaler.fit_transform(train_data)\n",
    "test_scaled = scaler.fit_transform(test_data)"
   ]
  },
  {
   "cell_type": "markdown",
   "id": "0adf861b",
   "metadata": {},
   "source": [
    "### 3.2.1 SARIMA Model"
   ]
  },
  {
   "cell_type": "markdown",
   "id": "4e2de852",
   "metadata": {},
   "source": [
    "#### 3.2.1.1 Finding the optimum parameters for SARIMA model"
   ]
  },
  {
   "cell_type": "markdown",
   "id": "19d3bdb1",
   "metadata": {},
   "source": [
    "# Using auto_arima to find the optimum values\n",
    "model = auto_arima(quarter_dom.DomesticDebt_adjust.diff().diff().dropna(), seasonal=True, m=4, trace=True)\n",
    "\n",
    "\n",
    "# Get the recommended SARIMA parameters\n",
    "order = model.order\n",
    "seasonal_order = model.seasonal_order\n",
    "\n",
    "print(\"Recommended SARIMA parameters:\")\n",
    "print(\"Order:\", order)\n",
    "print(\"Seasonal Order:\", seasonal_order)"
   ]
  },
  {
   "cell_type": "code",
   "execution_count": 26,
   "id": "68c3338b",
   "metadata": {
    "scrolled": true
   },
   "outputs": [],
   "source": [
    "# Refit the SARIMAX model using the best parameters\n",
    "p = 2\n",
    "d = 2\n",
    "q = 1\n",
    "#model = sm.tsa.SARIMAX(train_scaled, order=order, seasonal_order=seasonal_order)\n",
    "model = ARIMA(train_scaled, order=(p, d, q))\n",
    "\n",
    "ARIMA_model = model.fit()"
   ]
  },
  {
   "cell_type": "code",
   "execution_count": 27,
   "id": "569f27ff",
   "metadata": {},
   "outputs": [
    {
     "name": "stdout",
     "output_type": "stream",
     "text": [
      "                               SARIMAX Results                                \n",
      "==============================================================================\n",
      "Dep. Variable:                      y   No. Observations:                  100\n",
      "Model:                 ARIMA(2, 2, 1)   Log Likelihood                -155.601\n",
      "Date:                Mon, 30 Oct 2023   AIC                            319.202\n",
      "Time:                        10:22:15   BIC                            329.542\n",
      "Sample:                             0   HQIC                           323.384\n",
      "                                - 100                                         \n",
      "Covariance Type:                  opg                                         \n",
      "==============================================================================\n",
      "                 coef    std err          z      P>|z|      [0.025      0.975]\n",
      "------------------------------------------------------------------------------\n",
      "ar.L1         -0.8007      0.084     -9.564      0.000      -0.965      -0.637\n",
      "ar.L2         -0.4069      0.069     -5.867      0.000      -0.543      -0.271\n",
      "ma.L1         -0.9998     16.687     -0.060      0.952     -33.705      31.705\n",
      "sigma2         1.3063     21.721      0.060      0.952     -41.267      43.879\n",
      "===================================================================================\n",
      "Ljung-Box (L1) (Q):                   1.81   Jarque-Bera (JB):               123.94\n",
      "Prob(Q):                              0.18   Prob(JB):                         0.00\n",
      "Heteroskedasticity (H):               1.69   Skew:                             1.75\n",
      "Prob(H) (two-sided):                  0.14   Kurtosis:                         7.26\n",
      "===================================================================================\n",
      "\n",
      "Warnings:\n",
      "[1] Covariance matrix calculated using the outer product of gradients (complex-step).\n"
     ]
    }
   ],
   "source": [
    "print(ARIMA_model.summary())"
   ]
  },
  {
   "cell_type": "code",
   "execution_count": 28,
   "id": "4c83a2ce",
   "metadata": {},
   "outputs": [],
   "source": [
    "#df_domestic = df_domestic.set_index('Year')"
   ]
  },
  {
   "cell_type": "markdown",
   "id": "07c5e895",
   "metadata": {},
   "source": [
    "#### 3.2.1.2 Making predictions to check model accuracy"
   ]
  },
  {
   "cell_type": "code",
   "execution_count": 29,
   "id": "6a0f54f9",
   "metadata": {},
   "outputs": [
    {
     "data": {
      "text/plain": [
       "<statsmodels.tsa.statespace.mlemodel.PredictionResultsWrapper at 0x147c52769d0>"
      ]
     },
     "execution_count": 29,
     "metadata": {},
     "output_type": "execute_result"
    }
   ],
   "source": [
    "#Making predcitions and checking the model accuracy\n",
    "forecast = ARIMA_model.get_forecast(steps=len(test_scaled))\n",
    "forecast"
   ]
  },
  {
   "cell_type": "code",
   "execution_count": 30,
   "id": "00438605",
   "metadata": {},
   "outputs": [
    {
     "data": {
      "text/plain": [
       "array([-0.00278543, -0.05261632,  0.13343462,  0.01631607,  0.04595667,\n",
       "        0.08145675,  0.05254434,  0.07282238,  0.07992523,  0.07756029,\n",
       "        0.08813757,  0.0922048 ,  0.09621801,  0.10292362,  0.10749541,\n",
       "        0.11268013,  0.11824239,  0.12325294,  0.1285516 ,  0.13384409,\n",
       "        0.13902427,  0.14429689,  0.1495412 ,  0.15477056,  0.16002341])"
      ]
     },
     "execution_count": 30,
     "metadata": {},
     "output_type": "execute_result"
    }
   ],
   "source": [
    "# Convert the forecast to a NumPy array or pandas Series\n",
    "forecast_values = forecast.predicted_mean\n",
    "forecast_values"
   ]
  },
  {
   "cell_type": "code",
   "execution_count": 31,
   "id": "82ceaa0e",
   "metadata": {},
   "outputs": [],
   "source": [
    "#y_predictions_original_scale = scaler.inverse_transform([forecast])"
   ]
  },
  {
   "cell_type": "code",
   "execution_count": 32,
   "id": "c55671c5",
   "metadata": {},
   "outputs": [],
   "source": [
    "#y_predictions_original_scale"
   ]
  },
  {
   "cell_type": "code",
   "execution_count": 33,
   "id": "f3f7a7c5",
   "metadata": {},
   "outputs": [
    {
     "data": {
      "text/plain": [
       "(25, 1)"
      ]
     },
     "execution_count": 33,
     "metadata": {},
     "output_type": "execute_result"
    }
   ],
   "source": [
    "test_scaled.shape"
   ]
  },
  {
   "cell_type": "code",
   "execution_count": 34,
   "id": "0dbdb337",
   "metadata": {},
   "outputs": [
    {
     "data": {
      "text/plain": [
       "array([[-0.57301368],\n",
       "       [-0.36705489],\n",
       "       [-0.47544525],\n",
       "       [-0.06292027],\n",
       "       [-0.44312166],\n",
       "       [ 0.17484137],\n",
       "       [-0.37304429],\n",
       "       [ 4.15480432],\n",
       "       [ 0.28131517],\n",
       "       [-0.61738598],\n",
       "       [-0.57387833],\n",
       "       [ 1.51027438],\n",
       "       [-0.35769215],\n",
       "       [ 0.25894106],\n",
       "       [-0.57446233],\n",
       "       [-0.09150325],\n",
       "       [-0.61153592],\n",
       "       [ 0.56568282],\n",
       "       [-0.60548409],\n",
       "       [ 0.95211426],\n",
       "       [-0.35510038],\n",
       "       [-0.11848349],\n",
       "       [-0.62376873],\n",
       "       [-0.56290964],\n",
       "       [-0.51116906]])"
      ]
     },
     "execution_count": 34,
     "metadata": {},
     "output_type": "execute_result"
    }
   ],
   "source": [
    "test_scaled"
   ]
  },
  {
   "cell_type": "markdown",
   "id": "74cb4c94",
   "metadata": {},
   "source": [
    "* The full dataset was used to make predictions to find the model accuracy."
   ]
  },
  {
   "cell_type": "code",
   "execution_count": 35,
   "id": "c3c4aaff",
   "metadata": {},
   "outputs": [
    {
     "data": {
      "text/plain": [
       "array([[-0.00278543],\n",
       "       [-0.05261632],\n",
       "       [ 0.13343462],\n",
       "       [ 0.01631607],\n",
       "       [ 0.04595667],\n",
       "       [ 0.08145675],\n",
       "       [ 0.05254434],\n",
       "       [ 0.07282238],\n",
       "       [ 0.07992523],\n",
       "       [ 0.07756029],\n",
       "       [ 0.08813757],\n",
       "       [ 0.0922048 ],\n",
       "       [ 0.09621801],\n",
       "       [ 0.10292362],\n",
       "       [ 0.10749541],\n",
       "       [ 0.11268013],\n",
       "       [ 0.11824239],\n",
       "       [ 0.12325294],\n",
       "       [ 0.1285516 ],\n",
       "       [ 0.13384409],\n",
       "       [ 0.13902427],\n",
       "       [ 0.14429689],\n",
       "       [ 0.1495412 ],\n",
       "       [ 0.15477056],\n",
       "       [ 0.16002341]])"
      ]
     },
     "execution_count": 35,
     "metadata": {},
     "output_type": "execute_result"
    }
   ],
   "source": [
    "forecast_values.reshape(-1, 1)"
   ]
  },
  {
   "cell_type": "code",
   "execution_count": 36,
   "id": "04d17e21",
   "metadata": {},
   "outputs": [
    {
     "data": {
      "text/plain": [
       "(25,)"
      ]
     },
     "execution_count": 36,
     "metadata": {},
     "output_type": "execute_result"
    }
   ],
   "source": [
    "forecast_values.shape"
   ]
  },
  {
   "cell_type": "code",
   "execution_count": 37,
   "id": "641ef00a",
   "metadata": {},
   "outputs": [
    {
     "data": {
      "text/plain": [
       "array([[-0.57301368],\n",
       "       [-0.36705489],\n",
       "       [-0.47544525],\n",
       "       [-0.06292027],\n",
       "       [-0.44312166],\n",
       "       [ 0.17484137],\n",
       "       [-0.37304429],\n",
       "       [ 4.15480432],\n",
       "       [ 0.28131517],\n",
       "       [-0.61738598],\n",
       "       [-0.57387833],\n",
       "       [ 1.51027438],\n",
       "       [-0.35769215],\n",
       "       [ 0.25894106],\n",
       "       [-0.57446233],\n",
       "       [-0.09150325],\n",
       "       [-0.61153592],\n",
       "       [ 0.56568282],\n",
       "       [-0.60548409],\n",
       "       [ 0.95211426],\n",
       "       [-0.35510038],\n",
       "       [-0.11848349],\n",
       "       [-0.62376873],\n",
       "       [-0.56290964],\n",
       "       [-0.51116906]])"
      ]
     },
     "execution_count": 37,
     "metadata": {},
     "output_type": "execute_result"
    }
   ],
   "source": [
    "test_scaled"
   ]
  },
  {
   "cell_type": "code",
   "execution_count": 38,
   "id": "4a838c1b",
   "metadata": {},
   "outputs": [
    {
     "name": "stdout",
     "output_type": "stream",
     "text": [
      "MAE: 0.6711563480835078\n",
      "MSE: 1.0166389396963487\n",
      "RMSE: 1.0082851480094055\n",
      "MAPE: 118.56481355389275\n"
     ]
    }
   ],
   "source": [
    "#Calculating the mean absolute error (MAE)\n",
    "mae = mean_absolute_error(test_scaled, forecast_values)\n",
    "\n",
    "#Calculating the mean squared error (MSE)\n",
    "mse = mean_squared_error(test_scaled, forecast_values)\n",
    "\n",
    "#Calculating the root mean squared error (RMSE)\n",
    "rmse = np.sqrt(mse)\n",
    "\n",
    "#Calculating the mean absolute percentage error (MAPE)\n",
    "mape = np.mean(np.abs((test_scaled - forecast_values) / test_scaled)) * 100\n",
    "\n",
    "\n",
    "# Printing the calculated metrics\n",
    "print(\"MAE:\", mae)\n",
    "print(\"MSE:\", mse)\n",
    "print(\"RMSE:\", rmse)\n",
    "print(\"MAPE:\", mape)"
   ]
  },
  {
   "cell_type": "markdown",
   "id": "eb0495f8",
   "metadata": {},
   "source": [
    "#### 3.2.1.3 Making predictions from the SARIMA model"
   ]
  },
  {
   "cell_type": "code",
   "execution_count": 39,
   "id": "9b1458ee",
   "metadata": {},
   "outputs": [
    {
     "data": {
      "text/plain": [
       "array([-0.00278543, -0.05261632,  0.13343462,  0.01631607,  0.04595667,\n",
       "        0.08145675,  0.05254434,  0.07282238,  0.07992523,  0.07756029,\n",
       "        0.08813757,  0.0922048 ,  0.09621801,  0.10292362,  0.10749541,\n",
       "        0.11268013,  0.11824239,  0.12325294,  0.1285516 ,  0.13384409,\n",
       "        0.13902427,  0.14429689,  0.1495412 ,  0.15477056,  0.16002341,\n",
       "        0.16526354,  0.17050429,  0.17574972])"
      ]
     },
     "execution_count": 39,
     "metadata": {},
     "output_type": "execute_result"
    }
   ],
   "source": [
    "# Making predictions\n",
    "start_date = '2021'\n",
    "end_date = '2028'\n",
    "date_range = pd.date_range(start=start_date, end=end_date,freq='Q')\n",
    "forecast1 = ARIMA_model.forecast(steps=len(date_range))\n",
    "forecast1"
   ]
  },
  {
   "cell_type": "code",
   "execution_count": 40,
   "id": "88647020",
   "metadata": {},
   "outputs": [
    {
     "data": {
      "text/plain": [
       "array([[271263.10890698, 250646.06266294, 327622.83123309,\n",
       "        279166.16771787, 291429.6785349 , 306117.48970724,\n",
       "        294155.26198324, 302545.10356734, 305483.8373946 ,\n",
       "        304505.36971025, 308881.61514972, 310564.39075404,\n",
       "        312224.82033449, 314999.19817916, 316890.73487653,\n",
       "        319035.85947846, 321337.19241243, 323410.25715442,\n",
       "        325602.52944566, 327792.24203605, 329935.49494438,\n",
       "        332116.98957688, 334286.77007257, 336450.36830007,\n",
       "        338623.6834911 , 340791.73409927, 342960.0459084 ,\n",
       "        345130.29089585]])"
      ]
     },
     "execution_count": 40,
     "metadata": {},
     "output_type": "execute_result"
    }
   ],
   "source": [
    "original_predictions = scaler.inverse_transform([forecast1])\n",
    "original_predictions"
   ]
  },
  {
   "cell_type": "code",
   "execution_count": null,
   "id": "0ee92e66",
   "metadata": {},
   "outputs": [],
   "source": []
  }
 ],
 "metadata": {
  "kernelspec": {
   "display_name": "Python 3 (ipykernel)",
   "language": "python",
   "name": "python3"
  },
  "language_info": {
   "codemirror_mode": {
    "name": "ipython",
    "version": 3
   },
   "file_extension": ".py",
   "mimetype": "text/x-python",
   "name": "python",
   "nbconvert_exporter": "python",
   "pygments_lexer": "ipython3",
   "version": "3.9.18"
  }
 },
 "nbformat": 4,
 "nbformat_minor": 5
}
