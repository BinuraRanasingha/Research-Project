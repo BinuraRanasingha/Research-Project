{
  "cells": [
    {
      "cell_type": "code",
      "execution_count": null,
      "metadata": {
        "id": "HLr4BoNndkvz"
      },
      "outputs": [],
      "source": [
        "import pandas as pd\n",
        "import numpy as np\n",
        "import matplotlib.pyplot as plt\n",
        "import seaborn as sns"
      ]
    },
    {
      "cell_type": "code",
      "execution_count": null,
      "metadata": {
        "colab": {
          "base_uri": "https://localhost:8080/"
        },
        "id": "BwCh1mGPdw9B",
        "outputId": "b6b053cc-3a9b-4b05-85c5-251089be317b"
      },
      "outputs": [
        {
          "output_type": "stream",
          "name": "stdout",
          "text": [
            "/content/drive/MyDrive/FIGMA/RP\n"
          ]
        }
      ],
      "source": [
        "%cd drive/MyDrive/FIGMA/RP/"
      ]
    },
    {
      "cell_type": "code",
      "execution_count": null,
      "metadata": {
        "id": "C8Ko_hjAd0J7"
      },
      "outputs": [],
      "source": [
        "df=pd.read_csv('borrwoings-1960-2022.csv')\n",
        "df=df.drop(columns={\"Unnamed: 0\"})"
      ]
    },
    {
      "cell_type": "code",
      "execution_count": null,
      "metadata": {
        "colab": {
          "base_uri": "https://localhost:8080/",
          "height": 206
        },
        "id": "m5Hmqrlyd8Pz",
        "outputId": "e7d29002-1f52-4623-cd6b-22e5f95eb75a"
      },
      "outputs": [
        {
          "output_type": "execute_result",
          "data": {
            "text/plain": [
              "         Year  ExternalDebt_Adjusted\n",
              "0  1960-03-31           1.406432e+09\n",
              "1  1960-06-30           1.406581e+09\n",
              "2  1960-09-30           1.406730e+09\n",
              "3  1960-12-31           1.406878e+09\n",
              "4  1961-03-31           1.407026e+09"
            ],
            "text/html": [
              "\n",
              "  <div id=\"df-a853ec92-0cb5-4c98-bfa2-d71ab00a80b0\">\n",
              "    <div class=\"colab-df-container\">\n",
              "      <div>\n",
              "<style scoped>\n",
              "    .dataframe tbody tr th:only-of-type {\n",
              "        vertical-align: middle;\n",
              "    }\n",
              "\n",
              "    .dataframe tbody tr th {\n",
              "        vertical-align: top;\n",
              "    }\n",
              "\n",
              "    .dataframe thead th {\n",
              "        text-align: right;\n",
              "    }\n",
              "</style>\n",
              "<table border=\"1\" class=\"dataframe\">\n",
              "  <thead>\n",
              "    <tr style=\"text-align: right;\">\n",
              "      <th></th>\n",
              "      <th>Year</th>\n",
              "      <th>ExternalDebt_Adjusted</th>\n",
              "    </tr>\n",
              "  </thead>\n",
              "  <tbody>\n",
              "    <tr>\n",
              "      <th>0</th>\n",
              "      <td>1960-03-31</td>\n",
              "      <td>1.406432e+09</td>\n",
              "    </tr>\n",
              "    <tr>\n",
              "      <th>1</th>\n",
              "      <td>1960-06-30</td>\n",
              "      <td>1.406581e+09</td>\n",
              "    </tr>\n",
              "    <tr>\n",
              "      <th>2</th>\n",
              "      <td>1960-09-30</td>\n",
              "      <td>1.406730e+09</td>\n",
              "    </tr>\n",
              "    <tr>\n",
              "      <th>3</th>\n",
              "      <td>1960-12-31</td>\n",
              "      <td>1.406878e+09</td>\n",
              "    </tr>\n",
              "    <tr>\n",
              "      <th>4</th>\n",
              "      <td>1961-03-31</td>\n",
              "      <td>1.407026e+09</td>\n",
              "    </tr>\n",
              "  </tbody>\n",
              "</table>\n",
              "</div>\n",
              "      <button class=\"colab-df-convert\" onclick=\"convertToInteractive('df-a853ec92-0cb5-4c98-bfa2-d71ab00a80b0')\"\n",
              "              title=\"Convert this dataframe to an interactive table.\"\n",
              "              style=\"display:none;\">\n",
              "        \n",
              "  <svg xmlns=\"http://www.w3.org/2000/svg\" height=\"24px\"viewBox=\"0 0 24 24\"\n",
              "       width=\"24px\">\n",
              "    <path d=\"M0 0h24v24H0V0z\" fill=\"none\"/>\n",
              "    <path d=\"M18.56 5.44l.94 2.06.94-2.06 2.06-.94-2.06-.94-.94-2.06-.94 2.06-2.06.94zm-11 1L8.5 8.5l.94-2.06 2.06-.94-2.06-.94L8.5 2.5l-.94 2.06-2.06.94zm10 10l.94 2.06.94-2.06 2.06-.94-2.06-.94-.94-2.06-.94 2.06-2.06.94z\"/><path d=\"M17.41 7.96l-1.37-1.37c-.4-.4-.92-.59-1.43-.59-.52 0-1.04.2-1.43.59L10.3 9.45l-7.72 7.72c-.78.78-.78 2.05 0 2.83L4 21.41c.39.39.9.59 1.41.59.51 0 1.02-.2 1.41-.59l7.78-7.78 2.81-2.81c.8-.78.8-2.07 0-2.86zM5.41 20L4 18.59l7.72-7.72 1.47 1.35L5.41 20z\"/>\n",
              "  </svg>\n",
              "      </button>\n",
              "      \n",
              "  <style>\n",
              "    .colab-df-container {\n",
              "      display:flex;\n",
              "      flex-wrap:wrap;\n",
              "      gap: 12px;\n",
              "    }\n",
              "\n",
              "    .colab-df-convert {\n",
              "      background-color: #E8F0FE;\n",
              "      border: none;\n",
              "      border-radius: 50%;\n",
              "      cursor: pointer;\n",
              "      display: none;\n",
              "      fill: #1967D2;\n",
              "      height: 32px;\n",
              "      padding: 0 0 0 0;\n",
              "      width: 32px;\n",
              "    }\n",
              "\n",
              "    .colab-df-convert:hover {\n",
              "      background-color: #E2EBFA;\n",
              "      box-shadow: 0px 1px 2px rgba(60, 64, 67, 0.3), 0px 1px 3px 1px rgba(60, 64, 67, 0.15);\n",
              "      fill: #174EA6;\n",
              "    }\n",
              "\n",
              "    [theme=dark] .colab-df-convert {\n",
              "      background-color: #3B4455;\n",
              "      fill: #D2E3FC;\n",
              "    }\n",
              "\n",
              "    [theme=dark] .colab-df-convert:hover {\n",
              "      background-color: #434B5C;\n",
              "      box-shadow: 0px 1px 3px 1px rgba(0, 0, 0, 0.15);\n",
              "      filter: drop-shadow(0px 1px 2px rgba(0, 0, 0, 0.3));\n",
              "      fill: #FFFFFF;\n",
              "    }\n",
              "  </style>\n",
              "\n",
              "      <script>\n",
              "        const buttonEl =\n",
              "          document.querySelector('#df-a853ec92-0cb5-4c98-bfa2-d71ab00a80b0 button.colab-df-convert');\n",
              "        buttonEl.style.display =\n",
              "          google.colab.kernel.accessAllowed ? 'block' : 'none';\n",
              "\n",
              "        async function convertToInteractive(key) {\n",
              "          const element = document.querySelector('#df-a853ec92-0cb5-4c98-bfa2-d71ab00a80b0');\n",
              "          const dataTable =\n",
              "            await google.colab.kernel.invokeFunction('convertToInteractive',\n",
              "                                                     [key], {});\n",
              "          if (!dataTable) return;\n",
              "\n",
              "          const docLinkHtml = 'Like what you see? Visit the ' +\n",
              "            '<a target=\"_blank\" href=https://colab.research.google.com/notebooks/data_table.ipynb>data table notebook</a>'\n",
              "            + ' to learn more about interactive tables.';\n",
              "          element.innerHTML = '';\n",
              "          dataTable['output_type'] = 'display_data';\n",
              "          await google.colab.output.renderOutput(dataTable, element);\n",
              "          const docLink = document.createElement('div');\n",
              "          docLink.innerHTML = docLinkHtml;\n",
              "          element.appendChild(docLink);\n",
              "        }\n",
              "      </script>\n",
              "    </div>\n",
              "  </div>\n",
              "  "
            ]
          },
          "metadata": {},
          "execution_count": 14
        }
      ],
      "source": [
        "df.head()"
      ]
    },
    {
      "cell_type": "code",
      "execution_count": null,
      "metadata": {
        "colab": {
          "base_uri": "https://localhost:8080/",
          "height": 223
        },
        "id": "AsHXKlSdeZZV",
        "outputId": "2c3b0bf3-afc3-4bbd-d5d5-44f5266a928d"
      },
      "outputs": [
        {
          "output_type": "stream",
          "name": "stdout",
          "text": [
            "249\n"
          ]
        },
        {
          "output_type": "execute_result",
          "data": {
            "text/plain": [
              "         Year  ExternalDebt_Adjusted\n",
              "0  1960-03-31           1.406432e+09\n",
              "1  1960-06-30           1.406581e+09\n",
              "2  1960-09-30           1.406730e+09\n",
              "3  1960-12-31           1.406878e+09\n",
              "4  1961-03-31           1.407026e+09"
            ],
            "text/html": [
              "\n",
              "  <div id=\"df-056830a6-4213-4d4c-a6e2-71d5caebbf7c\">\n",
              "    <div class=\"colab-df-container\">\n",
              "      <div>\n",
              "<style scoped>\n",
              "    .dataframe tbody tr th:only-of-type {\n",
              "        vertical-align: middle;\n",
              "    }\n",
              "\n",
              "    .dataframe tbody tr th {\n",
              "        vertical-align: top;\n",
              "    }\n",
              "\n",
              "    .dataframe thead th {\n",
              "        text-align: right;\n",
              "    }\n",
              "</style>\n",
              "<table border=\"1\" class=\"dataframe\">\n",
              "  <thead>\n",
              "    <tr style=\"text-align: right;\">\n",
              "      <th></th>\n",
              "      <th>Year</th>\n",
              "      <th>ExternalDebt_Adjusted</th>\n",
              "    </tr>\n",
              "  </thead>\n",
              "  <tbody>\n",
              "    <tr>\n",
              "      <th>0</th>\n",
              "      <td>1960-03-31</td>\n",
              "      <td>1.406432e+09</td>\n",
              "    </tr>\n",
              "    <tr>\n",
              "      <th>1</th>\n",
              "      <td>1960-06-30</td>\n",
              "      <td>1.406581e+09</td>\n",
              "    </tr>\n",
              "    <tr>\n",
              "      <th>2</th>\n",
              "      <td>1960-09-30</td>\n",
              "      <td>1.406730e+09</td>\n",
              "    </tr>\n",
              "    <tr>\n",
              "      <th>3</th>\n",
              "      <td>1960-12-31</td>\n",
              "      <td>1.406878e+09</td>\n",
              "    </tr>\n",
              "    <tr>\n",
              "      <th>4</th>\n",
              "      <td>1961-03-31</td>\n",
              "      <td>1.407026e+09</td>\n",
              "    </tr>\n",
              "  </tbody>\n",
              "</table>\n",
              "</div>\n",
              "      <button class=\"colab-df-convert\" onclick=\"convertToInteractive('df-056830a6-4213-4d4c-a6e2-71d5caebbf7c')\"\n",
              "              title=\"Convert this dataframe to an interactive table.\"\n",
              "              style=\"display:none;\">\n",
              "        \n",
              "  <svg xmlns=\"http://www.w3.org/2000/svg\" height=\"24px\"viewBox=\"0 0 24 24\"\n",
              "       width=\"24px\">\n",
              "    <path d=\"M0 0h24v24H0V0z\" fill=\"none\"/>\n",
              "    <path d=\"M18.56 5.44l.94 2.06.94-2.06 2.06-.94-2.06-.94-.94-2.06-.94 2.06-2.06.94zm-11 1L8.5 8.5l.94-2.06 2.06-.94-2.06-.94L8.5 2.5l-.94 2.06-2.06.94zm10 10l.94 2.06.94-2.06 2.06-.94-2.06-.94-.94-2.06-.94 2.06-2.06.94z\"/><path d=\"M17.41 7.96l-1.37-1.37c-.4-.4-.92-.59-1.43-.59-.52 0-1.04.2-1.43.59L10.3 9.45l-7.72 7.72c-.78.78-.78 2.05 0 2.83L4 21.41c.39.39.9.59 1.41.59.51 0 1.02-.2 1.41-.59l7.78-7.78 2.81-2.81c.8-.78.8-2.07 0-2.86zM5.41 20L4 18.59l7.72-7.72 1.47 1.35L5.41 20z\"/>\n",
              "  </svg>\n",
              "      </button>\n",
              "      \n",
              "  <style>\n",
              "    .colab-df-container {\n",
              "      display:flex;\n",
              "      flex-wrap:wrap;\n",
              "      gap: 12px;\n",
              "    }\n",
              "\n",
              "    .colab-df-convert {\n",
              "      background-color: #E8F0FE;\n",
              "      border: none;\n",
              "      border-radius: 50%;\n",
              "      cursor: pointer;\n",
              "      display: none;\n",
              "      fill: #1967D2;\n",
              "      height: 32px;\n",
              "      padding: 0 0 0 0;\n",
              "      width: 32px;\n",
              "    }\n",
              "\n",
              "    .colab-df-convert:hover {\n",
              "      background-color: #E2EBFA;\n",
              "      box-shadow: 0px 1px 2px rgba(60, 64, 67, 0.3), 0px 1px 3px 1px rgba(60, 64, 67, 0.15);\n",
              "      fill: #174EA6;\n",
              "    }\n",
              "\n",
              "    [theme=dark] .colab-df-convert {\n",
              "      background-color: #3B4455;\n",
              "      fill: #D2E3FC;\n",
              "    }\n",
              "\n",
              "    [theme=dark] .colab-df-convert:hover {\n",
              "      background-color: #434B5C;\n",
              "      box-shadow: 0px 1px 3px 1px rgba(0, 0, 0, 0.15);\n",
              "      filter: drop-shadow(0px 1px 2px rgba(0, 0, 0, 0.3));\n",
              "      fill: #FFFFFF;\n",
              "    }\n",
              "  </style>\n",
              "\n",
              "      <script>\n",
              "        const buttonEl =\n",
              "          document.querySelector('#df-056830a6-4213-4d4c-a6e2-71d5caebbf7c button.colab-df-convert');\n",
              "        buttonEl.style.display =\n",
              "          google.colab.kernel.accessAllowed ? 'block' : 'none';\n",
              "\n",
              "        async function convertToInteractive(key) {\n",
              "          const element = document.querySelector('#df-056830a6-4213-4d4c-a6e2-71d5caebbf7c');\n",
              "          const dataTable =\n",
              "            await google.colab.kernel.invokeFunction('convertToInteractive',\n",
              "                                                     [key], {});\n",
              "          if (!dataTable) return;\n",
              "\n",
              "          const docLinkHtml = 'Like what you see? Visit the ' +\n",
              "            '<a target=\"_blank\" href=https://colab.research.google.com/notebooks/data_table.ipynb>data table notebook</a>'\n",
              "            + ' to learn more about interactive tables.';\n",
              "          element.innerHTML = '';\n",
              "          dataTable['output_type'] = 'display_data';\n",
              "          await google.colab.output.renderOutput(dataTable, element);\n",
              "          const docLink = document.createElement('div');\n",
              "          docLink.innerHTML = docLinkHtml;\n",
              "          element.appendChild(docLink);\n",
              "        }\n",
              "      </script>\n",
              "    </div>\n",
              "  </div>\n",
              "  "
            ]
          },
          "metadata": {},
          "execution_count": 15
        }
      ],
      "source": [
        "\n",
        "print(len(df))\n",
        "df.head()"
      ]
    },
    {
      "cell_type": "code",
      "execution_count": null,
      "metadata": {
        "id": "jf0-xARXfKMh"
      },
      "outputs": [],
      "source": [
        "## Stationary Test\n",
        "#Ho: It is non stationary\n",
        "#H1: It is stationary\n",
        "from statsmodels.tsa.stattools import adfuller\n",
        "def adfuller_test(data):\n",
        "    result=adfuller(data)\n",
        "    labels = ['ADF Test Statistic','p-value','#Lags Used','Number of Observations Used']\n",
        "    for value,label in zip(result,labels):\n",
        "        print(label+' : '+str(value) )\n",
        "    if result[1] <= 0.05:\n",
        "        print(\"strong evidence against the null hypothesis(Ho), reject the null hypothesis. Data has no unit root and is stationary\")\n",
        "    else:\n",
        "        print(\"weak evidence against null hypothesis, time series has a unit root, indicating it is non-stationary \")\n",
        "    "
      ]
    },
    {
      "cell_type": "code",
      "execution_count": null,
      "metadata": {
        "colab": {
          "base_uri": "https://localhost:8080/"
        },
        "id": "CjDvcZegfUVr",
        "outputId": "3b9e879b-e5b6-4430-fbf3-a8ec23686d4c"
      },
      "outputs": [
        {
          "output_type": "stream",
          "name": "stdout",
          "text": [
            "ADF Test Statistic : -0.7335547667663336\n",
            "p-value : 0.8378656290065493\n",
            "#Lags Used : 9\n",
            "Number of Observations Used : 239\n",
            "weak evidence against null hypothesis, time series has a unit root, indicating it is non-stationary \n"
          ]
        }
      ],
      "source": [
        "adfuller_test(df.ExternalDebt_Adjusted)"
      ]
    },
    {
      "cell_type": "code",
      "execution_count": null,
      "metadata": {
        "colab": {
          "base_uri": "https://localhost:8080/",
          "height": 462
        },
        "id": "QTbuBhPZgCN1",
        "outputId": "dd4e2522-9ce7-43f3-cb07-3581b59a9903"
      },
      "outputs": [
        {
          "output_type": "execute_result",
          "data": {
            "text/plain": [
              "<Axes: >"
            ]
          },
          "metadata": {},
          "execution_count": 18
        },
        {
          "output_type": "display_data",
          "data": {
            "text/plain": [
              "<Figure size 640x480 with 1 Axes>"
            ],
            "image/png": "[encoded data removed]"
          },
          "metadata": {}
        }
      ],
      "source": [
        "df.ExternalDebt_Adjusted.plot()"
      ]
    },
    {
      "cell_type": "code",
      "execution_count": null,
      "metadata": {
        "id": "GTsNvOR9feE-"
      },
      "outputs": [],
      "source": [
        "#Stationrizing the data\n",
        "#Differencing by 1\n",
        "df['ExternalDebt_Adjusted_Diff_1']=df['ExternalDebt_Adjusted']-df['ExternalDebt_Adjusted'].shift(1)\n",
        "#Differencing by 4\n",
        "df['ExternalDebt_Adjusted_Diff_20']=df['ExternalDebt_Adjusted']-df['ExternalDebt_Adjusted'].shift(20)"
      ]
    },
    {
      "cell_type": "code",
      "execution_count": null,
      "metadata": {
        "colab": {
          "base_uri": "https://localhost:8080/",
          "height": 424
        },
        "id": "T0A9qEZ4gZzA",
        "outputId": "c3113853-1e54-4923-e770-1cd5de6f125e"
      },
      "outputs": [
        {
          "output_type": "execute_result",
          "data": {
            "text/plain": [
              "           Year  ExternalDebt_Adjusted  ExternalDebt_Adjusted_Diff_1  \\\n",
              "0    1960-03-31           1.406432e+09                           NaN   \n",
              "1    1960-06-30           1.406581e+09                  1.494055e+05   \n",
              "2    1960-09-30           1.406730e+09                  1.487969e+05   \n",
              "3    1960-12-31           1.406878e+09                  1.481884e+05   \n",
              "4    1961-03-31           1.407026e+09                  1.475798e+05   \n",
              "..          ...                    ...                           ...   \n",
              "244  2021-03-31           8.688279e+10                  9.532990e+08   \n",
              "245  2021-06-30           8.688279e+10                  9.128646e+02   \n",
              "246  2021-09-30           8.688279e+10                  3.042882e+02   \n",
              "247  2021-12-31           8.688279e+10                 -3.042882e+02   \n",
              "248  2022-03-31           8.688279e+10                 -9.128646e+02   \n",
              "\n",
              "     ExternalDebt_Adjusted_Diff_20  \n",
              "0                              NaN  \n",
              "1                              NaN  \n",
              "2                              NaN  \n",
              "3                              NaN  \n",
              "4                              NaN  \n",
              "..                             ...  \n",
              "244                   1.066213e+09  \n",
              "245                  -4.950490e+08  \n",
              "246                  -2.056311e+09  \n",
              "247                  -3.617573e+09  \n",
              "248                  -5.178834e+09  \n",
              "\n",
              "[249 rows x 4 columns]"
            ],
            "text/html": [
              "\n",
              "  <div id=\"df-cea6a43f-d911-4d3e-852d-7523ba6f2689\">\n",
              "    <div class=\"colab-df-container\">\n",
              "      <div>\n",
              "<style scoped>\n",
              "    .dataframe tbody tr th:only-of-type {\n",
              "        vertical-align: middle;\n",
              "    }\n",
              "\n",
              "    .dataframe tbody tr th {\n",
              "        vertical-align: top;\n",
              "    }\n",
              "\n",
              "    .dataframe thead th {\n",
              "        text-align: right;\n",
              "    }\n",
              "</style>\n",
              "<table border=\"1\" class=\"dataframe\">\n",
              "  <thead>\n",
              "    <tr style=\"text-align: right;\">\n",
              "      <th></th>\n",
              "      <th>Year</th>\n",
              "      <th>ExternalDebt_Adjusted</th>\n",
              "      <th>ExternalDebt_Adjusted_Diff_1</th>\n",
              "      <th>ExternalDebt_Adjusted_Diff_20</th>\n",
              "    </tr>\n",
              "  </thead>\n",
              "  <tbody>\n",
              "    <tr>\n",
              "      <th>0</th>\n",
              "      <td>1960-03-31</td>\n",
              "      <td>1.406432e+09</td>\n",
              "      <td>NaN</td>\n",
              "      <td>NaN</td>\n",
              "    </tr>\n",
              "    <tr>\n",
              "      <th>1</th>\n",
              "      <td>1960-06-30</td>\n",
              "      <td>1.406581e+09</td>\n",
              "      <td>1.494055e+05</td>\n",
              "      <td>NaN</td>\n",
              "    </tr>\n",
              "    <tr>\n",
              "      <th>2</th>\n",
              "      <td>1960-09-30</td>\n",
              "      <td>1.406730e+09</td>\n",
              "      <td>1.487969e+05</td>\n",
              "      <td>NaN</td>\n",
              "    </tr>\n",
              "    <tr>\n",
              "      <th>3</th>\n",
              "      <td>1960-12-31</td>\n",
              "      <td>1.406878e+09</td>\n",
              "      <td>1.481884e+05</td>\n",
              "      <td>NaN</td>\n",
              "    </tr>\n",
              "    <tr>\n",
              "      <th>4</th>\n",
              "      <td>1961-03-31</td>\n",
              "      <td>1.407026e+09</td>\n",
              "      <td>1.475798e+05</td>\n",
              "      <td>NaN</td>\n",
              "    </tr>\n",
              "    <tr>\n",
              "      <th>...</th>\n",
              "      <td>...</td>\n",
              "      <td>...</td>\n",
              "      <td>...</td>\n",
              "      <td>...</td>\n",
              "    </tr>\n",
              "    <tr>\n",
              "      <th>244</th>\n",
              "      <td>2021-03-31</td>\n",
              "      <td>8.688279e+10</td>\n",
              "      <td>9.532990e+08</td>\n",
              "      <td>1.066213e+09</td>\n",
              "    </tr>\n",
              "    <tr>\n",
              "      <th>245</th>\n",
              "      <td>2021-06-30</td>\n",
              "      <td>8.688279e+10</td>\n",
              "      <td>9.128646e+02</td>\n",
              "      <td>-4.950490e+08</td>\n",
              "    </tr>\n",
              "    <tr>\n",
              "      <th>246</th>\n",
              "      <td>2021-09-30</td>\n",
              "      <td>8.688279e+10</td>\n",
              "      <td>3.042882e+02</td>\n",
              "      <td>-2.056311e+09</td>\n",
              "    </tr>\n",
              "    <tr>\n",
              "      <th>247</th>\n",
              "      <td>2021-12-31</td>\n",
              "      <td>8.688279e+10</td>\n",
              "      <td>-3.042882e+02</td>\n",
              "      <td>-3.617573e+09</td>\n",
              "    </tr>\n",
              "    <tr>\n",
              "      <th>248</th>\n",
              "      <td>2022-03-31</td>\n",
              "      <td>8.688279e+10</td>\n",
              "      <td>-9.128646e+02</td>\n",
              "      <td>-5.178834e+09</td>\n",
              "    </tr>\n",
              "  </tbody>\n",
              "</table>\n",
              "<p>249 rows × 4 columns</p>\n",
              "</div>\n",
              "      <button class=\"colab-df-convert\" onclick=\"convertToInteractive('df-cea6a43f-d911-4d3e-852d-7523ba6f2689')\"\n",
              "              title=\"Convert this dataframe to an interactive table.\"\n",
              "              style=\"display:none;\">\n",
              "        \n",
              "  <svg xmlns=\"http://www.w3.org/2000/svg\" height=\"24px\"viewBox=\"0 0 24 24\"\n",
              "       width=\"24px\">\n",
              "    <path d=\"M0 0h24v24H0V0z\" fill=\"none\"/>\n",
              "    <path d=\"M18.56 5.44l.94 2.06.94-2.06 2.06-.94-2.06-.94-.94-2.06-.94 2.06-2.06.94zm-11 1L8.5 8.5l.94-2.06 2.06-.94-2.06-.94L8.5 2.5l-.94 2.06-2.06.94zm10 10l.94 2.06.94-2.06 2.06-.94-2.06-.94-.94-2.06-.94 2.06-2.06.94z\"/><path d=\"M17.41 7.96l-1.37-1.37c-.4-.4-.92-.59-1.43-.59-.52 0-1.04.2-1.43.59L10.3 9.45l-7.72 7.72c-.78.78-.78 2.05 0 2.83L4 21.41c.39.39.9.59 1.41.59.51 0 1.02-.2 1.41-.59l7.78-7.78 2.81-2.81c.8-.78.8-2.07 0-2.86zM5.41 20L4 18.59l7.72-7.72 1.47 1.35L5.41 20z\"/>\n",
              "  </svg>\n",
              "      </button>\n",
              "      \n",
              "  <style>\n",
              "    .colab-df-container {\n",
              "      display:flex;\n",
              "      flex-wrap:wrap;\n",
              "      gap: 12px;\n",
              "    }\n",
              "\n",
              "    .colab-df-convert {\n",
              "      background-color: #E8F0FE;\n",
              "      border: none;\n",
              "      border-radius: 50%;\n",
              "      cursor: pointer;\n",
              "      display: none;\n",
              "      fill: #1967D2;\n",
              "      height: 32px;\n",
              "      padding: 0 0 0 0;\n",
              "      width: 32px;\n",
              "    }\n",
              "\n",
              "    .colab-df-convert:hover {\n",
              "      background-color: #E2EBFA;\n",
              "      box-shadow: 0px 1px 2px rgba(60, 64, 67, 0.3), 0px 1px 3px 1px rgba(60, 64, 67, 0.15);\n",
              "      fill: #174EA6;\n",
              "    }\n",
              "\n",
              "    [theme=dark] .colab-df-convert {\n",
              "      background-color: #3B4455;\n",
              "      fill: #D2E3FC;\n",
              "    }\n",
              "\n",
              "    [theme=dark] .colab-df-convert:hover {\n",
              "      background-color: #434B5C;\n",
              "      box-shadow: 0px 1px 3px 1px rgba(0, 0, 0, 0.15);\n",
              "      filter: drop-shadow(0px 1px 2px rgba(0, 0, 0, 0.3));\n",
              "      fill: #FFFFFF;\n",
              "    }\n",
              "  </style>\n",
              "\n",
              "      <script>\n",
              "        const buttonEl =\n",
              "          document.querySelector('#df-cea6a43f-d911-4d3e-852d-7523ba6f2689 button.colab-df-convert');\n",
              "        buttonEl.style.display =\n",
              "          google.colab.kernel.accessAllowed ? 'block' : 'none';\n",
              "\n",
              "        async function convertToInteractive(key) {\n",
              "          const element = document.querySelector('#df-cea6a43f-d911-4d3e-852d-7523ba6f2689');\n",
              "          const dataTable =\n",
              "            await google.colab.kernel.invokeFunction('convertToInteractive',\n",
              "                                                     [key], {});\n",
              "          if (!dataTable) return;\n",
              "\n",
              "          const docLinkHtml = 'Like what you see? Visit the ' +\n",
              "            '<a target=\"_blank\" href=https://colab.research.google.com/notebooks/data_table.ipynb>data table notebook</a>'\n",
              "            + ' to learn more about interactive tables.';\n",
              "          element.innerHTML = '';\n",
              "          dataTable['output_type'] = 'display_data';\n",
              "          await google.colab.output.renderOutput(dataTable, element);\n",
              "          const docLink = document.createElement('div');\n",
              "          docLink.innerHTML = docLinkHtml;\n",
              "          element.appendChild(docLink);\n",
              "        }\n",
              "      </script>\n",
              "    </div>\n",
              "  </div>\n",
              "  "
            ]
          },
          "metadata": {},
          "execution_count": 10
        }
      ],
      "source": [
        "df"
      ]
    },
    {
      "cell_type": "code",
      "execution_count": null,
      "metadata": {
        "colab": {
          "base_uri": "https://localhost:8080/",
          "height": 462
        },
        "id": "Id14oZrKgcDq",
        "outputId": "fd04720a-cafd-4e0a-be1d-4cc21b650c17"
      },
      "outputs": [
        {
          "output_type": "execute_result",
          "data": {
            "text/plain": [
              "<Axes: >"
            ]
          },
          "metadata": {},
          "execution_count": 20
        },
        {
          "output_type": "display_data",
          "data": {
            "text/plain": [
              "<Figure size 640x480 with 1 Axes>"
            ],
            "image/png": "[encoded data removed]"
          },
          "metadata": {}
        }
      ],
      "source": [
        "df['ExternalDebt_Adjusted_Diff_1'].plot()\n"
      ]
    },
    {
      "cell_type": "code",
      "execution_count": null,
      "metadata": {
        "colab": {
          "base_uri": "https://localhost:8080/",
          "height": 462
        },
        "id": "mzbN7SxAglEE",
        "outputId": "f2a67777-5257-426b-883d-41c57b04c976"
      },
      "outputs": [
        {
          "output_type": "execute_result",
          "data": {
            "text/plain": [
              "<Axes: >"
            ]
          },
          "metadata": {},
          "execution_count": 21
        },
        {
          "output_type": "display_data",
          "data": {
            "text/plain": [
              "<Figure size 640x480 with 1 Axes>"
            ],
            "image/png": "[encoded data removed]"
          },
          "metadata": {}
        }
      ],
      "source": [
        "df['ExternalDebt_Adjusted_Diff_20'].plot()"
      ]
    },
    {
      "cell_type": "code",
      "execution_count": null,
      "metadata": {
        "colab": {
          "base_uri": "https://localhost:8080/",
          "height": 424
        },
        "id": "Ztcxyay1i-WL",
        "outputId": "c2f4fe9e-0279-4b5a-801f-512926105aae"
      },
      "outputs": [
        {
          "data": {
            "text/html": [
              "\n",
              "  <div id=\"df-e8192ba0-ea5c-4b36-bfd7-468316736a18\">\n",
              "    <div class=\"colab-df-container\">\n",
              "      <div>\n",
              "<style scoped>\n",
              "    .dataframe tbody tr th:only-of-type {\n",
              "        vertical-align: middle;\n",
              "    }\n",
              "\n",
              "    .dataframe tbody tr th {\n",
              "        vertical-align: top;\n",
              "    }\n",
              "\n",
              "    .dataframe thead th {\n",
              "        text-align: right;\n",
              "    }\n",
              "</style>\n",
              "<table border=\"1\" class=\"dataframe\">\n",
              "  <thead>\n",
              "    <tr style=\"text-align: right;\">\n",
              "      <th></th>\n",
              "      <th>Year</th>\n",
              "      <th>ExternalDebt_Adjusted</th>\n",
              "      <th>ExternalDebt_Adjusted_Diff_1</th>\n",
              "      <th>ExternalDebt_Adjusted_Diff_20</th>\n",
              "    </tr>\n",
              "  </thead>\n",
              "  <tbody>\n",
              "    <tr>\n",
              "      <th>0</th>\n",
              "      <td>1960-03-31</td>\n",
              "      <td>1.406432e+09</td>\n",
              "      <td>NaN</td>\n",
              "      <td>NaN</td>\n",
              "    </tr>\n",
              "    <tr>\n",
              "      <th>1</th>\n",
              "      <td>1960-06-30</td>\n",
              "      <td>1.406581e+09</td>\n",
              "      <td>1.494055e+05</td>\n",
              "      <td>NaN</td>\n",
              "    </tr>\n",
              "    <tr>\n",
              "      <th>2</th>\n",
              "      <td>1960-09-30</td>\n",
              "      <td>1.406730e+09</td>\n",
              "      <td>1.487969e+05</td>\n",
              "      <td>NaN</td>\n",
              "    </tr>\n",
              "    <tr>\n",
              "      <th>3</th>\n",
              "      <td>1960-12-31</td>\n",
              "      <td>1.406878e+09</td>\n",
              "      <td>1.481884e+05</td>\n",
              "      <td>NaN</td>\n",
              "    </tr>\n",
              "    <tr>\n",
              "      <th>4</th>\n",
              "      <td>1961-03-31</td>\n",
              "      <td>1.407026e+09</td>\n",
              "      <td>1.475798e+05</td>\n",
              "      <td>NaN</td>\n",
              "    </tr>\n",
              "    <tr>\n",
              "      <th>...</th>\n",
              "      <td>...</td>\n",
              "      <td>...</td>\n",
              "      <td>...</td>\n",
              "      <td>...</td>\n",
              "    </tr>\n",
              "    <tr>\n",
              "      <th>244</th>\n",
              "      <td>2021-03-31</td>\n",
              "      <td>8.688279e+10</td>\n",
              "      <td>9.532990e+08</td>\n",
              "      <td>1.066213e+09</td>\n",
              "    </tr>\n",
              "    <tr>\n",
              "      <th>245</th>\n",
              "      <td>2021-06-30</td>\n",
              "      <td>8.688279e+10</td>\n",
              "      <td>9.128646e+02</td>\n",
              "      <td>-4.950490e+08</td>\n",
              "    </tr>\n",
              "    <tr>\n",
              "      <th>246</th>\n",
              "      <td>2021-09-30</td>\n",
              "      <td>8.688279e+10</td>\n",
              "      <td>3.042882e+02</td>\n",
              "      <td>-2.056311e+09</td>\n",
              "    </tr>\n",
              "    <tr>\n",
              "      <th>247</th>\n",
              "      <td>2021-12-31</td>\n",
              "      <td>8.688279e+10</td>\n",
              "      <td>-3.042882e+02</td>\n",
              "      <td>-3.617573e+09</td>\n",
              "    </tr>\n",
              "    <tr>\n",
              "      <th>248</th>\n",
              "      <td>2022-03-31</td>\n",
              "      <td>8.688279e+10</td>\n",
              "      <td>-9.128646e+02</td>\n",
              "      <td>-5.178834e+09</td>\n",
              "    </tr>\n",
              "  </tbody>\n",
              "</table>\n",
              "<p>249 rows × 4 columns</p>\n",
              "</div>\n",
              "      <button class=\"colab-df-convert\" onclick=\"convertToInteractive('df-e8192ba0-ea5c-4b36-bfd7-468316736a18')\"\n",
              "              title=\"Convert this dataframe to an interactive table.\"\n",
              "              style=\"display:none;\">\n",
              "        \n",
              "  <svg xmlns=\"http://www.w3.org/2000/svg\" height=\"24px\"viewBox=\"0 0 24 24\"\n",
              "       width=\"24px\">\n",
              "    <path d=\"M0 0h24v24H0V0z\" fill=\"none\"/>\n",
              "    <path d=\"M18.56 5.44l.94 2.06.94-2.06 2.06-.94-2.06-.94-.94-2.06-.94 2.06-2.06.94zm-11 1L8.5 8.5l.94-2.06 2.06-.94-2.06-.94L8.5 2.5l-.94 2.06-2.06.94zm10 10l.94 2.06.94-2.06 2.06-.94-2.06-.94-.94-2.06-.94 2.06-2.06.94z\"/><path d=\"M17.41 7.96l-1.37-1.37c-.4-.4-.92-.59-1.43-.59-.52 0-1.04.2-1.43.59L10.3 9.45l-7.72 7.72c-.78.78-.78 2.05 0 2.83L4 21.41c.39.39.9.59 1.41.59.51 0 1.02-.2 1.41-.59l7.78-7.78 2.81-2.81c.8-.78.8-2.07 0-2.86zM5.41 20L4 18.59l7.72-7.72 1.47 1.35L5.41 20z\"/>\n",
              "  </svg>\n",
              "      </button>\n",
              "      \n",
              "  <style>\n",
              "    .colab-df-container {\n",
              "      display:flex;\n",
              "      flex-wrap:wrap;\n",
              "      gap: 12px;\n",
              "    }\n",
              "\n",
              "    .colab-df-convert {\n",
              "      background-color: #E8F0FE;\n",
              "      border: none;\n",
              "      border-radius: 50%;\n",
              "      cursor: pointer;\n",
              "      display: none;\n",
              "      fill: #1967D2;\n",
              "      height: 32px;\n",
              "      padding: 0 0 0 0;\n",
              "      width: 32px;\n",
              "    }\n",
              "\n",
              "    .colab-df-convert:hover {\n",
              "      background-color: #E2EBFA;\n",
              "      box-shadow: 0px 1px 2px rgba(60, 64, 67, 0.3), 0px 1px 3px 1px rgba(60, 64, 67, 0.15);\n",
              "      fill: #174EA6;\n",
              "    }\n",
              "\n",
              "    [theme=dark] .colab-df-convert {\n",
              "      background-color: #3B4455;\n",
              "      fill: #D2E3FC;\n",
              "    }\n",
              "\n",
              "    [theme=dark] .colab-df-convert:hover {\n",
              "      background-color: #434B5C;\n",
              "      box-shadow: 0px 1px 3px 1px rgba(0, 0, 0, 0.15);\n",
              "      filter: drop-shadow(0px 1px 2px rgba(0, 0, 0, 0.3));\n",
              "      fill: #FFFFFF;\n",
              "    }\n",
              "  </style>\n",
              "\n",
              "      <script>\n",
              "        const buttonEl =\n",
              "          document.querySelector('#df-e8192ba0-ea5c-4b36-bfd7-468316736a18 button.colab-df-convert');\n",
              "        buttonEl.style.display =\n",
              "          google.colab.kernel.accessAllowed ? 'block' : 'none';\n",
              "\n",
              "        async function convertToInteractive(key) {\n",
              "          const element = document.querySelector('#df-e8192ba0-ea5c-4b36-bfd7-468316736a18');\n",
              "          const dataTable =\n",
              "            await google.colab.kernel.invokeFunction('convertToInteractive',\n",
              "                                                     [key], {});\n",
              "          if (!dataTable) return;\n",
              "\n",
              "          const docLinkHtml = 'Like what you see? Visit the ' +\n",
              "            '<a target=\"_blank\" href=https://colab.research.google.com/notebooks/data_table.ipynb>data table notebook</a>'\n",
              "            + ' to learn more about interactive tables.';\n",
              "          element.innerHTML = '';\n",
              "          dataTable['output_type'] = 'display_data';\n",
              "          await google.colab.output.renderOutput(dataTable, element);\n",
              "          const docLink = document.createElement('div');\n",
              "          docLink.innerHTML = docLinkHtml;\n",
              "          element.appendChild(docLink);\n",
              "        }\n",
              "      </script>\n",
              "    </div>\n",
              "  </div>\n",
              "  "
            ],
            "text/plain": [
              "           Year  ExternalDebt_Adjusted  ExternalDebt_Adjusted_Diff_1  \\\n",
              "0    1960-03-31           1.406432e+09                           NaN   \n",
              "1    1960-06-30           1.406581e+09                  1.494055e+05   \n",
              "2    1960-09-30           1.406730e+09                  1.487969e+05   \n",
              "3    1960-12-31           1.406878e+09                  1.481884e+05   \n",
              "4    1961-03-31           1.407026e+09                  1.475798e+05   \n",
              "..          ...                    ...                           ...   \n",
              "244  2021-03-31           8.688279e+10                  9.532990e+08   \n",
              "245  2021-06-30           8.688279e+10                  9.128646e+02   \n",
              "246  2021-09-30           8.688279e+10                  3.042882e+02   \n",
              "247  2021-12-31           8.688279e+10                 -3.042882e+02   \n",
              "248  2022-03-31           8.688279e+10                 -9.128646e+02   \n",
              "\n",
              "     ExternalDebt_Adjusted_Diff_20  \n",
              "0                              NaN  \n",
              "1                              NaN  \n",
              "2                              NaN  \n",
              "3                              NaN  \n",
              "4                              NaN  \n",
              "..                             ...  \n",
              "244                   1.066213e+09  \n",
              "245                  -4.950490e+08  \n",
              "246                  -2.056311e+09  \n",
              "247                  -3.617573e+09  \n",
              "248                  -5.178834e+09  \n",
              "\n",
              "[249 rows x 4 columns]"
            ]
          },
          "execution_count": 17,
          "metadata": {},
          "output_type": "execute_result"
        }
      ],
      "source": [
        "df"
      ]
    },
    {
      "cell_type": "code",
      "execution_count": null,
      "metadata": {
        "colab": {
          "base_uri": "https://localhost:8080/"
        },
        "id": "tCgEL2VQi3eJ",
        "outputId": "8afe5365-f447-400b-9445-1cc49e4bd543"
      },
      "outputs": [
        {
          "output_type": "stream",
          "name": "stdout",
          "text": [
            "ADF Test Statistic : -3.4815682970219575\n",
            "p-value : 0.008473270812165536\n",
            "#Lags Used : 13\n",
            "Number of Observations Used : 215\n",
            "strong evidence against the null hypothesis(Ho), reject the null hypothesis. Data has no unit root and is stationary\n"
          ]
        }
      ],
      "source": [
        "adfuller_test(df.ExternalDebt_Adjusted_Diff_20.dropna())"
      ]
    },
    {
      "cell_type": "code",
      "execution_count": null,
      "metadata": {
        "colab": {
          "base_uri": "https://localhost:8080/",
          "height": 1000
        },
        "id": "H3Ulk8dbioCX",
        "outputId": "ce8d641e-2d49-4938-b0c9-860d84669d31"
      },
      "outputs": [
        {
          "output_type": "stream",
          "name": "stderr",
          "text": [
            "/usr/local/lib/python3.10/dist-packages/matplotlib/axes/_base.py:2503: UserWarning: Warning: converting a masked element to nan.\n",
            "  xys = np.asarray(xys)\n"
          ]
        },
        {
          "output_type": "display_data",
          "data": {
            "text/plain": [
              "<Figure size 640x480 with 1 Axes>"
            ],
            "image/png": "[encoded data removed]"
          },
          "metadata": {}
        },
        {
          "output_type": "stream",
          "name": "stderr",
          "text": [
            "/usr/local/lib/python3.10/dist-packages/statsmodels/graphics/tsaplots.py:348: FutureWarning: The default method 'yw' can produce PACF values outside of the [-1,1] interval. After 0.13, the default will change tounadjusted Yule-Walker ('ywm'). You can use this method now by setting method='ywm'.\n",
            "  warnings.warn(\n"
          ]
        },
        {
          "output_type": "display_data",
          "data": {
            "text/plain": [
              "<Figure size 640x480 with 1 Axes>"
            ],
            "image/png": "[encoded data removed]"
          },
          "metadata": {}
        }
      ],
      "source": [
        "import pandas as pd\n",
        "import matplotlib.pyplot as plt\n",
        "from statsmodels.graphics.tsaplots import plot_acf, plot_pacf\n",
        "\n",
        "#acf and pacf plots\n",
        "#p-value -> pacf 0,1,\n",
        "#q-value -> acf 0,\n",
        "#ARIMA(p,d,q)\n",
        "\n",
        "\n",
        "# Assuming you have differenced time series data stored in a pandas Series called 'diff_series'\n",
        "# If your data is in a different format, you may need to adjust the code accordingly\n",
        "\n",
        "# Plot the autocorrelation function (ACF)\n",
        "plot_acf(df['ExternalDebt_Adjusted_Diff_20'])\n",
        "plt.xlabel('Lag')\n",
        "plt.ylabel('Autocorrelation')\n",
        "plt.show()\n",
        "\n",
        "# Plot the partial autocorrelation function (PACF)\n",
        "plot_pacf(df['ExternalDebt_Adjusted_Diff_20'])\n",
        "plt.xlabel('Lag')\n",
        "plt.ylabel('Partial Autocorrelation')\n",
        "plt.show()\n",
        "\n"
      ]
    },
    {
      "cell_type": "code",
      "execution_count": null,
      "metadata": {
        "id": "ERXkbxwvDqcl"
      },
      "outputs": [],
      "source": [
        "df=df.set_index('Year')\n"
      ]
    },
    {
      "cell_type": "code",
      "execution_count": null,
      "metadata": {
        "colab": {
          "base_uri": "https://localhost:8080/"
        },
        "id": "V1aXYdNDDyX_",
        "outputId": "539c90fa-714b-4d7e-ea46-213f0f8732bc"
      },
      "outputs": [
        {
          "data": {
            "text/plain": [
              "Year\n",
              "1965-03-31    2.769707e+08\n",
              "1965-06-30    2.936289e+08\n",
              "1965-09-30    3.102871e+08\n",
              "1965-12-31    3.269454e+08\n",
              "1966-03-31    3.436036e+08\n",
              "                  ...     \n",
              "2021-03-31    1.066213e+09\n",
              "2021-06-30   -4.950490e+08\n",
              "2021-09-30   -2.056311e+09\n",
              "2021-12-31   -3.617573e+09\n",
              "2022-03-31   -5.178834e+09\n",
              "Name: ExternalDebt_Adjusted_Diff_20, Length: 229, dtype: float64"
            ]
          },
          "execution_count": 30,
          "metadata": {},
          "output_type": "execute_result"
        }
      ],
      "source": [
        "df['ExternalDebt_Adjusted_Diff_20'].dropna()"
      ]
    },
    {
      "cell_type": "code",
      "execution_count": null,
      "metadata": {
        "id": "7nydMVWtLmyB"
      },
      "outputs": [],
      "source": [
        "#Dividing the Dataset\n",
        "\n",
        "new_df=df['ExternalDebt_Adjusted_Diff_20'].dropna()\n",
        "# Calculate the split point\n",
        "split_point = int(len(new_df) * 0.75)\n",
        "\n",
        "# Create the train series\n",
        "train_series = new_df[:split_point]\n",
        "\n",
        "# Create the test series\n",
        "test_series = new_df[split_point:]"
      ]
    },
    {
      "cell_type": "markdown",
      "metadata": {
        "id": "2arDs5HKPICr"
      },
      "source": [
        "\n",
        "##  **ARIMA**\n"
      ]
    },
    {
      "cell_type": "code",
      "execution_count": null,
      "metadata": {
        "colab": {
          "base_uri": "https://localhost:8080/"
        },
        "id": "cS0Lpt90GHHr",
        "outputId": "680c707f-241b-44c7-89cc-18736556ad48"
      },
      "outputs": [
        {
          "output_type": "stream",
          "name": "stdout",
          "text": [
            "MAPE: 1.0403486207900349e+21\n",
            "MAE: 8.2904066054269e+18\n",
            "RMSE: 2.4410577501672706e+19\n"
          ]
        },
        {
          "output_type": "stream",
          "name": "stderr",
          "text": [
            "/usr/local/lib/python3.10/dist-packages/statsmodels/base/model.py:604: ConvergenceWarning: Maximum Likelihood optimization failed to converge. Check mle_retvals\n",
            "  warnings.warn(\"Maximum Likelihood optimization failed to \"\n"
          ]
        }
      ],
      "source": [
        "from statsmodels.tsa.arima.model import ARIMA\n",
        "from sklearn.preprocessing import StandardScaler\n",
        "from sklearn.metrics import f1_score\n",
        "from sklearn.metrics import mean_absolute_error, mean_squared_error\n",
        "\n",
        "# Create a StandardScaler instance\n",
        "scaler = StandardScaler()\n",
        "\n",
        "# Fit the scaler on the training data and transform both training and test sets\n",
        "ar_train_scaled = scaler.fit_transform(train_series.values.reshape(-1, 1)).flatten()\n",
        "ar_test_scaled = scaler.transform(test_series.values.reshape(-1, 1)).flatten()\n",
        "\n",
        "# Fit the ARIMA model\n",
        "model = ARIMA(ar_train_scaled, order=(1, 20, 0))\n",
        "model_fit = model.fit()\n",
        "\n",
        "# Make predictions on the test set\n",
        "ar_predictions_scaled = model_fit.predict(start=len(ar_train_scaled), end=len(ar_train_scaled) + len(ar_test_scaled) - 1)\n",
        "\n",
        "# Inverse transform the predictions to obtain the original scale\n",
        "predictions = scaler.inverse_transform(ar_predictions_scaled.reshape(-1, 1)).flatten()\n",
        "\n",
        "# Convert predictions to binary labels based on a threshold\n",
        "threshold = 0.5  # Adjust this threshold based on your problem\n",
        "predicted_labels = [1 if p >= threshold else 0 for p in predictions]\n",
        "\n",
        "# Convert actual values to binary labels based on a threshold\n",
        "actual_labels = [1 if a >= threshold else 0 for a in test_series]\n",
        "\n",
        "# Calculate MAPE\n",
        "mape = np.mean(np.abs((ar_test_scaled - ar_predictions_scaled) / ar_test_scaled)) * 100\n",
        "\n",
        "# Calculate MAE\n",
        "mae = mean_absolute_error(ar_test_scaled, ar_predictions_scaled)\n",
        "\n",
        "# Calculate RMSE\n",
        "rmse = mean_squared_error(ar_test_scaled, ar_predictions_scaled, squared=False)\n",
        "\n",
        "# Print the F1 score\n",
        "print(\"MAPE:\", mape)\n",
        "# Print the MAE and RMSE\n",
        "print(\"MAE:\", mae)\n",
        "print(\"RMSE:\", rmse)"
      ]
    },
    {
      "cell_type": "code",
      "source": [
        "import pandas as pd\n",
        "import matplotlib.pyplot as plt\n",
        "\n",
        "\n",
        "# Create a line chart\n",
        "plt.plot(ar_test_scaled, label='Test Series')\n",
        "#plt.plot(ar_test_scaled, label='Predicted Series')\n",
        "\n",
        "# Add labels and title\n",
        "plt.xlabel('Year')\n",
        "plt.ylabel('Value')\n",
        "plt.title('Test Series vs Predicted Series')\n",
        "\n",
        "# Add a legend\n",
        "plt.legend()\n",
        "\n",
        "# Display the chart\n",
        "plt.show()\n"
      ],
      "metadata": {
        "colab": {
          "base_uri": "https://localhost:8080/",
          "height": 472
        },
        "id": "8KqjspjCjBVL",
        "outputId": "fc4acbad-34fa-47c4-918f-8b3c3668afe0"
      },
      "execution_count": null,
      "outputs": [
        {
          "output_type": "display_data",
          "data": {
            "text/plain": [
              "<Figure size 640x480 with 1 Axes>"
            ],
            "image/png": "[encoded data removed]"
          },
          "metadata": {}
        }
      ]
    },
    {
      "cell_type": "code",
      "execution_count": null,
      "metadata": {
        "colab": {
          "base_uri": "https://localhost:8080/"
        },
        "id": "o-s_uyIwPRya",
        "outputId": "72c838be-f323-415d-d818-84989b5cb60e"
      },
      "outputs": [
        {
          "output_type": "stream",
          "name": "stderr",
          "text": [
            "/usr/local/lib/python3.10/dist-packages/statsmodels/tsa/statespace/sarimax.py:978: UserWarning: Non-invertible starting MA parameters found. Using zeros as starting parameters.\n",
            "  warn('Non-invertible starting MA parameters found.'\n"
          ]
        },
        {
          "output_type": "stream",
          "name": "stdout",
          "text": [
            "MAPE: 1.963702474732802e+20\n",
            "MAE: 1.5022144294115466e+18\n",
            "RMSE: 4.3341460315034173e+18\n"
          ]
        },
        {
          "output_type": "stream",
          "name": "stderr",
          "text": [
            "/usr/local/lib/python3.10/dist-packages/statsmodels/base/model.py:604: ConvergenceWarning: Maximum Likelihood optimization failed to converge. Check mle_retvals\n",
            "  warnings.warn(\"Maximum Likelihood optimization failed to \"\n"
          ]
        }
      ],
      "source": [
        "from statsmodels.tsa.arima.model import ARIMA\n",
        "from sklearn.preprocessing import StandardScaler\n",
        "from sklearn.metrics import f1_score\n",
        "from sklearn.metrics import mean_absolute_error, mean_squared_error\n",
        "\n",
        "# Create a StandardScaler instance\n",
        "scaler = StandardScaler()\n",
        "\n",
        "# Fit the scaler on the training data and transform both training and test sets\n",
        "train_scaled = scaler.fit_transform(train_series.values.reshape(-1, 1)).flatten()\n",
        "test_scaled = scaler.transform(test_series.values.reshape(-1, 1)).flatten()\n",
        "\n",
        "# Fit the ARIMA model\n",
        "model = ARIMA(train_scaled, order=(1, 20, 1))\n",
        "model_fit = model.fit()\n",
        "\n",
        "# Make predictions on the test set\n",
        "predictions_scaled = model_fit.predict(start=len(train_scaled), end=len(train_scaled) + len(test_scaled) - 1)\n",
        "\n",
        "# Inverse transform the predictions to obtain the original scale\n",
        "predictions = scaler.inverse_transform(predictions_scaled.reshape(-1, 1)).flatten()\n",
        "\n",
        "# Convert predictions to binary labels based on a threshold\n",
        "threshold = 0.5 \n",
        "predicted_labels = [1 if p >= threshold else 0 for p in predictions]\n",
        "\n",
        "# Convert actual values to binary labels based on a threshold\n",
        "actual_labels = [1 if a >= threshold else 0 for a in test_series]\n",
        "\n",
        "# Calculate MAPE\n",
        "mape = np.mean(np.abs((test_scaled - predictions_scaled) / test_scaled)) * 100\n",
        "\n",
        "# Calculate MAE\n",
        "mae = mean_absolute_error(test_scaled, predictions_scaled)\n",
        "\n",
        "# Calculate RMSE\n",
        "rmse = mean_squared_error(test_scaled, predictions_scaled, squared=False)\n",
        "\n",
        "# Print the F1 score\n",
        "print(\"MAPE:\", mape)\n",
        "# Print the MAE and RMSE\n",
        "print(\"MAE:\", mae)\n",
        "print(\"RMSE:\", rmse)"
      ]
    },
    {
      "cell_type": "markdown",
      "metadata": {
        "id": "AkvAsiJMsojH"
      },
      "source": [
        "## **ES Model**"
      ]
    },
    {
      "cell_type": "code",
      "execution_count": null,
      "metadata": {
        "colab": {
          "base_uri": "https://localhost:8080/"
        },
        "id": "_TUj9Oiyswum",
        "outputId": "ada3d273-d150-488c-f321-68fc02bcd535"
      },
      "outputs": [
        {
          "data": {
            "text/plain": [
              "Year\n",
              "1965-03-31    2.769707e+08\n",
              "1965-06-30    2.936289e+08\n",
              "1965-09-30    3.102871e+08\n",
              "1965-12-31    3.269454e+08\n",
              "1966-03-31    3.436036e+08\n",
              "                  ...     \n",
              "2021-03-31    1.066213e+09\n",
              "2021-06-30   -4.950490e+08\n",
              "2021-09-30   -2.056311e+09\n",
              "2021-12-31   -3.617573e+09\n",
              "2022-03-31   -5.178834e+09\n",
              "Name: ExternalDebt_Adjusted_Diff_20, Length: 229, dtype: float64"
            ]
          },
          "execution_count": 61,
          "metadata": {},
          "output_type": "execute_result"
        }
      ],
      "source": [
        "new_df"
      ]
    },
    {
      "cell_type": "code",
      "execution_count": null,
      "metadata": {
        "colab": {
          "base_uri": "https://localhost:8080/"
        },
        "id": "8rgreLm1sbIW",
        "outputId": "bd7f90fe-c740-4eea-9703-2a1912e6c799"
      },
      "outputs": [
        {
          "output_type": "stream",
          "name": "stdout",
          "text": [
            "MAPE: 2191.8612625959818\n",
            "MAE: 11.251338885429151\n",
            "RMSE: 15.266680593981098\n"
          ]
        }
      ],
      "source": [
        "import pandas as pd\n",
        "import numpy as np\n",
        "from statsmodels.tsa.holtwinters import ExponentialSmoothing\n",
        "from sklearn.metrics import f1_score\n",
        "\n",
        "# Create a StandardScaler instance\n",
        "scaler = StandardScaler()\n",
        "\n",
        "# Fit the scaler on the training data and transform both training and test sets\n",
        "es_train_scaled = scaler.fit_transform(train_series.values.reshape(-1, 1)).flatten()\n",
        "es_test_scaled = scaler.transform(test_series.values.reshape(-1, 1)).flatten()\n",
        "\n",
        "# Choose the appropriate exponential smoothing method\n",
        "model = ExponentialSmoothing(es_train_scaled, trend='add', seasonal='add', seasonal_periods=4)\n",
        "\n",
        "# Fit the exponential smoothing model\n",
        "model_fit = model.fit()\n",
        "\n",
        "\n",
        "es_forecast = model_fit.forecast(len(es_test_scaled))\n",
        "\n",
        "# Calculate MAPE\n",
        "mape = np.mean(np.abs((es_test_scaled - es_forecast) / es_test_scaled)) * 100\n",
        "\n",
        "# Calculate MAE\n",
        "mae = mean_absolute_error(es_test_scaled, es_forecast)\n",
        "\n",
        "# Calculate RMSE\n",
        "rmse = mean_squared_error(es_test_scaled, es_forecast, squared=False)\n",
        "\n",
        "# Print the F1 score\n",
        "print(\"MAPE:\", mape)\n",
        "# Print the MAE and RMSE\n",
        "print(\"MAE:\", mae)\n",
        "print(\"RMSE:\", rmse)\n"
      ]
    },
    {
      "cell_type": "code",
      "source": [
        "import pandas as pd\n",
        "import matplotlib.pyplot as plt\n",
        "\n",
        "\n",
        "# Create a line chart\n",
        "plt.plot(es_test_scaled, label='Test Series')\n",
        "plt.plot(es_forecast, label='Predicted Series')\n",
        "\n",
        "# Add labels and title\n",
        "plt.xlabel('Year')\n",
        "plt.ylabel('Value')\n",
        "plt.title('Test Series vs Predicted Series')\n",
        "\n",
        "# Add a legend\n",
        "plt.legend()\n",
        "\n",
        "# Display the chart\n",
        "plt.show()\n"
      ],
      "metadata": {
        "colab": {
          "base_uri": "https://localhost:8080/",
          "height": 472
        },
        "id": "AHO1f7KEl3db",
        "outputId": "b519edef-bb6f-410e-cf72-63c8f61e9527"
      },
      "execution_count": null,
      "outputs": [
        {
          "output_type": "display_data",
          "data": {
            "text/plain": [
              "<Figure size 640x480 with 1 Axes>"
            ],
            "image/png": "[encoded data removed]"
          },
          "metadata": {}
        }
      ]
    },
    {
      "cell_type": "markdown",
      "source": [
        "## **GARCH**\n",
        "Genralized Autoregressive Conditonal Heteroskedasticity\n"
      ],
      "metadata": {
        "id": "wVsDe-HCTHXl"
      }
    },
    {
      "cell_type": "code",
      "source": [
        "!pip install arch\n"
      ],
      "metadata": {
        "colab": {
          "base_uri": "https://localhost:8080/"
        },
        "id": "6HKQJfDZWTmg",
        "outputId": "d6d2082f-71eb-4c14-b8d2-1e49daca3302"
      },
      "execution_count": null,
      "outputs": [
        {
          "output_type": "stream",
          "name": "stdout",
          "text": [
            "Looking in indexes: https://pypi.org/simple, https://us-python.pkg.dev/colab-wheels/public/simple/\n",
            "Collecting arch\n",
            "  Downloading arch-6.0.1-cp310-cp310-manylinux_2_17_x86_64.manylinux2014_x86_64.whl (915 kB)\n",
            "\u001b[2K     \u001b[90m━━━━━━━━━━━━━━━━━━━━━━━━━━━━━━━━━━━━━━\u001b[0m \u001b[32m915.8/915.8 kB\u001b[0m \u001b[31m15.2 MB/s\u001b[0m eta \u001b[36m0:00:00\u001b[0m\n",
            "\u001b[?25hRequirement already satisfied: numpy>=1.19 in /usr/local/lib/python3.10/dist-packages (from arch) (1.22.4)\n",
            "Requirement already satisfied: scipy>=1.5 in /usr/local/lib/python3.10/dist-packages (from arch) (1.10.1)\n",
            "Requirement already satisfied: pandas>=1.1 in /usr/local/lib/python3.10/dist-packages (from arch) (1.5.3)\n",
            "Requirement already satisfied: statsmodels>=0.12 in /usr/local/lib/python3.10/dist-packages (from arch) (0.13.5)\n",
            "Requirement already satisfied: python-dateutil>=2.8.1 in /usr/local/lib/python3.10/dist-packages (from pandas>=1.1->arch) (2.8.2)\n",
            "Requirement already satisfied: pytz>=2020.1 in /usr/local/lib/python3.10/dist-packages (from pandas>=1.1->arch) (2022.7.1)\n",
            "Requirement already satisfied: patsy>=0.5.2 in /usr/local/lib/python3.10/dist-packages (from statsmodels>=0.12->arch) (0.5.3)\n",
            "Requirement already satisfied: packaging>=21.3 in /usr/local/lib/python3.10/dist-packages (from statsmodels>=0.12->arch) (23.1)\n",
            "Requirement already satisfied: six in /usr/local/lib/python3.10/dist-packages (from patsy>=0.5.2->statsmodels>=0.12->arch) (1.16.0)\n",
            "Installing collected packages: arch\n",
            "Successfully installed arch-6.0.1\n"
          ]
        }
      ]
    },
    {
      "cell_type": "code",
      "source": [
        "import arch\n",
        "from statsmodels.stats.diagnostic import acorr_ljungbox\n",
        "\n",
        "# Create a StandardScaler instance\n",
        "scaler = StandardScaler()\n",
        "\n",
        "# Fit the scaler on the training data and transform both training and test sets\n",
        "g_train_scaled = scaler.fit_transform(train_series.values.reshape(-1, 1)).flatten()\n",
        "g_test_scaled = scaler.transform(test_series.values.reshape(-1, 1)).flatten()\n",
        "\n",
        "\n",
        "# Fit the GARCH model to the training data\n",
        "model = arch.arch_model(g_train_scaled, vol='Garch', p=1, q=1)\n",
        "model_fit = model.fit()\n",
        "\n",
        "forecast = model_fit.forecast(start=len(g_test_scaled))\n",
        "# Convert the forecasted values to an array\n",
        "forecast_values = forecast.mean.values[-len(g_test_scaled):]\n",
        "\n",
        "\n",
        "# Calculate MAPE\n",
        "mape = np.mean(np.abs((g_test_scaled - forecast_values) / g_test_scaled)) * 100\n",
        "\n",
        "# Calculate MAE\n",
        "mae = mean_absolute_error(g_test_scaled, forecast_values)\n",
        "\n",
        "# Calculate RMSE\n",
        "rmse = mean_squared_error(g_test_scaled, forecast_values, squared=False)\n",
        "\n",
        "# Print the F1 score\n",
        "print(\"MAPE:\", mape)\n",
        "# Print the MAE and RMSE\n",
        "print(\"MAE:\", mae)\n",
        "print(\"RMSE:\", rmse)\n"
      ],
      "metadata": {
        "colab": {
          "base_uri": "https://localhost:8080/"
        },
        "id": "L0eImfj1TGVI",
        "outputId": "d908244b-5e99-46f3-d079-addc7ceafc91"
      },
      "execution_count": null,
      "outputs": [
        {
          "output_type": "stream",
          "name": "stdout",
          "text": [
            "Iteration:      1,   Func. Count:      6,   Neg. LLF: 200377285054.8475\n",
            "Iteration:      2,   Func. Count:     15,   Neg. LLF: 139.29479620523364\n",
            "Iteration:      3,   Func. Count:     21,   Neg. LLF: 156209480.6322869\n",
            "Iteration:      4,   Func. Count:     27,   Neg. LLF: 261.88590329170154\n",
            "Iteration:      5,   Func. Count:     33,   Neg. LLF: 183.0297263894632\n",
            "Iteration:      6,   Func. Count:     39,   Neg. LLF: 263.0048021737392\n",
            "Iteration:      7,   Func. Count:     45,   Neg. LLF: 903.777950686166\n",
            "Iteration:      8,   Func. Count:     51,   Neg. LLF: 452.2595403577004\n",
            "Iteration:      9,   Func. Count:     57,   Neg. LLF: 142.23080056434526\n",
            "Iteration:     10,   Func. Count:     63,   Neg. LLF: 160.43119204845618\n",
            "Iteration:     11,   Func. Count:     69,   Neg. LLF: 1244.078475072727\n",
            "Iteration:     12,   Func. Count:     75,   Neg. LLF: 15827.06369391016\n",
            "Iteration:     13,   Func. Count:     81,   Neg. LLF: 362.73271078896846\n",
            "Iteration:     14,   Func. Count:     87,   Neg. LLF: 285.2992462460135\n",
            "Iteration:     15,   Func. Count:     93,   Neg. LLF: 54.776787247085544\n",
            "Iteration:     16,   Func. Count:     99,   Neg. LLF: 50.333060561928235\n",
            "Iteration:     17,   Func. Count:    104,   Neg. LLF: 382.27188194319746\n",
            "Iteration:     18,   Func. Count:    110,   Neg. LLF: 50.32836289524091\n",
            "Iteration:     19,   Func. Count:    116,   Neg. LLF: 50.283713858509344\n",
            "Iteration:     20,   Func. Count:    120,   Neg. LLF: 50.28371397263029\n",
            "Optimization terminated successfully    (Exit mode 0)\n",
            "            Current function value: 50.283713858509344\n",
            "            Iterations: 20\n",
            "            Function evaluations: 120\n",
            "            Gradient evaluations: 20\n",
            "MAPE: 127.91360534648494\n",
            "MAE: 6.480710849603827\n",
            "RMSE: 7.57453655478268\n"
          ]
        },
        {
          "output_type": "stream",
          "name": "stderr",
          "text": [
            "/usr/local/lib/python3.10/dist-packages/arch/__future__/_utility.py:11: FutureWarning: \n",
            "The default for reindex is True. After September 2021 this will change to\n",
            "False. Set reindex to True or False to silence this message. Alternatively,\n",
            "you can use the import comment\n",
            "\n",
            "from arch.__future__ import reindexing\n",
            "\n",
            "to globally set reindex to True and silence this warning.\n",
            "\n",
            "  warnings.warn(\n"
          ]
        }
      ]
    },
    {
      "cell_type": "code",
      "source": [
        "import pandas as pd\n",
        "import matplotlib.pyplot as plt\n",
        "\n",
        "\n",
        "# Create a line chart\n",
        "plt.plot(g_test_scaled, label='Test Series')\n",
        "plt.plot(forecast_values, label='Predicted Series')\n",
        "\n",
        "# Add labels and title\n",
        "plt.xlabel('Year')\n",
        "plt.ylabel('Value')\n",
        "plt.title('Test Series vs Predicted Series')\n",
        "\n",
        "# Add a legend\n",
        "plt.legend()\n",
        "\n",
        "# Display the chart\n",
        "plt.show()\n"
      ],
      "metadata": {
        "colab": {
          "base_uri": "https://localhost:8080/",
          "height": 472
        },
        "id": "W0fKw8Fhn2rO",
        "outputId": "723e6a56-302a-4e1a-ab3d-dcc8c63b1b31"
      },
      "execution_count": null,
      "outputs": [
        {
          "output_type": "display_data",
          "data": {
            "text/plain": [
              "<Figure size 640x480 with 1 Axes>"
            ],
            "image/png": "[encoded data removed]"
          },
          "metadata": {}
        }
      ]
    },
    {
      "cell_type": "markdown",
      "source": [
        "##**AUTOENCODER**"
      ],
      "metadata": {
        "id": "bDCObRX2piFb"
      }
    },
    {
      "cell_type": "code",
      "source": [
        "import numpy as np\n",
        "import tensorflow as tf\n",
        "from tensorflow.keras.layers import Input, Dense\n",
        "from tensorflow.keras.models import Model\n",
        "\n",
        "# Assuming you have a dataset of currency exchange rates stored in a numpy array\n",
        "# X_train = Training data\n",
        "# X_test = Testing data\n",
        "\n",
        "# Create a StandardScaler instance\n",
        "scaler = StandardScaler()\n",
        "\n",
        "# Fit the scaler on the training data and transform both training and test sets\n",
        "a_train_scaled = scaler.fit_transform(train_series.values.reshape(-1, 1))\n",
        "a_test_scaled = scaler.transform(test_series.values.reshape(-1, 1))\n",
        "\n",
        "\n",
        "# Define the dimensions of the input data\n",
        "input_dim = a_train_scaled.shape[1]\n",
        "\n",
        "# Define the dimensions of the hidden layers\n",
        "encoding_dim = 64\n",
        "\n",
        "# Define the input layer\n",
        "input_layer = Input(shape=(input_dim,))\n",
        "\n",
        "# Define the encoder layers\n",
        "encoder = Dense(encoding_dim, activation='relu')(input_layer)\n",
        "\n",
        "# Define the decoder layers\n",
        "decoder = Dense(input_dim, activation='sigmoid')(encoder)\n",
        "\n",
        "# Define the autoencoder model\n",
        "autoencoder = Model(inputs=input_layer, outputs=decoder)\n",
        "\n",
        "# Compile the model\n",
        "autoencoder.compile(optimizer='adam', loss='mean_squared_error')\n",
        "\n",
        "# Train the autoencoder model\n",
        "autoencoder.fit(a_train_scaled, a_train_scaled, epochs=50, batch_size=20, shuffle=True, validation_data=(a_test_scaled, a_test_scaled))\n",
        "\n",
        "# Use the trained autoencoder to predict the currency exchange rates\n",
        "predicted_rates = autoencoder.predict(a_test_scaled)\n",
        "\n",
        "\n",
        "# Calculate MAPE\n",
        "mape = np.mean(np.abs((a_test_scaled - predicted_rates) / test_scaled)) * 100\n",
        "\n",
        "# Calculate MAE\n",
        "mae = mean_absolute_error(a_test_scaled, predicted_rates)\n",
        "\n",
        "# Calculate RMSE\n",
        "rmse = mean_squared_error(a_test_scaled, predicted_rates, squared=False)\n",
        "\n",
        "# Print the F1 score\n",
        "print(\"MAPE:\", mape)\n",
        "# Print the MAE and RMSE\n",
        "print(\"MAE:\", mae)\n",
        "print(\"RMSE:\", rmse)"
      ],
      "metadata": {
        "colab": {
          "base_uri": "https://localhost:8080/",
          "height": 1000
        },
        "id": "vTw2D7RqZLOx",
        "outputId": "7e71cae0-9124-4ec7-86d9-62cca102304a"
      },
      "execution_count": null,
      "outputs": [
        {
          "output_type": "stream",
          "name": "stdout",
          "text": [
            "Epoch 1/50\n",
            "9/9 [==============================] - 4s 122ms/step - loss: 1.2702 - val_loss: 45.1393\n",
            "Epoch 2/50\n",
            "9/9 [==============================] - 0s 17ms/step - loss: 1.2117 - val_loss: 43.6480\n",
            "Epoch 3/50\n",
            "9/9 [==============================] - 0s 17ms/step - loss: 1.1557 - val_loss: 42.5722\n",
            "Epoch 4/50\n",
            "9/9 [==============================] - 0s 23ms/step - loss: 1.1053 - val_loss: 41.8267\n",
            "Epoch 5/50\n",
            "9/9 [==============================] - 0s 28ms/step - loss: 1.0626 - val_loss: 41.2411\n",
            "Epoch 6/50\n",
            "9/9 [==============================] - 0s 19ms/step - loss: 1.0186 - val_loss: 40.9221\n",
            "Epoch 7/50\n",
            "9/9 [==============================] - 0s 25ms/step - loss: 0.9806 - val_loss: 40.7013\n",
            "Epoch 8/50\n",
            "9/9 [==============================] - 0s 18ms/step - loss: 0.9460 - val_loss: 40.5513\n",
            "Epoch 9/50\n",
            "9/9 [==============================] - 0s 21ms/step - loss: 0.9136 - val_loss: 40.4386\n",
            "Epoch 10/50\n",
            "9/9 [==============================] - 0s 17ms/step - loss: 0.8835 - val_loss: 40.3614\n",
            "Epoch 11/50\n",
            "9/9 [==============================] - 0s 36ms/step - loss: 0.8554 - val_loss: 40.3089\n",
            "Epoch 12/50\n",
            "9/9 [==============================] - 0s 37ms/step - loss: 0.8296 - val_loss: 40.2685\n",
            "Epoch 13/50\n",
            "9/9 [==============================] - 0s 38ms/step - loss: 0.8053 - val_loss: 40.2397\n",
            "Epoch 14/50\n",
            "9/9 [==============================] - 0s 37ms/step - loss: 0.7839 - val_loss: 40.2156\n",
            "Epoch 15/50\n",
            "9/9 [==============================] - 0s 26ms/step - loss: 0.7642 - val_loss: 40.1968\n",
            "Epoch 16/50\n",
            "9/9 [==============================] - 0s 16ms/step - loss: 0.7461 - val_loss: 40.1799\n",
            "Epoch 17/50\n",
            "9/9 [==============================] - 0s 26ms/step - loss: 0.7294 - val_loss: 40.1671\n",
            "Epoch 18/50\n",
            "9/9 [==============================] - 0s 13ms/step - loss: 0.7142 - val_loss: 40.1567\n",
            "Epoch 19/50\n",
            "9/9 [==============================] - 0s 28ms/step - loss: 0.7009 - val_loss: 40.1472\n",
            "Epoch 20/50\n",
            "9/9 [==============================] - 0s 22ms/step - loss: 0.6888 - val_loss: 40.1392\n",
            "Epoch 21/50\n",
            "9/9 [==============================] - 0s 20ms/step - loss: 0.6781 - val_loss: 40.1327\n",
            "Epoch 22/50\n",
            "9/9 [==============================] - 0s 18ms/step - loss: 0.6684 - val_loss: 40.1280\n",
            "Epoch 23/50\n",
            "9/9 [==============================] - 0s 22ms/step - loss: 0.6598 - val_loss: 40.1236\n",
            "Epoch 24/50\n",
            "9/9 [==============================] - 0s 26ms/step - loss: 0.6520 - val_loss: 40.1199\n",
            "Epoch 25/50\n",
            "9/9 [==============================] - 0s 23ms/step - loss: 0.6451 - val_loss: 40.1168\n",
            "Epoch 26/50\n",
            "9/9 [==============================] - 0s 13ms/step - loss: 0.6389 - val_loss: 40.1138\n",
            "Epoch 27/50\n",
            "9/9 [==============================] - 0s 28ms/step - loss: 0.6335 - val_loss: 40.1111\n",
            "Epoch 28/50\n",
            "9/9 [==============================] - 0s 27ms/step - loss: 0.6285 - val_loss: 40.1088\n",
            "Epoch 29/50\n",
            "9/9 [==============================] - 0s 36ms/step - loss: 0.6241 - val_loss: 40.1067\n",
            "Epoch 30/50\n",
            "9/9 [==============================] - 0s 21ms/step - loss: 0.6201 - val_loss: 40.1049\n",
            "Epoch 31/50\n",
            "9/9 [==============================] - 0s 24ms/step - loss: 0.6165 - val_loss: 40.1033\n",
            "Epoch 32/50\n",
            "9/9 [==============================] - 0s 24ms/step - loss: 0.6132 - val_loss: 40.1019\n",
            "Epoch 33/50\n",
            "9/9 [==============================] - 0s 21ms/step - loss: 0.6102 - val_loss: 40.1007\n",
            "Epoch 34/50\n",
            "9/9 [==============================] - 0s 49ms/step - loss: 0.6075 - val_loss: 40.0997\n",
            "Epoch 35/50\n",
            "9/9 [==============================] - 0s 45ms/step - loss: 0.6051 - val_loss: 40.0986\n",
            "Epoch 36/50\n",
            "9/9 [==============================] - 0s 29ms/step - loss: 0.6028 - val_loss: 40.0977\n",
            "Epoch 37/50\n",
            "9/9 [==============================] - 0s 45ms/step - loss: 0.6008 - val_loss: 40.0969\n",
            "Epoch 38/50\n",
            "9/9 [==============================] - 0s 22ms/step - loss: 0.5989 - val_loss: 40.0961\n",
            "Epoch 39/50\n",
            "9/9 [==============================] - 0s 33ms/step - loss: 0.5972 - val_loss: 40.0954\n",
            "Epoch 40/50\n",
            "9/9 [==============================] - 0s 36ms/step - loss: 0.5956 - val_loss: 40.0948\n",
            "Epoch 41/50\n",
            "9/9 [==============================] - 0s 43ms/step - loss: 0.5942 - val_loss: 40.0942\n",
            "Epoch 42/50\n",
            "9/9 [==============================] - 0s 27ms/step - loss: 0.5928 - val_loss: 40.0937\n",
            "Epoch 43/50\n",
            "9/9 [==============================] - 0s 49ms/step - loss: 0.5916 - val_loss: 40.0933\n",
            "Epoch 44/50\n",
            "9/9 [==============================] - 0s 38ms/step - loss: 0.5905 - val_loss: 40.0928\n",
            "Epoch 45/50\n",
            "9/9 [==============================] - 0s 52ms/step - loss: 0.5894 - val_loss: 40.0924\n",
            "Epoch 46/50\n",
            "9/9 [==============================] - 0s 53ms/step - loss: 0.5885 - val_loss: 40.0920\n",
            "Epoch 47/50\n",
            "9/9 [==============================] - 0s 43ms/step - loss: 0.5875 - val_loss: 40.0917\n",
            "Epoch 48/50\n",
            "9/9 [==============================] - 0s 43ms/step - loss: 0.5867 - val_loss: 40.0913\n",
            "Epoch 49/50\n",
            "9/9 [==============================] - 0s 29ms/step - loss: 0.5859 - val_loss: 40.0910\n",
            "Epoch 50/50\n",
            "9/9 [==============================] - 0s 36ms/step - loss: 0.5852 - val_loss: 40.0907\n",
            "2/2 [==============================] - 1s 9ms/step\n"
          ]
        },
        {
          "output_type": "error",
          "ename": "NameError",
          "evalue": "ignored",
          "traceback": [
            "\u001b[0;31m---------------------------------------------------------------------------\u001b[0m",
            "\u001b[0;31mNameError\u001b[0m                                 Traceback (most recent call last)",
            "\u001b[0;32m<ipython-input-32-0fa1b3d3c552>\u001b[0m in \u001b[0;36m<cell line: 47>\u001b[0;34m()\u001b[0m\n\u001b[1;32m     45\u001b[0m \u001b[0;34m\u001b[0m\u001b[0m\n\u001b[1;32m     46\u001b[0m \u001b[0;31m# Calculate MAPE\u001b[0m\u001b[0;34m\u001b[0m\u001b[0;34m\u001b[0m\u001b[0m\n\u001b[0;32m---> 47\u001b[0;31m \u001b[0mmape\u001b[0m \u001b[0;34m=\u001b[0m \u001b[0mnp\u001b[0m\u001b[0;34m.\u001b[0m\u001b[0mmean\u001b[0m\u001b[0;34m(\u001b[0m\u001b[0mnp\u001b[0m\u001b[0;34m.\u001b[0m\u001b[0mabs\u001b[0m\u001b[0;34m(\u001b[0m\u001b[0;34m(\u001b[0m\u001b[0ma_test_scaled\u001b[0m \u001b[0;34m-\u001b[0m \u001b[0mpredicted_rates\u001b[0m\u001b[0;34m)\u001b[0m \u001b[0;34m/\u001b[0m \u001b[0mtest_scaled\u001b[0m\u001b[0;34m)\u001b[0m\u001b[0;34m)\u001b[0m \u001b[0;34m*\u001b[0m \u001b[0;36m100\u001b[0m\u001b[0;34m\u001b[0m\u001b[0;34m\u001b[0m\u001b[0m\n\u001b[0m\u001b[1;32m     48\u001b[0m \u001b[0;34m\u001b[0m\u001b[0m\n\u001b[1;32m     49\u001b[0m \u001b[0;31m# Calculate MAE\u001b[0m\u001b[0;34m\u001b[0m\u001b[0;34m\u001b[0m\u001b[0m\n",
            "\u001b[0;31mNameError\u001b[0m: name 'test_scaled' is not defined"
          ]
        }
      ]
    },
    {
      "cell_type": "code",
      "source": [
        "import pandas as pd\n",
        "import matplotlib.pyplot as plt\n",
        "\n",
        "\n",
        "# Create a line chart\n",
        "plt.plot(a_test_scaled, label='Test Series')\n",
        "plt.plot(predicted_rates, label='Predicted Series')\n",
        "\n",
        "# Add labels and title\n",
        "plt.xlabel('Year')\n",
        "plt.ylabel('Value')\n",
        "plt.title('Test Series vs Predicted Series')\n",
        "\n",
        "# Add a legend\n",
        "plt.legend()\n",
        "\n",
        "# Display the chart\n",
        "plt.show()\n"
      ],
      "metadata": {
        "colab": {
          "base_uri": "https://localhost:8080/",
          "height": 472
        },
        "id": "1sJGLsUjpSmP",
        "outputId": "a32eb2fc-2f0c-47d0-ade2-5d92b6ddbac3"
      },
      "execution_count": null,
      "outputs": [
        {
          "output_type": "display_data",
          "data": {
            "text/plain": [
              "<Figure size 640x480 with 1 Axes>"
            ],
            "image/png": "[encoded data removed]"
          },
          "metadata": {}
        }
      ]
    },
    {
      "cell_type": "markdown",
      "source": [
        "## **Parameter Tuning**"
      ],
      "metadata": {
        "id": "Ghqw6dOzsmqX"
      }
    },
    {
      "cell_type": "code",
      "source": [
        "import warnings\n",
        "\n",
        "warnings.filterwarnings(\"ignore\")\n",
        "\n",
        "\n"
      ],
      "metadata": {
        "id": "RbFjMl_HtySk"
      },
      "execution_count": null,
      "outputs": []
    },
    {
      "cell_type": "code",
      "source": [
        "# Define the parameter combinations to try\n",
        "order_combinations = [(1, 1, 0), (2, 1, 0), (1, 2, 0),(1, 20, 0),(1, 20, 1),(0, 20, 0)]  # Replace with your desired parameter combinations\n",
        "\n",
        "# Initialize variables to store the best model and its performance\n",
        "best_mae = np.inf\n",
        "best_order = None\n",
        "\n",
        "# Iterate over the parameter combinations\n",
        "for order in order_combinations:\n",
        "    # Fit the ARIMA model\n",
        "    model = ARIMA(ar_train_scaled, order=order)\n",
        "    model_fit = model.fit()\n",
        "\n",
        "    # Make predictions on the test set\n",
        "    ar_predictions_scaled = model_fit.predict(start=len(ar_train_scaled), end=len(ar_train_scaled) + len(ar_test_scaled) - 1)\n",
        "\n",
        "    # Inverse transform the predictions to obtain the original scale\n",
        "    predictions = scaler.inverse_transform(ar_predictions_scaled.reshape(-1, 1)).flatten()\n",
        "\n",
        "    # Calculate MAE\n",
        "    mae = mean_absolute_error(ar_test_scaled, ar_predictions_scaled)\n",
        "\n",
        "    # Check if the current model outperforms the best model\n",
        "    if mae < best_mae:\n",
        "        best_mae = mae\n",
        "        best_order = order\n",
        "\n",
        "\n",
        "print(\"Best Order: \",best_order)\n",
        "print(\"Best MAE: \",best_mae)"
      ],
      "metadata": {
        "colab": {
          "base_uri": "https://localhost:8080/"
        },
        "id": "AxiCIO01smSF",
        "outputId": "e205f418-d6aa-4b47-9e10-fa549c05989e"
      },
      "execution_count": null,
      "outputs": [
        {
          "output_type": "stream",
          "name": "stdout",
          "text": [
            "Best Order:  (2, 1, 0)\n",
            "Best MAE:  8.426926576445204\n"
          ]
        }
      ]
    }
  ],
  "metadata": {
    "colab": {
      "provenance": []
    },
    "kernelspec": {
      "display_name": "Python 3",
      "name": "python3"
    },
    "language_info": {
      "name": "python"
    }
  },
  "nbformat": 4,
  "nbformat_minor": 0
}