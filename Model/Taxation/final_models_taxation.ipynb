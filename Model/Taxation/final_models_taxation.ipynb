{
  "cells": [
    {
      "cell_type": "code",
      "execution_count": 1,
      "metadata": {
        "id": "dTtBuSX51l-E"
      },
      "outputs": [],
      "source": [
        "#import required packages\n",
        "import numpy as np\n",
        "import pandas as pd\n",
        "import matplotlib.pyplot as plt\n",
        "import seaborn as sns\n",
        "sns.set()\n",
        "\n",
        "from sklearn.metrics import r2_score, median_absolute_error, mean_absolute_error\n",
        "from sklearn.metrics import median_absolute_error, mean_squared_error, mean_squared_log_error\n",
        "\n",
        "from scipy.optimize import minimize\n",
        "import statsmodels.tsa.api as smt\n",
        "import statsmodels.api as sm\n",
        "\n",
        "from tqdm import tqdm_notebook\n",
        "\n",
        "from itertools import product\n",
        "\n",
        "from statsmodels.tsa.stattools import adfuller"
      ]
    },
    {
      "cell_type": "code",
      "execution_count": 4,
      "metadata": {
        "id": "FUBh_8_04Fmj"
      },
      "outputs": [],
      "source": [
        "data = pd.read_csv('/content/cbsl_tot_tax.csv')"
      ]
    },
    {
      "cell_type": "code",
      "execution_count": 5,
      "metadata": {
        "colab": {
          "base_uri": "https://localhost:8080/",
          "height": 206
        },
        "id": "ipvZv1Il4MrQ",
        "outputId": "335776e4-02e8-410d-e368-4a49b94ae134"
      },
      "outputs": [
        {
          "data": {
            "text/html": [
              "\n",
              "  <div id=\"df-3f7543d1-5ef3-4ca4-bc7d-53c97ac17b6a\" class=\"colab-df-container\">\n",
              "    <div>\n",
              "<style scoped>\n",
              "    .dataframe tbody tr th:only-of-type {\n",
              "        vertical-align: middle;\n",
              "    }\n",
              "\n",
              "    .dataframe tbody tr th {\n",
              "        vertical-align: top;\n",
              "    }\n",
              "\n",
              "    .dataframe thead th {\n",
              "        text-align: right;\n",
              "    }\n",
              "</style>\n",
              "<table border=\"1\" class=\"dataframe\">\n",
              "  <thead>\n",
              "    <tr style=\"text-align: right;\">\n",
              "      <th></th>\n",
              "      <th>Year</th>\n",
              "      <th>Tax Revenue</th>\n",
              "    </tr>\n",
              "  </thead>\n",
              "  <tbody>\n",
              "    <tr>\n",
              "      <th>0</th>\n",
              "      <td>1990</td>\n",
              "      <td>61206.0</td>\n",
              "    </tr>\n",
              "    <tr>\n",
              "      <th>1</th>\n",
              "      <td>1991</td>\n",
              "      <td>68157.0</td>\n",
              "    </tr>\n",
              "    <tr>\n",
              "      <th>2</th>\n",
              "      <td>1992</td>\n",
              "      <td>76353.0</td>\n",
              "    </tr>\n",
              "    <tr>\n",
              "      <th>3</th>\n",
              "      <td>1993</td>\n",
              "      <td>85891.0</td>\n",
              "    </tr>\n",
              "    <tr>\n",
              "      <th>4</th>\n",
              "      <td>1994</td>\n",
              "      <td>99417.0</td>\n",
              "    </tr>\n",
              "  </tbody>\n",
              "</table>\n",
              "</div>\n",
              "    <div class=\"colab-df-buttons\">\n",
              "\n",
              "  <div class=\"colab-df-container\">\n",
              "    <button class=\"colab-df-convert\" onclick=\"convertToInteractive('df-3f7543d1-5ef3-4ca4-bc7d-53c97ac17b6a')\"\n",
              "            title=\"Convert this dataframe to an interactive table.\"\n",
              "            style=\"display:none;\">\n",
              "\n",
              "  <svg xmlns=\"http://www.w3.org/2000/svg\" height=\"24px\" viewBox=\"0 -960 960 960\">\n",
              "    <path d=\"M120-120v-720h720v720H120Zm60-500h600v-160H180v160Zm220 220h160v-160H400v160Zm0 220h160v-160H400v160ZM180-400h160v-160H180v160Zm440 0h160v-160H620v160ZM180-180h160v-160H180v160Zm440 0h160v-160H620v160Z\"/>\n",
              "  </svg>\n",
              "    </button>\n",
              "\n",
              "  <style>\n",
              "    .colab-df-container {\n",
              "      display:flex;\n",
              "      gap: 12px;\n",
              "    }\n",
              "\n",
              "    .colab-df-convert {\n",
              "      background-color: #E8F0FE;\n",
              "      border: none;\n",
              "      border-radius: 50%;\n",
              "      cursor: pointer;\n",
              "      display: none;\n",
              "      fill: #1967D2;\n",
              "      height: 32px;\n",
              "      padding: 0 0 0 0;\n",
              "      width: 32px;\n",
              "    }\n",
              "\n",
              "    .colab-df-convert:hover {\n",
              "      background-color: #E2EBFA;\n",
              "      box-shadow: 0px 1px 2px rgba(60, 64, 67, 0.3), 0px 1px 3px 1px rgba(60, 64, 67, 0.15);\n",
              "      fill: #174EA6;\n",
              "    }\n",
              "\n",
              "    .colab-df-buttons div {\n",
              "      margin-bottom: 4px;\n",
              "    }\n",
              "\n",
              "    [theme=dark] .colab-df-convert {\n",
              "      background-color: #3B4455;\n",
              "      fill: #D2E3FC;\n",
              "    }\n",
              "\n",
              "    [theme=dark] .colab-df-convert:hover {\n",
              "      background-color: #434B5C;\n",
              "      box-shadow: 0px 1px 3px 1px rgba(0, 0, 0, 0.15);\n",
              "      filter: drop-shadow(0px 1px 2px rgba(0, 0, 0, 0.3));\n",
              "      fill: #FFFFFF;\n",
              "    }\n",
              "  </style>\n",
              "\n",
              "    <script>\n",
              "      const buttonEl =\n",
              "        document.querySelector('#df-3f7543d1-5ef3-4ca4-bc7d-53c97ac17b6a button.colab-df-convert');\n",
              "      buttonEl.style.display =\n",
              "        google.colab.kernel.accessAllowed ? 'block' : 'none';\n",
              "\n",
              "      async function convertToInteractive(key) {\n",
              "        const element = document.querySelector('#df-3f7543d1-5ef3-4ca4-bc7d-53c97ac17b6a');\n",
              "        const dataTable =\n",
              "          await google.colab.kernel.invokeFunction('convertToInteractive',\n",
              "                                                    [key], {});\n",
              "        if (!dataTable) return;\n",
              "\n",
              "        const docLinkHtml = 'Like what you see? Visit the ' +\n",
              "          '<a target=\"_blank\" href=https://colab.research.google.com/notebooks/data_table.ipynb>data table notebook</a>'\n",
              "          + ' to learn more about interactive tables.';\n",
              "        element.innerHTML = '';\n",
              "        dataTable['output_type'] = 'display_data';\n",
              "        await google.colab.output.renderOutput(dataTable, element);\n",
              "        const docLink = document.createElement('div');\n",
              "        docLink.innerHTML = docLinkHtml;\n",
              "        element.appendChild(docLink);\n",
              "      }\n",
              "    </script>\n",
              "  </div>\n",
              "\n",
              "\n",
              "<div id=\"df-57f0acbf-9fd5-42a9-ad9b-65a0e1fe6b40\">\n",
              "  <button class=\"colab-df-quickchart\" onclick=\"quickchart('df-57f0acbf-9fd5-42a9-ad9b-65a0e1fe6b40')\"\n",
              "            title=\"Suggest charts.\"\n",
              "            style=\"display:none;\">\n",
              "\n",
              "<svg xmlns=\"http://www.w3.org/2000/svg\" height=\"24px\"viewBox=\"0 0 24 24\"\n",
              "     width=\"24px\">\n",
              "    <g>\n",
              "        <path d=\"M19 3H5c-1.1 0-2 .9-2 2v14c0 1.1.9 2 2 2h14c1.1 0 2-.9 2-2V5c0-1.1-.9-2-2-2zM9 17H7v-7h2v7zm4 0h-2V7h2v10zm4 0h-2v-4h2v4z\"/>\n",
              "    </g>\n",
              "</svg>\n",
              "  </button>\n",
              "\n",
              "<style>\n",
              "  .colab-df-quickchart {\n",
              "    background-color: #E8F0FE;\n",
              "    border: none;\n",
              "    border-radius: 50%;\n",
              "    cursor: pointer;\n",
              "    display: none;\n",
              "    fill: #1967D2;\n",
              "    height: 32px;\n",
              "    padding: 0 0 0 0;\n",
              "    width: 32px;\n",
              "  }\n",
              "\n",
              "  .colab-df-quickchart:hover {\n",
              "    background-color: #E2EBFA;\n",
              "    box-shadow: 0px 1px 2px rgba(60, 64, 67, 0.3), 0px 1px 3px 1px rgba(60, 64, 67, 0.15);\n",
              "    fill: #174EA6;\n",
              "  }\n",
              "\n",
              "  [theme=dark] .colab-df-quickchart {\n",
              "    background-color: #3B4455;\n",
              "    fill: #D2E3FC;\n",
              "  }\n",
              "\n",
              "  [theme=dark] .colab-df-quickchart:hover {\n",
              "    background-color: #434B5C;\n",
              "    box-shadow: 0px 1px 3px 1px rgba(0, 0, 0, 0.15);\n",
              "    filter: drop-shadow(0px 1px 2px rgba(0, 0, 0, 0.3));\n",
              "    fill: #FFFFFF;\n",
              "  }\n",
              "</style>\n",
              "\n",
              "  <script>\n",
              "    async function quickchart(key) {\n",
              "      const charts = await google.colab.kernel.invokeFunction(\n",
              "          'suggestCharts', [key], {});\n",
              "    }\n",
              "    (() => {\n",
              "      let quickchartButtonEl =\n",
              "        document.querySelector('#df-57f0acbf-9fd5-42a9-ad9b-65a0e1fe6b40 button');\n",
              "      quickchartButtonEl.style.display =\n",
              "        google.colab.kernel.accessAllowed ? 'block' : 'none';\n",
              "    })();\n",
              "  </script>\n",
              "</div>\n",
              "    </div>\n",
              "  </div>\n"
            ],
            "text/plain": [
              "   Year  Tax Revenue\n",
              "0  1990      61206.0\n",
              "1  1991      68157.0\n",
              "2  1992      76353.0\n",
              "3  1993      85891.0\n",
              "4  1994      99417.0"
            ]
          },
          "execution_count": 5,
          "metadata": {},
          "output_type": "execute_result"
        }
      ],
      "source": [
        "data.head()"
      ]
    },
    {
      "cell_type": "code",
      "execution_count": 7,
      "metadata": {
        "colab": {
          "base_uri": "https://localhost:8080/"
        },
        "id": "Qu4fiRdQ4Wiq",
        "outputId": "460ae1fe-80eb-4c60-b097-d0fbada7f9cc"
      },
      "outputs": [
        {
          "data": {
            "text/plain": [
              "Year             int64\n",
              "Tax Revenue    float64\n",
              "dtype: object"
            ]
          },
          "execution_count": 7,
          "metadata": {},
          "output_type": "execute_result"
        }
      ],
      "source": [
        "data.dtypes"
      ]
    },
    {
      "cell_type": "code",
      "execution_count": 8,
      "metadata": {
        "id": "1CvgWp9s4h0y"
      },
      "outputs": [],
      "source": [
        "#checking the data types\n",
        "data.dtypes\n",
        "\n",
        "#getting the mean of tax revenue ammount and fill it to null, if theres any\n",
        "data[\"Tax Revenue\"] = data[\"Tax Revenue\"].astype(\"float64\")\n",
        "m=round(data[\"Tax Revenue\"].mean(),2)\n",
        "data[\"Tax Revenue\"].fillna(m,inplace=True)"
      ]
    },
    {
      "cell_type": "code",
      "execution_count": 9,
      "metadata": {
        "colab": {
          "base_uri": "https://localhost:8080/",
          "height": 504
        },
        "id": "gT0cHXOb4jC-",
        "outputId": "bedc3628-4aba-4360-87a1-a74370dc8a51"
      },
      "outputs": [
        {
          "data": {
            "image/png": "[encoded data removed]",
            "text/plain": [
              "<Figure size 640x480 with 1 Axes>"
            ]
          },
          "metadata": {},
          "output_type": "display_data"
        }
      ],
      "source": [
        "# Compute the number of years in the dataset\n",
        "num_years = len(data['Year'])\n",
        "\n",
        "# Set the x-axis ticks to represent each year\n",
        "x_ticks = range(data['Year'][0], data['Year'][num_years - 1] + 1)\n",
        "\n",
        "# Plot the data\n",
        "plt.plot(data['Year'], data['Tax Revenue'])\n",
        "plt.xticks(x_ticks, rotation='vertical')  # Set the x-axis ticks with yearly intervals\n",
        "plt.xlabel('Year')\n",
        "plt.ylabel('Tax Revenue')\n",
        "plt.title('Tax Revenue in Sri Lanka')\n",
        "\n",
        "# Display the plot\n",
        "plt.show()"
      ]
    },
    {
      "cell_type": "markdown",
      "metadata": {
        "id": "Nn602p_b4naz"
      },
      "source": [
        "Quarterly deviding data"
      ]
    },
    {
      "cell_type": "code",
      "execution_count": 10,
      "metadata": {
        "id": "Yk1jeksJ4kY1"
      },
      "outputs": [],
      "source": [
        "from statsmodels.tsa.seasonal import seasonal_decompose\n",
        "\n",
        "#Assuming your yearly data is stored in a DataFrame called 'yearly_data' with columns\n",
        "#Convert the \"Year\" column to datetime format\n",
        "\n",
        "data[ 'Year'] = pd.to_datetime(data[ 'Year'], format='%Y')\n",
        "\n",
        "#Set the \"Year\" column as the index\n",
        "\n",
        "data.set_index('Year', inplace=True)\n",
        "\n",
        "\n",
        "#Resample the data to quarterly frequency and interpolate missing values\n",
        "quarterly_data = data.resample('Q').mean().interpolate()\n",
        "\n",
        "#Perform seasonal decomposition\n",
        "\n",
        "result = seasonal_decompose(quarterly_data['Tax Revenue'], model=\"additive\", period=4)\n",
        "\n",
        "#Extract the trend, seasonal, and residual components\n",
        "\n",
        "trend = result.trend\n",
        "seasonal =result.seasonal\n",
        "residual =result.resid\n",
        "\n",
        "#Create a DataFrame with the decomposed components\n",
        "quarterly_decomposition = pd.DataFrame({'Trend': trend, 'Seasonal': seasonal, 'Residual': residual})\n",
        "\n",
        "# Adjust the seasonal component to have the same length as the original data\n",
        "adjusted_seasonal = quarterly_decomposition['Seasonal'].repeat(1)[:len(quarterly_data)]\n",
        "\n",
        "# Subtract the adjusted seasonal component from the original data\n",
        "adjusted_data = quarterly_data['Tax Revenue'] - adjusted_seasonal\n",
        "\n",
        "# Create a DataFrame with the adjusted data\n",
        "new_data = pd.DataFrame({'Tax_Revenue': adjusted_data})\n"
      ]
    },
    {
      "cell_type": "code",
      "execution_count": 11,
      "metadata": {
        "colab": {
          "base_uri": "https://localhost:8080/",
          "height": 238
        },
        "id": "gAO3MLAV4tYC",
        "outputId": "be095be5-4a21-4ec6-d785-7ac61febfcad"
      },
      "outputs": [
        {
          "data": {
            "text/html": [
              "\n",
              "  <div id=\"df-cdb7af46-daa4-417d-ab73-f2828ee16e06\" class=\"colab-df-container\">\n",
              "    <div>\n",
              "<style scoped>\n",
              "    .dataframe tbody tr th:only-of-type {\n",
              "        vertical-align: middle;\n",
              "    }\n",
              "\n",
              "    .dataframe tbody tr th {\n",
              "        vertical-align: top;\n",
              "    }\n",
              "\n",
              "    .dataframe thead th {\n",
              "        text-align: right;\n",
              "    }\n",
              "</style>\n",
              "<table border=\"1\" class=\"dataframe\">\n",
              "  <thead>\n",
              "    <tr style=\"text-align: right;\">\n",
              "      <th></th>\n",
              "      <th>Tax_Revenue</th>\n",
              "    </tr>\n",
              "    <tr>\n",
              "      <th>Year</th>\n",
              "      <th></th>\n",
              "    </tr>\n",
              "  </thead>\n",
              "  <tbody>\n",
              "    <tr>\n",
              "      <th>1990-03-31</th>\n",
              "      <td>61400.078281</td>\n",
              "    </tr>\n",
              "    <tr>\n",
              "      <th>1990-06-30</th>\n",
              "      <td>62904.934344</td>\n",
              "    </tr>\n",
              "    <tr>\n",
              "      <th>1990-09-30</th>\n",
              "      <td>64565.053031</td>\n",
              "    </tr>\n",
              "    <tr>\n",
              "      <th>1990-12-31</th>\n",
              "      <td>66380.434344</td>\n",
              "    </tr>\n",
              "    <tr>\n",
              "      <th>1991-03-31</th>\n",
              "      <td>68351.078281</td>\n",
              "    </tr>\n",
              "  </tbody>\n",
              "</table>\n",
              "</div>\n",
              "    <div class=\"colab-df-buttons\">\n",
              "\n",
              "  <div class=\"colab-df-container\">\n",
              "    <button class=\"colab-df-convert\" onclick=\"convertToInteractive('df-cdb7af46-daa4-417d-ab73-f2828ee16e06')\"\n",
              "            title=\"Convert this dataframe to an interactive table.\"\n",
              "            style=\"display:none;\">\n",
              "\n",
              "  <svg xmlns=\"http://www.w3.org/2000/svg\" height=\"24px\" viewBox=\"0 -960 960 960\">\n",
              "    <path d=\"M120-120v-720h720v720H120Zm60-500h600v-160H180v160Zm220 220h160v-160H400v160Zm0 220h160v-160H400v160ZM180-400h160v-160H180v160Zm440 0h160v-160H620v160ZM180-180h160v-160H180v160Zm440 0h160v-160H620v160Z\"/>\n",
              "  </svg>\n",
              "    </button>\n",
              "\n",
              "  <style>\n",
              "    .colab-df-container {\n",
              "      display:flex;\n",
              "      gap: 12px;\n",
              "    }\n",
              "\n",
              "    .colab-df-convert {\n",
              "      background-color: #E8F0FE;\n",
              "      border: none;\n",
              "      border-radius: 50%;\n",
              "      cursor: pointer;\n",
              "      display: none;\n",
              "      fill: #1967D2;\n",
              "      height: 32px;\n",
              "      padding: 0 0 0 0;\n",
              "      width: 32px;\n",
              "    }\n",
              "\n",
              "    .colab-df-convert:hover {\n",
              "      background-color: #E2EBFA;\n",
              "      box-shadow: 0px 1px 2px rgba(60, 64, 67, 0.3), 0px 1px 3px 1px rgba(60, 64, 67, 0.15);\n",
              "      fill: #174EA6;\n",
              "    }\n",
              "\n",
              "    .colab-df-buttons div {\n",
              "      margin-bottom: 4px;\n",
              "    }\n",
              "\n",
              "    [theme=dark] .colab-df-convert {\n",
              "      background-color: #3B4455;\n",
              "      fill: #D2E3FC;\n",
              "    }\n",
              "\n",
              "    [theme=dark] .colab-df-convert:hover {\n",
              "      background-color: #434B5C;\n",
              "      box-shadow: 0px 1px 3px 1px rgba(0, 0, 0, 0.15);\n",
              "      filter: drop-shadow(0px 1px 2px rgba(0, 0, 0, 0.3));\n",
              "      fill: #FFFFFF;\n",
              "    }\n",
              "  </style>\n",
              "\n",
              "    <script>\n",
              "      const buttonEl =\n",
              "        document.querySelector('#df-cdb7af46-daa4-417d-ab73-f2828ee16e06 button.colab-df-convert');\n",
              "      buttonEl.style.display =\n",
              "        google.colab.kernel.accessAllowed ? 'block' : 'none';\n",
              "\n",
              "      async function convertToInteractive(key) {\n",
              "        const element = document.querySelector('#df-cdb7af46-daa4-417d-ab73-f2828ee16e06');\n",
              "        const dataTable =\n",
              "          await google.colab.kernel.invokeFunction('convertToInteractive',\n",
              "                                                    [key], {});\n",
              "        if (!dataTable) return;\n",
              "\n",
              "        const docLinkHtml = 'Like what you see? Visit the ' +\n",
              "          '<a target=\"_blank\" href=https://colab.research.google.com/notebooks/data_table.ipynb>data table notebook</a>'\n",
              "          + ' to learn more about interactive tables.';\n",
              "        element.innerHTML = '';\n",
              "        dataTable['output_type'] = 'display_data';\n",
              "        await google.colab.output.renderOutput(dataTable, element);\n",
              "        const docLink = document.createElement('div');\n",
              "        docLink.innerHTML = docLinkHtml;\n",
              "        element.appendChild(docLink);\n",
              "      }\n",
              "    </script>\n",
              "  </div>\n",
              "\n",
              "\n",
              "<div id=\"df-3d1917b7-2e67-43ff-82b0-ef8837ea31f0\">\n",
              "  <button class=\"colab-df-quickchart\" onclick=\"quickchart('df-3d1917b7-2e67-43ff-82b0-ef8837ea31f0')\"\n",
              "            title=\"Suggest charts.\"\n",
              "            style=\"display:none;\">\n",
              "\n",
              "<svg xmlns=\"http://www.w3.org/2000/svg\" height=\"24px\"viewBox=\"0 0 24 24\"\n",
              "     width=\"24px\">\n",
              "    <g>\n",
              "        <path d=\"M19 3H5c-1.1 0-2 .9-2 2v14c0 1.1.9 2 2 2h14c1.1 0 2-.9 2-2V5c0-1.1-.9-2-2-2zM9 17H7v-7h2v7zm4 0h-2V7h2v10zm4 0h-2v-4h2v4z\"/>\n",
              "    </g>\n",
              "</svg>\n",
              "  </button>\n",
              "\n",
              "<style>\n",
              "  .colab-df-quickchart {\n",
              "    background-color: #E8F0FE;\n",
              "    border: none;\n",
              "    border-radius: 50%;\n",
              "    cursor: pointer;\n",
              "    display: none;\n",
              "    fill: #1967D2;\n",
              "    height: 32px;\n",
              "    padding: 0 0 0 0;\n",
              "    width: 32px;\n",
              "  }\n",
              "\n",
              "  .colab-df-quickchart:hover {\n",
              "    background-color: #E2EBFA;\n",
              "    box-shadow: 0px 1px 2px rgba(60, 64, 67, 0.3), 0px 1px 3px 1px rgba(60, 64, 67, 0.15);\n",
              "    fill: #174EA6;\n",
              "  }\n",
              "\n",
              "  [theme=dark] .colab-df-quickchart {\n",
              "    background-color: #3B4455;\n",
              "    fill: #D2E3FC;\n",
              "  }\n",
              "\n",
              "  [theme=dark] .colab-df-quickchart:hover {\n",
              "    background-color: #434B5C;\n",
              "    box-shadow: 0px 1px 3px 1px rgba(0, 0, 0, 0.15);\n",
              "    filter: drop-shadow(0px 1px 2px rgba(0, 0, 0, 0.3));\n",
              "    fill: #FFFFFF;\n",
              "  }\n",
              "</style>\n",
              "\n",
              "  <script>\n",
              "    async function quickchart(key) {\n",
              "      const charts = await google.colab.kernel.invokeFunction(\n",
              "          'suggestCharts', [key], {});\n",
              "    }\n",
              "    (() => {\n",
              "      let quickchartButtonEl =\n",
              "        document.querySelector('#df-3d1917b7-2e67-43ff-82b0-ef8837ea31f0 button');\n",
              "      quickchartButtonEl.style.display =\n",
              "        google.colab.kernel.accessAllowed ? 'block' : 'none';\n",
              "    })();\n",
              "  </script>\n",
              "</div>\n",
              "    </div>\n",
              "  </div>\n"
            ],
            "text/plain": [
              "             Tax_Revenue\n",
              "Year                    \n",
              "1990-03-31  61400.078281\n",
              "1990-06-30  62904.934344\n",
              "1990-09-30  64565.053031\n",
              "1990-12-31  66380.434344\n",
              "1991-03-31  68351.078281"
            ]
          },
          "execution_count": 11,
          "metadata": {},
          "output_type": "execute_result"
        }
      ],
      "source": [
        "new_data.head()"
      ]
    },
    {
      "cell_type": "code",
      "execution_count": 12,
      "metadata": {
        "colab": {
          "base_uri": "https://localhost:8080/",
          "height": 573
        },
        "id": "C_bidoeN46Vx",
        "outputId": "6b3951bb-1afc-48c6-ec47-c6f9f4c3dd02"
      },
      "outputs": [
        {
          "data": {
            "image/png": "[encoded data removed]",
            "text/plain": [
              "<Figure size 1000x600 with 1 Axes>"
            ]
          },
          "metadata": {},
          "output_type": "display_data"
        }
      ],
      "source": [
        "# Plot the adjusted tax revenue data\n",
        "plt.figure(figsize=(10, 6))\n",
        "plt.plot(adjusted_data.index, new_data['Tax_Revenue'])\n",
        "plt.xlabel('Year')\n",
        "plt.ylabel('Adjusted Tax Revenue')\n",
        "plt.title('Adjusted Tax Revenue over Time')\n",
        "plt.grid(True)\n",
        "plt.show()"
      ]
    },
    {
      "cell_type": "code",
      "execution_count": 13,
      "metadata": {
        "colab": {
          "base_uri": "https://localhost:8080/"
        },
        "id": "bXPUohXv472n",
        "outputId": "2e748f10-b746-4c59-9d66-513e84e7296a"
      },
      "outputs": [
        {
          "name": "stdout",
          "output_type": "stream",
          "text": [
            "ADF Test Statistic : -1.1451080638755895\n",
            "p-value : 0.6967524059718726\n",
            "#Lags Used : 9\n",
            "Number of Observations Used : 115\n",
            "weak evidence against null hypothesis, time series has a unit root, indicating it is non-stationary \n"
          ]
        }
      ],
      "source": [
        "#Data stationary checking\n",
        "\n",
        "test_result = adfuller(new_data['Tax_Revenue'])\n",
        "\n",
        "#Ho: It is non stationary\n",
        "#H1: It is stationary\n",
        "\n",
        "def adfuller_test(Tax_revenue):\n",
        "    result=adfuller(Tax_revenue)\n",
        "    labels = ['ADF Test Statistic','p-value','#Lags Used','Number of Observations Used']\n",
        "    for value,label in zip(result,labels):\n",
        "        print(label+' : '+str(value) )\n",
        "    if result[1] <= 0.05:\n",
        "        print(\"strong evidence against the null hypothesis(Ho), reject the null hypothesis. Data has no unit root and is stationary\")\n",
        "    else:\n",
        "        print(\"weak evidence against null hypothesis, time series has a unit root, indicating it is non-stationary \")\n",
        "\n",
        "\n",
        "adfuller_test(new_data['Tax_Revenue'])"
      ]
    },
    {
      "cell_type": "code",
      "execution_count": 14,
      "metadata": {
        "colab": {
          "base_uri": "https://localhost:8080/",
          "height": 732
        },
        "id": "UVc8yHN84-cn",
        "outputId": "56a21260-2191-4bce-fcaa-ce1c3a6abb4e"
      },
      "outputs": [
        {
          "data": {
            "image/png": "[encoded data removed]",
            "text/plain": [
              "<Figure size 1080x840 with 6 Axes>"
            ]
          },
          "metadata": {},
          "output_type": "display_data"
        }
      ],
      "source": [
        "#Since p-value(0.45) is greater than the significance level(0.05), let’s difference the series and see how the autocorrelation plot looks like.\n",
        "\n",
        "from statsmodels.graphics.tsaplots import plot_acf, plot_pacf\n",
        "import matplotlib.pyplot as plt\n",
        "plt.rcParams.update({'figure.figsize':(9,7), 'figure.dpi':120})\n",
        "\n",
        "\n",
        "# Original Series\n",
        "fig, axes = plt.subplots(3, 2, sharex=True)\n",
        "axes[0, 0].plot(new_data.Tax_Revenue); axes[0, 0].set_title('Original Series')\n",
        "plot_acf(new_data.Tax_Revenue, ax=axes[0, 1])\n",
        "\n",
        "# 1st Differencing\n",
        "axes[1, 0].plot(new_data.Tax_Revenue.diff()); axes[1, 0].set_title('1st Order Differencing')\n",
        "plot_acf(new_data.Tax_Revenue.diff().dropna(), ax=axes[1, 1])\n",
        "\n",
        "# 2nd Differencing\n",
        "axes[2, 0].plot(new_data.Tax_Revenue.diff().diff()); axes[2, 0].set_title('2nd Order Differencing')\n",
        "plot_acf(new_data.Tax_Revenue.diff().diff().dropna(), ax=axes[2, 1])\n",
        "\n",
        "plt.show()\n",
        "\n"
      ]
    },
    {
      "cell_type": "markdown",
      "metadata": {
        "id": "2mofLbOV5EEA"
      },
      "source": [
        "**MODEL 01 - ARIMA MODEL **"
      ]
    },
    {
      "cell_type": "code",
      "execution_count": 17,
      "metadata": {
        "id": "KOKfNPIA5AMI"
      },
      "outputs": [],
      "source": [
        "import pandas as pd\n",
        "import numpy as np\n",
        "import matplotlib.pyplot as plt\n",
        "from statsmodels.tsa.stattools import adfuller\n",
        "from statsmodels.graphics.tsaplots import plot_acf, plot_pacf\n",
        "from statsmodels.tsa.arima.model import ARIMA\n",
        "from sklearn.metrics import mean_squared_error\n",
        "from sklearn.preprocessing import StandardScaler\n",
        "from sklearn.utils import resample\n",
        "from sklearn.model_selection import train_test_split"
      ]
    },
    {
      "cell_type": "code",
      "execution_count": 18,
      "metadata": {
        "id": "Lco5RqGN5J-K"
      },
      "outputs": [],
      "source": [
        "# Standardize the data\n",
        "scaler = StandardScaler()\n",
        "data_scaled = scaler.fit_transform(new_data)\n",
        "data_scaled = pd.DataFrame(data_scaled, columns=data.columns, index=new_data.index)\n"
      ]
    },
    {
      "cell_type": "code",
      "execution_count": 19,
      "metadata": {
        "colab": {
          "base_uri": "https://localhost:8080/",
          "height": 617
        },
        "id": "pJjcSH9v5Qoi",
        "outputId": "9dd369e2-b7ac-470f-aff1-11f23b2193b1"
      },
      "outputs": [
        {
          "data": {
            "image/png": "[encoded data removed]",
            "text/plain": [
              "<Figure size 1200x720 with 1 Axes>"
            ]
          },
          "metadata": {},
          "output_type": "display_data"
        }
      ],
      "source": [
        "# Visualize the time series data\n",
        "plt.figure(figsize=(10, 6))\n",
        "plt.plot(data_scaled)\n",
        "plt.title('Standardized Tax Revenue Time Series')\n",
        "plt.xlabel('Year')\n",
        "plt.ylabel('Standardized Tax Revenue')\n",
        "plt.show()"
      ]
    },
    {
      "cell_type": "code",
      "execution_count": 20,
      "metadata": {
        "id": "BAz9wBcV5SCS"
      },
      "outputs": [],
      "source": [
        "# Train-test split\n",
        "train_size = int(len(data_scaled) * 0.8)\n",
        "train, test = data_scaled[:train_size], data_scaled[train_size:]\n",
        "\n"
      ]
    },
    {
      "cell_type": "code",
      "execution_count": 21,
      "metadata": {
        "colab": {
          "base_uri": "https://localhost:8080/",
          "height": 238
        },
        "id": "k9t5YN6A5UhK",
        "outputId": "f60b8c11-cfae-4a70-b8e8-29951aad62e2"
      },
      "outputs": [
        {
          "data": {
            "text/html": [
              "\n",
              "  <div id=\"df-563da1a9-f830-48c6-b8a7-a7dbaeb40430\" class=\"colab-df-container\">\n",
              "    <div>\n",
              "<style scoped>\n",
              "    .dataframe tbody tr th:only-of-type {\n",
              "        vertical-align: middle;\n",
              "    }\n",
              "\n",
              "    .dataframe tbody tr th {\n",
              "        vertical-align: top;\n",
              "    }\n",
              "\n",
              "    .dataframe thead th {\n",
              "        text-align: right;\n",
              "    }\n",
              "</style>\n",
              "<table border=\"1\" class=\"dataframe\">\n",
              "  <thead>\n",
              "    <tr style=\"text-align: right;\">\n",
              "      <th></th>\n",
              "      <th>Tax Revenue</th>\n",
              "    </tr>\n",
              "    <tr>\n",
              "      <th>Year</th>\n",
              "      <th></th>\n",
              "    </tr>\n",
              "  </thead>\n",
              "  <tbody>\n",
              "    <tr>\n",
              "      <th>1990-03-31</th>\n",
              "      <td>-1.014753</td>\n",
              "    </tr>\n",
              "    <tr>\n",
              "      <th>1990-06-30</th>\n",
              "      <td>-1.011987</td>\n",
              "    </tr>\n",
              "    <tr>\n",
              "      <th>1990-09-30</th>\n",
              "      <td>-1.008937</td>\n",
              "    </tr>\n",
              "    <tr>\n",
              "      <th>1990-12-31</th>\n",
              "      <td>-1.005601</td>\n",
              "    </tr>\n",
              "    <tr>\n",
              "      <th>1991-03-31</th>\n",
              "      <td>-1.001979</td>\n",
              "    </tr>\n",
              "  </tbody>\n",
              "</table>\n",
              "</div>\n",
              "    <div class=\"colab-df-buttons\">\n",
              "\n",
              "  <div class=\"colab-df-container\">\n",
              "    <button class=\"colab-df-convert\" onclick=\"convertToInteractive('df-563da1a9-f830-48c6-b8a7-a7dbaeb40430')\"\n",
              "            title=\"Convert this dataframe to an interactive table.\"\n",
              "            style=\"display:none;\">\n",
              "\n",
              "  <svg xmlns=\"http://www.w3.org/2000/svg\" height=\"24px\" viewBox=\"0 -960 960 960\">\n",
              "    <path d=\"M120-120v-720h720v720H120Zm60-500h600v-160H180v160Zm220 220h160v-160H400v160Zm0 220h160v-160H400v160ZM180-400h160v-160H180v160Zm440 0h160v-160H620v160ZM180-180h160v-160H180v160Zm440 0h160v-160H620v160Z\"/>\n",
              "  </svg>\n",
              "    </button>\n",
              "\n",
              "  <style>\n",
              "    .colab-df-container {\n",
              "      display:flex;\n",
              "      gap: 12px;\n",
              "    }\n",
              "\n",
              "    .colab-df-convert {\n",
              "      background-color: #E8F0FE;\n",
              "      border: none;\n",
              "      border-radius: 50%;\n",
              "      cursor: pointer;\n",
              "      display: none;\n",
              "      fill: #1967D2;\n",
              "      height: 32px;\n",
              "      padding: 0 0 0 0;\n",
              "      width: 32px;\n",
              "    }\n",
              "\n",
              "    .colab-df-convert:hover {\n",
              "      background-color: #E2EBFA;\n",
              "      box-shadow: 0px 1px 2px rgba(60, 64, 67, 0.3), 0px 1px 3px 1px rgba(60, 64, 67, 0.15);\n",
              "      fill: #174EA6;\n",
              "    }\n",
              "\n",
              "    .colab-df-buttons div {\n",
              "      margin-bottom: 4px;\n",
              "    }\n",
              "\n",
              "    [theme=dark] .colab-df-convert {\n",
              "      background-color: #3B4455;\n",
              "      fill: #D2E3FC;\n",
              "    }\n",
              "\n",
              "    [theme=dark] .colab-df-convert:hover {\n",
              "      background-color: #434B5C;\n",
              "      box-shadow: 0px 1px 3px 1px rgba(0, 0, 0, 0.15);\n",
              "      filter: drop-shadow(0px 1px 2px rgba(0, 0, 0, 0.3));\n",
              "      fill: #FFFFFF;\n",
              "    }\n",
              "  </style>\n",
              "\n",
              "    <script>\n",
              "      const buttonEl =\n",
              "        document.querySelector('#df-563da1a9-f830-48c6-b8a7-a7dbaeb40430 button.colab-df-convert');\n",
              "      buttonEl.style.display =\n",
              "        google.colab.kernel.accessAllowed ? 'block' : 'none';\n",
              "\n",
              "      async function convertToInteractive(key) {\n",
              "        const element = document.querySelector('#df-563da1a9-f830-48c6-b8a7-a7dbaeb40430');\n",
              "        const dataTable =\n",
              "          await google.colab.kernel.invokeFunction('convertToInteractive',\n",
              "                                                    [key], {});\n",
              "        if (!dataTable) return;\n",
              "\n",
              "        const docLinkHtml = 'Like what you see? Visit the ' +\n",
              "          '<a target=\"_blank\" href=https://colab.research.google.com/notebooks/data_table.ipynb>data table notebook</a>'\n",
              "          + ' to learn more about interactive tables.';\n",
              "        element.innerHTML = '';\n",
              "        dataTable['output_type'] = 'display_data';\n",
              "        await google.colab.output.renderOutput(dataTable, element);\n",
              "        const docLink = document.createElement('div');\n",
              "        docLink.innerHTML = docLinkHtml;\n",
              "        element.appendChild(docLink);\n",
              "      }\n",
              "    </script>\n",
              "  </div>\n",
              "\n",
              "\n",
              "<div id=\"df-0b44a75a-b86d-414b-b21d-6ebbd6387f64\">\n",
              "  <button class=\"colab-df-quickchart\" onclick=\"quickchart('df-0b44a75a-b86d-414b-b21d-6ebbd6387f64')\"\n",
              "            title=\"Suggest charts.\"\n",
              "            style=\"display:none;\">\n",
              "\n",
              "<svg xmlns=\"http://www.w3.org/2000/svg\" height=\"24px\"viewBox=\"0 0 24 24\"\n",
              "     width=\"24px\">\n",
              "    <g>\n",
              "        <path d=\"M19 3H5c-1.1 0-2 .9-2 2v14c0 1.1.9 2 2 2h14c1.1 0 2-.9 2-2V5c0-1.1-.9-2-2-2zM9 17H7v-7h2v7zm4 0h-2V7h2v10zm4 0h-2v-4h2v4z\"/>\n",
              "    </g>\n",
              "</svg>\n",
              "  </button>\n",
              "\n",
              "<style>\n",
              "  .colab-df-quickchart {\n",
              "    background-color: #E8F0FE;\n",
              "    border: none;\n",
              "    border-radius: 50%;\n",
              "    cursor: pointer;\n",
              "    display: none;\n",
              "    fill: #1967D2;\n",
              "    height: 32px;\n",
              "    padding: 0 0 0 0;\n",
              "    width: 32px;\n",
              "  }\n",
              "\n",
              "  .colab-df-quickchart:hover {\n",
              "    background-color: #E2EBFA;\n",
              "    box-shadow: 0px 1px 2px rgba(60, 64, 67, 0.3), 0px 1px 3px 1px rgba(60, 64, 67, 0.15);\n",
              "    fill: #174EA6;\n",
              "  }\n",
              "\n",
              "  [theme=dark] .colab-df-quickchart {\n",
              "    background-color: #3B4455;\n",
              "    fill: #D2E3FC;\n",
              "  }\n",
              "\n",
              "  [theme=dark] .colab-df-quickchart:hover {\n",
              "    background-color: #434B5C;\n",
              "    box-shadow: 0px 1px 3px 1px rgba(0, 0, 0, 0.15);\n",
              "    filter: drop-shadow(0px 1px 2px rgba(0, 0, 0, 0.3));\n",
              "    fill: #FFFFFF;\n",
              "  }\n",
              "</style>\n",
              "\n",
              "  <script>\n",
              "    async function quickchart(key) {\n",
              "      const charts = await google.colab.kernel.invokeFunction(\n",
              "          'suggestCharts', [key], {});\n",
              "    }\n",
              "    (() => {\n",
              "      let quickchartButtonEl =\n",
              "        document.querySelector('#df-0b44a75a-b86d-414b-b21d-6ebbd6387f64 button');\n",
              "      quickchartButtonEl.style.display =\n",
              "        google.colab.kernel.accessAllowed ? 'block' : 'none';\n",
              "    })();\n",
              "  </script>\n",
              "</div>\n",
              "    </div>\n",
              "  </div>\n"
            ],
            "text/plain": [
              "            Tax Revenue\n",
              "Year                   \n",
              "1990-03-31    -1.014753\n",
              "1990-06-30    -1.011987\n",
              "1990-09-30    -1.008937\n",
              "1990-12-31    -1.005601\n",
              "1991-03-31    -1.001979"
            ]
          },
          "execution_count": 21,
          "metadata": {},
          "output_type": "execute_result"
        }
      ],
      "source": [
        "train.head()"
      ]
    },
    {
      "cell_type": "code",
      "execution_count": 22,
      "metadata": {
        "colab": {
          "base_uri": "https://localhost:8080/"
        },
        "id": "zywcnvO65V_R",
        "outputId": "59431c8b-2377-4bd8-aa73-878195e6b32d"
      },
      "outputs": [
        {
          "name": "stderr",
          "output_type": "stream",
          "text": [
            "/usr/local/lib/python3.10/dist-packages/statsmodels/tsa/base/tsa_model.py:473: ValueWarning: A date index has been provided, but it has no associated frequency information and so will be ignored when e.g. forecasting.\n",
            "  self._init_dates(dates, freq)\n",
            "/usr/local/lib/python3.10/dist-packages/statsmodels/tsa/base/tsa_model.py:473: ValueWarning: A date index has been provided, but it is not monotonic and so will be ignored when e.g. forecasting.\n",
            "  self._init_dates(dates, freq)\n",
            "/usr/local/lib/python3.10/dist-packages/statsmodels/tsa/base/tsa_model.py:473: ValueWarning: A date index has been provided, but it has no associated frequency information and so will be ignored when e.g. forecasting.\n",
            "  self._init_dates(dates, freq)\n",
            "/usr/local/lib/python3.10/dist-packages/statsmodels/tsa/base/tsa_model.py:473: ValueWarning: A date index has been provided, but it is not monotonic and so will be ignored when e.g. forecasting.\n",
            "  self._init_dates(dates, freq)\n",
            "/usr/local/lib/python3.10/dist-packages/statsmodels/tsa/base/tsa_model.py:473: ValueWarning: A date index has been provided, but it has no associated frequency information and so will be ignored when e.g. forecasting.\n",
            "  self._init_dates(dates, freq)\n",
            "/usr/local/lib/python3.10/dist-packages/statsmodels/tsa/base/tsa_model.py:473: ValueWarning: A date index has been provided, but it is not monotonic and so will be ignored when e.g. forecasting.\n",
            "  self._init_dates(dates, freq)\n",
            "/usr/local/lib/python3.10/dist-packages/statsmodels/tsa/statespace/sarimax.py:978: UserWarning: Non-invertible starting MA parameters found. Using zeros as starting parameters.\n",
            "  warn('Non-invertible starting MA parameters found.'\n",
            "/usr/local/lib/python3.10/dist-packages/statsmodels/base/model.py:607: ConvergenceWarning: Maximum Likelihood optimization failed to converge. Check mle_retvals\n",
            "  warnings.warn(\"Maximum Likelihood optimization failed to \"\n",
            "/usr/local/lib/python3.10/dist-packages/statsmodels/tsa/base/tsa_model.py:836: ValueWarning: No supported index is available. Prediction results will be given with an integer index beginning at `start`.\n",
            "  return get_prediction_index(\n",
            "/usr/local/lib/python3.10/dist-packages/statsmodels/tsa/base/tsa_model.py:836: FutureWarning: No supported index is available. In the next version, calling this method in a model without a supported index will result in an exception.\n",
            "  return get_prediction_index(\n",
            "/usr/local/lib/python3.10/dist-packages/statsmodels/tsa/base/tsa_model.py:836: ValueWarning: No supported index is available. Prediction results will be given with an integer index beginning at `start`.\n",
            "  return get_prediction_index(\n",
            "/usr/local/lib/python3.10/dist-packages/statsmodels/tsa/base/tsa_model.py:473: ValueWarning: A date index has been provided, but it has no associated frequency information and so will be ignored when e.g. forecasting.\n",
            "  self._init_dates(dates, freq)\n",
            "/usr/local/lib/python3.10/dist-packages/statsmodels/tsa/base/tsa_model.py:473: ValueWarning: A date index has been provided, but it is not monotonic and so will be ignored when e.g. forecasting.\n",
            "  self._init_dates(dates, freq)\n",
            "/usr/local/lib/python3.10/dist-packages/statsmodels/tsa/base/tsa_model.py:473: ValueWarning: A date index has been provided, but it has no associated frequency information and so will be ignored when e.g. forecasting.\n",
            "  self._init_dates(dates, freq)\n",
            "/usr/local/lib/python3.10/dist-packages/statsmodels/tsa/base/tsa_model.py:473: ValueWarning: A date index has been provided, but it is not monotonic and so will be ignored when e.g. forecasting.\n",
            "  self._init_dates(dates, freq)\n",
            "/usr/local/lib/python3.10/dist-packages/statsmodels/tsa/base/tsa_model.py:473: ValueWarning: A date index has been provided, but it has no associated frequency information and so will be ignored when e.g. forecasting.\n",
            "  self._init_dates(dates, freq)\n",
            "/usr/local/lib/python3.10/dist-packages/statsmodels/tsa/base/tsa_model.py:473: ValueWarning: A date index has been provided, but it is not monotonic and so will be ignored when e.g. forecasting.\n",
            "  self._init_dates(dates, freq)\n",
            "/usr/local/lib/python3.10/dist-packages/statsmodels/tsa/statespace/sarimax.py:978: UserWarning: Non-invertible starting MA parameters found. Using zeros as starting parameters.\n",
            "  warn('Non-invertible starting MA parameters found.'\n",
            "/usr/local/lib/python3.10/dist-packages/statsmodels/base/model.py:607: ConvergenceWarning: Maximum Likelihood optimization failed to converge. Check mle_retvals\n",
            "  warnings.warn(\"Maximum Likelihood optimization failed to \"\n",
            "/usr/local/lib/python3.10/dist-packages/statsmodels/tsa/base/tsa_model.py:836: ValueWarning: No supported index is available. Prediction results will be given with an integer index beginning at `start`.\n",
            "  return get_prediction_index(\n",
            "/usr/local/lib/python3.10/dist-packages/statsmodels/tsa/base/tsa_model.py:836: FutureWarning: No supported index is available. In the next version, calling this method in a model without a supported index will result in an exception.\n",
            "  return get_prediction_index(\n",
            "/usr/local/lib/python3.10/dist-packages/statsmodels/tsa/base/tsa_model.py:836: ValueWarning: No supported index is available. Prediction results will be given with an integer index beginning at `start`.\n",
            "  return get_prediction_index(\n",
            "/usr/local/lib/python3.10/dist-packages/statsmodels/tsa/base/tsa_model.py:473: ValueWarning: A date index has been provided, but it has no associated frequency information and so will be ignored when e.g. forecasting.\n",
            "  self._init_dates(dates, freq)\n",
            "/usr/local/lib/python3.10/dist-packages/statsmodels/tsa/base/tsa_model.py:473: ValueWarning: A date index has been provided, but it is not monotonic and so will be ignored when e.g. forecasting.\n",
            "  self._init_dates(dates, freq)\n",
            "/usr/local/lib/python3.10/dist-packages/statsmodels/tsa/base/tsa_model.py:473: ValueWarning: A date index has been provided, but it has no associated frequency information and so will be ignored when e.g. forecasting.\n",
            "  self._init_dates(dates, freq)\n",
            "/usr/local/lib/python3.10/dist-packages/statsmodels/tsa/base/tsa_model.py:473: ValueWarning: A date index has been provided, but it is not monotonic and so will be ignored when e.g. forecasting.\n",
            "  self._init_dates(dates, freq)\n",
            "/usr/local/lib/python3.10/dist-packages/statsmodels/tsa/base/tsa_model.py:473: ValueWarning: A date index has been provided, but it has no associated frequency information and so will be ignored when e.g. forecasting.\n",
            "  self._init_dates(dates, freq)\n",
            "/usr/local/lib/python3.10/dist-packages/statsmodels/tsa/base/tsa_model.py:473: ValueWarning: A date index has been provided, but it is not monotonic and so will be ignored when e.g. forecasting.\n",
            "  self._init_dates(dates, freq)\n",
            "/usr/local/lib/python3.10/dist-packages/statsmodels/tsa/statespace/sarimax.py:978: UserWarning: Non-invertible starting MA parameters found. Using zeros as starting parameters.\n",
            "  warn('Non-invertible starting MA parameters found.'\n",
            "/usr/local/lib/python3.10/dist-packages/statsmodels/tsa/base/tsa_model.py:836: ValueWarning: No supported index is available. Prediction results will be given with an integer index beginning at `start`.\n",
            "  return get_prediction_index(\n",
            "/usr/local/lib/python3.10/dist-packages/statsmodels/tsa/base/tsa_model.py:836: FutureWarning: No supported index is available. In the next version, calling this method in a model without a supported index will result in an exception.\n",
            "  return get_prediction_index(\n",
            "/usr/local/lib/python3.10/dist-packages/statsmodels/tsa/base/tsa_model.py:836: ValueWarning: No supported index is available. Prediction results will be given with an integer index beginning at `start`.\n",
            "  return get_prediction_index(\n",
            "/usr/local/lib/python3.10/dist-packages/statsmodels/tsa/base/tsa_model.py:473: ValueWarning: A date index has been provided, but it has no associated frequency information and so will be ignored when e.g. forecasting.\n",
            "  self._init_dates(dates, freq)\n",
            "/usr/local/lib/python3.10/dist-packages/statsmodels/tsa/base/tsa_model.py:473: ValueWarning: A date index has been provided, but it is not monotonic and so will be ignored when e.g. forecasting.\n",
            "  self._init_dates(dates, freq)\n",
            "/usr/local/lib/python3.10/dist-packages/statsmodels/tsa/base/tsa_model.py:473: ValueWarning: A date index has been provided, but it has no associated frequency information and so will be ignored when e.g. forecasting.\n",
            "  self._init_dates(dates, freq)\n",
            "/usr/local/lib/python3.10/dist-packages/statsmodels/tsa/base/tsa_model.py:473: ValueWarning: A date index has been provided, but it is not monotonic and so will be ignored when e.g. forecasting.\n",
            "  self._init_dates(dates, freq)\n",
            "/usr/local/lib/python3.10/dist-packages/statsmodels/tsa/base/tsa_model.py:473: ValueWarning: A date index has been provided, but it has no associated frequency information and so will be ignored when e.g. forecasting.\n",
            "  self._init_dates(dates, freq)\n",
            "/usr/local/lib/python3.10/dist-packages/statsmodels/tsa/base/tsa_model.py:473: ValueWarning: A date index has been provided, but it is not monotonic and so will be ignored when e.g. forecasting.\n",
            "  self._init_dates(dates, freq)\n",
            "/usr/local/lib/python3.10/dist-packages/statsmodels/tsa/statespace/sarimax.py:966: UserWarning: Non-stationary starting autoregressive parameters found. Using zeros as starting parameters.\n",
            "  warn('Non-stationary starting autoregressive parameters'\n",
            "/usr/local/lib/python3.10/dist-packages/statsmodels/tsa/statespace/sarimax.py:978: UserWarning: Non-invertible starting MA parameters found. Using zeros as starting parameters.\n",
            "  warn('Non-invertible starting MA parameters found.'\n",
            "/usr/local/lib/python3.10/dist-packages/statsmodels/base/model.py:607: ConvergenceWarning: Maximum Likelihood optimization failed to converge. Check mle_retvals\n",
            "  warnings.warn(\"Maximum Likelihood optimization failed to \"\n",
            "/usr/local/lib/python3.10/dist-packages/statsmodels/tsa/base/tsa_model.py:836: ValueWarning: No supported index is available. Prediction results will be given with an integer index beginning at `start`.\n",
            "  return get_prediction_index(\n",
            "/usr/local/lib/python3.10/dist-packages/statsmodels/tsa/base/tsa_model.py:836: FutureWarning: No supported index is available. In the next version, calling this method in a model without a supported index will result in an exception.\n",
            "  return get_prediction_index(\n",
            "/usr/local/lib/python3.10/dist-packages/statsmodels/tsa/base/tsa_model.py:836: ValueWarning: No supported index is available. Prediction results will be given with an integer index beginning at `start`.\n",
            "  return get_prediction_index(\n",
            "/usr/local/lib/python3.10/dist-packages/statsmodels/tsa/base/tsa_model.py:473: ValueWarning: A date index has been provided, but it has no associated frequency information and so will be ignored when e.g. forecasting.\n",
            "  self._init_dates(dates, freq)\n",
            "/usr/local/lib/python3.10/dist-packages/statsmodels/tsa/base/tsa_model.py:473: ValueWarning: A date index has been provided, but it is not monotonic and so will be ignored when e.g. forecasting.\n",
            "  self._init_dates(dates, freq)\n",
            "/usr/local/lib/python3.10/dist-packages/statsmodels/tsa/base/tsa_model.py:473: ValueWarning: A date index has been provided, but it has no associated frequency information and so will be ignored when e.g. forecasting.\n",
            "  self._init_dates(dates, freq)\n",
            "/usr/local/lib/python3.10/dist-packages/statsmodels/tsa/base/tsa_model.py:473: ValueWarning: A date index has been provided, but it is not monotonic and so will be ignored when e.g. forecasting.\n",
            "  self._init_dates(dates, freq)\n",
            "/usr/local/lib/python3.10/dist-packages/statsmodels/tsa/base/tsa_model.py:473: ValueWarning: A date index has been provided, but it has no associated frequency information and so will be ignored when e.g. forecasting.\n",
            "  self._init_dates(dates, freq)\n",
            "/usr/local/lib/python3.10/dist-packages/statsmodels/tsa/base/tsa_model.py:473: ValueWarning: A date index has been provided, but it is not monotonic and so will be ignored when e.g. forecasting.\n",
            "  self._init_dates(dates, freq)\n",
            "/usr/local/lib/python3.10/dist-packages/statsmodels/base/model.py:607: ConvergenceWarning: Maximum Likelihood optimization failed to converge. Check mle_retvals\n",
            "  warnings.warn(\"Maximum Likelihood optimization failed to \"\n",
            "/usr/local/lib/python3.10/dist-packages/statsmodels/tsa/base/tsa_model.py:836: ValueWarning: No supported index is available. Prediction results will be given with an integer index beginning at `start`.\n",
            "  return get_prediction_index(\n",
            "/usr/local/lib/python3.10/dist-packages/statsmodels/tsa/base/tsa_model.py:836: FutureWarning: No supported index is available. In the next version, calling this method in a model without a supported index will result in an exception.\n",
            "  return get_prediction_index(\n",
            "/usr/local/lib/python3.10/dist-packages/statsmodels/tsa/base/tsa_model.py:836: ValueWarning: No supported index is available. Prediction results will be given with an integer index beginning at `start`.\n",
            "  return get_prediction_index(\n",
            "/usr/local/lib/python3.10/dist-packages/statsmodels/tsa/base/tsa_model.py:473: ValueWarning: A date index has been provided, but it has no associated frequency information and so will be ignored when e.g. forecasting.\n",
            "  self._init_dates(dates, freq)\n",
            "/usr/local/lib/python3.10/dist-packages/statsmodels/tsa/base/tsa_model.py:473: ValueWarning: A date index has been provided, but it is not monotonic and so will be ignored when e.g. forecasting.\n",
            "  self._init_dates(dates, freq)\n",
            "/usr/local/lib/python3.10/dist-packages/statsmodels/tsa/base/tsa_model.py:473: ValueWarning: A date index has been provided, but it has no associated frequency information and so will be ignored when e.g. forecasting.\n",
            "  self._init_dates(dates, freq)\n",
            "/usr/local/lib/python3.10/dist-packages/statsmodels/tsa/base/tsa_model.py:473: ValueWarning: A date index has been provided, but it is not monotonic and so will be ignored when e.g. forecasting.\n",
            "  self._init_dates(dates, freq)\n",
            "/usr/local/lib/python3.10/dist-packages/statsmodels/tsa/base/tsa_model.py:473: ValueWarning: A date index has been provided, but it has no associated frequency information and so will be ignored when e.g. forecasting.\n",
            "  self._init_dates(dates, freq)\n",
            "/usr/local/lib/python3.10/dist-packages/statsmodels/tsa/base/tsa_model.py:473: ValueWarning: A date index has been provided, but it is not monotonic and so will be ignored when e.g. forecasting.\n",
            "  self._init_dates(dates, freq)\n",
            "/usr/local/lib/python3.10/dist-packages/statsmodels/tsa/statespace/sarimax.py:978: UserWarning: Non-invertible starting MA parameters found. Using zeros as starting parameters.\n",
            "  warn('Non-invertible starting MA parameters found.'\n",
            "/usr/local/lib/python3.10/dist-packages/statsmodels/tsa/base/tsa_model.py:836: ValueWarning: No supported index is available. Prediction results will be given with an integer index beginning at `start`.\n",
            "  return get_prediction_index(\n",
            "/usr/local/lib/python3.10/dist-packages/statsmodels/tsa/base/tsa_model.py:836: FutureWarning: No supported index is available. In the next version, calling this method in a model without a supported index will result in an exception.\n",
            "  return get_prediction_index(\n",
            "/usr/local/lib/python3.10/dist-packages/statsmodels/tsa/base/tsa_model.py:836: ValueWarning: No supported index is available. Prediction results will be given with an integer index beginning at `start`.\n",
            "  return get_prediction_index(\n",
            "/usr/local/lib/python3.10/dist-packages/statsmodels/tsa/base/tsa_model.py:473: ValueWarning: A date index has been provided, but it has no associated frequency information and so will be ignored when e.g. forecasting.\n",
            "  self._init_dates(dates, freq)\n",
            "/usr/local/lib/python3.10/dist-packages/statsmodels/tsa/base/tsa_model.py:473: ValueWarning: A date index has been provided, but it is not monotonic and so will be ignored when e.g. forecasting.\n",
            "  self._init_dates(dates, freq)\n",
            "/usr/local/lib/python3.10/dist-packages/statsmodels/tsa/base/tsa_model.py:473: ValueWarning: A date index has been provided, but it has no associated frequency information and so will be ignored when e.g. forecasting.\n",
            "  self._init_dates(dates, freq)\n",
            "/usr/local/lib/python3.10/dist-packages/statsmodels/tsa/base/tsa_model.py:473: ValueWarning: A date index has been provided, but it is not monotonic and so will be ignored when e.g. forecasting.\n",
            "  self._init_dates(dates, freq)\n",
            "/usr/local/lib/python3.10/dist-packages/statsmodels/tsa/base/tsa_model.py:473: ValueWarning: A date index has been provided, but it has no associated frequency information and so will be ignored when e.g. forecasting.\n",
            "  self._init_dates(dates, freq)\n",
            "/usr/local/lib/python3.10/dist-packages/statsmodels/tsa/base/tsa_model.py:473: ValueWarning: A date index has been provided, but it is not monotonic and so will be ignored when e.g. forecasting.\n",
            "  self._init_dates(dates, freq)\n",
            "/usr/local/lib/python3.10/dist-packages/statsmodels/tsa/statespace/sarimax.py:978: UserWarning: Non-invertible starting MA parameters found. Using zeros as starting parameters.\n",
            "  warn('Non-invertible starting MA parameters found.'\n",
            "/usr/local/lib/python3.10/dist-packages/statsmodels/base/model.py:607: ConvergenceWarning: Maximum Likelihood optimization failed to converge. Check mle_retvals\n",
            "  warnings.warn(\"Maximum Likelihood optimization failed to \"\n",
            "/usr/local/lib/python3.10/dist-packages/statsmodels/tsa/base/tsa_model.py:836: ValueWarning: No supported index is available. Prediction results will be given with an integer index beginning at `start`.\n",
            "  return get_prediction_index(\n",
            "/usr/local/lib/python3.10/dist-packages/statsmodels/tsa/base/tsa_model.py:836: FutureWarning: No supported index is available. In the next version, calling this method in a model without a supported index will result in an exception.\n",
            "  return get_prediction_index(\n",
            "/usr/local/lib/python3.10/dist-packages/statsmodels/tsa/base/tsa_model.py:836: ValueWarning: No supported index is available. Prediction results will be given with an integer index beginning at `start`.\n",
            "  return get_prediction_index(\n",
            "/usr/local/lib/python3.10/dist-packages/statsmodels/tsa/base/tsa_model.py:473: ValueWarning: A date index has been provided, but it has no associated frequency information and so will be ignored when e.g. forecasting.\n",
            "  self._init_dates(dates, freq)\n",
            "/usr/local/lib/python3.10/dist-packages/statsmodels/tsa/base/tsa_model.py:473: ValueWarning: A date index has been provided, but it is not monotonic and so will be ignored when e.g. forecasting.\n",
            "  self._init_dates(dates, freq)\n",
            "/usr/local/lib/python3.10/dist-packages/statsmodels/tsa/base/tsa_model.py:473: ValueWarning: A date index has been provided, but it has no associated frequency information and so will be ignored when e.g. forecasting.\n",
            "  self._init_dates(dates, freq)\n",
            "/usr/local/lib/python3.10/dist-packages/statsmodels/tsa/base/tsa_model.py:473: ValueWarning: A date index has been provided, but it is not monotonic and so will be ignored when e.g. forecasting.\n",
            "  self._init_dates(dates, freq)\n",
            "/usr/local/lib/python3.10/dist-packages/statsmodels/tsa/base/tsa_model.py:473: ValueWarning: A date index has been provided, but it has no associated frequency information and so will be ignored when e.g. forecasting.\n",
            "  self._init_dates(dates, freq)\n",
            "/usr/local/lib/python3.10/dist-packages/statsmodels/tsa/base/tsa_model.py:473: ValueWarning: A date index has been provided, but it is not monotonic and so will be ignored when e.g. forecasting.\n",
            "  self._init_dates(dates, freq)\n",
            "/usr/local/lib/python3.10/dist-packages/statsmodels/tsa/statespace/sarimax.py:978: UserWarning: Non-invertible starting MA parameters found. Using zeros as starting parameters.\n",
            "  warn('Non-invertible starting MA parameters found.'\n",
            "/usr/local/lib/python3.10/dist-packages/statsmodels/tsa/base/tsa_model.py:836: ValueWarning: No supported index is available. Prediction results will be given with an integer index beginning at `start`.\n",
            "  return get_prediction_index(\n",
            "/usr/local/lib/python3.10/dist-packages/statsmodels/tsa/base/tsa_model.py:836: FutureWarning: No supported index is available. In the next version, calling this method in a model without a supported index will result in an exception.\n",
            "  return get_prediction_index(\n",
            "/usr/local/lib/python3.10/dist-packages/statsmodels/tsa/base/tsa_model.py:836: ValueWarning: No supported index is available. Prediction results will be given with an integer index beginning at `start`.\n",
            "  return get_prediction_index(\n",
            "/usr/local/lib/python3.10/dist-packages/statsmodels/tsa/base/tsa_model.py:473: ValueWarning: A date index has been provided, but it has no associated frequency information and so will be ignored when e.g. forecasting.\n",
            "  self._init_dates(dates, freq)\n",
            "/usr/local/lib/python3.10/dist-packages/statsmodels/tsa/base/tsa_model.py:473: ValueWarning: A date index has been provided, but it is not monotonic and so will be ignored when e.g. forecasting.\n",
            "  self._init_dates(dates, freq)\n",
            "/usr/local/lib/python3.10/dist-packages/statsmodels/tsa/base/tsa_model.py:473: ValueWarning: A date index has been provided, but it has no associated frequency information and so will be ignored when e.g. forecasting.\n",
            "  self._init_dates(dates, freq)\n",
            "/usr/local/lib/python3.10/dist-packages/statsmodels/tsa/base/tsa_model.py:473: ValueWarning: A date index has been provided, but it is not monotonic and so will be ignored when e.g. forecasting.\n",
            "  self._init_dates(dates, freq)\n",
            "/usr/local/lib/python3.10/dist-packages/statsmodels/tsa/base/tsa_model.py:473: ValueWarning: A date index has been provided, but it has no associated frequency information and so will be ignored when e.g. forecasting.\n",
            "  self._init_dates(dates, freq)\n",
            "/usr/local/lib/python3.10/dist-packages/statsmodels/tsa/base/tsa_model.py:473: ValueWarning: A date index has been provided, but it is not monotonic and so will be ignored when e.g. forecasting.\n",
            "  self._init_dates(dates, freq)\n",
            "/usr/local/lib/python3.10/dist-packages/statsmodels/tsa/statespace/sarimax.py:978: UserWarning: Non-invertible starting MA parameters found. Using zeros as starting parameters.\n",
            "  warn('Non-invertible starting MA parameters found.'\n",
            "/usr/local/lib/python3.10/dist-packages/statsmodels/base/model.py:607: ConvergenceWarning: Maximum Likelihood optimization failed to converge. Check mle_retvals\n",
            "  warnings.warn(\"Maximum Likelihood optimization failed to \"\n",
            "/usr/local/lib/python3.10/dist-packages/statsmodels/tsa/base/tsa_model.py:836: ValueWarning: No supported index is available. Prediction results will be given with an integer index beginning at `start`.\n",
            "  return get_prediction_index(\n",
            "/usr/local/lib/python3.10/dist-packages/statsmodels/tsa/base/tsa_model.py:836: FutureWarning: No supported index is available. In the next version, calling this method in a model without a supported index will result in an exception.\n",
            "  return get_prediction_index(\n",
            "/usr/local/lib/python3.10/dist-packages/statsmodels/tsa/base/tsa_model.py:836: ValueWarning: No supported index is available. Prediction results will be given with an integer index beginning at `start`.\n",
            "  return get_prediction_index(\n",
            "/usr/local/lib/python3.10/dist-packages/statsmodels/tsa/base/tsa_model.py:473: ValueWarning: A date index has been provided, but it has no associated frequency information and so will be ignored when e.g. forecasting.\n",
            "  self._init_dates(dates, freq)\n",
            "/usr/local/lib/python3.10/dist-packages/statsmodels/tsa/base/tsa_model.py:473: ValueWarning: A date index has been provided, but it is not monotonic and so will be ignored when e.g. forecasting.\n",
            "  self._init_dates(dates, freq)\n",
            "/usr/local/lib/python3.10/dist-packages/statsmodels/tsa/base/tsa_model.py:473: ValueWarning: A date index has been provided, but it has no associated frequency information and so will be ignored when e.g. forecasting.\n",
            "  self._init_dates(dates, freq)\n",
            "/usr/local/lib/python3.10/dist-packages/statsmodels/tsa/base/tsa_model.py:473: ValueWarning: A date index has been provided, but it is not monotonic and so will be ignored when e.g. forecasting.\n",
            "  self._init_dates(dates, freq)\n",
            "/usr/local/lib/python3.10/dist-packages/statsmodels/tsa/base/tsa_model.py:473: ValueWarning: A date index has been provided, but it has no associated frequency information and so will be ignored when e.g. forecasting.\n",
            "  self._init_dates(dates, freq)\n",
            "/usr/local/lib/python3.10/dist-packages/statsmodels/tsa/base/tsa_model.py:473: ValueWarning: A date index has been provided, but it is not monotonic and so will be ignored when e.g. forecasting.\n",
            "  self._init_dates(dates, freq)\n",
            "/usr/local/lib/python3.10/dist-packages/statsmodels/tsa/statespace/sarimax.py:978: UserWarning: Non-invertible starting MA parameters found. Using zeros as starting parameters.\n",
            "  warn('Non-invertible starting MA parameters found.'\n",
            "/usr/local/lib/python3.10/dist-packages/statsmodels/tsa/base/tsa_model.py:836: ValueWarning: No supported index is available. Prediction results will be given with an integer index beginning at `start`.\n",
            "  return get_prediction_index(\n",
            "/usr/local/lib/python3.10/dist-packages/statsmodels/tsa/base/tsa_model.py:836: FutureWarning: No supported index is available. In the next version, calling this method in a model without a supported index will result in an exception.\n",
            "  return get_prediction_index(\n",
            "/usr/local/lib/python3.10/dist-packages/statsmodels/tsa/base/tsa_model.py:836: ValueWarning: No supported index is available. Prediction results will be given with an integer index beginning at `start`.\n",
            "  return get_prediction_index(\n"
          ]
        }
      ],
      "source": [
        "\n",
        "# ARIMA model with specified parameters p=2, d=1, q=2\n",
        "p = 2\n",
        "d = 1\n",
        "q = 2\n",
        "\n",
        "# Bagging ARIMA models\n",
        "n_models = 10  # Number of models in the ensemble\n",
        "forecasts = []\n",
        "\n",
        "for _ in range(n_models):\n",
        "    # Bootstrap resampling\n",
        "    train_sample = resample(train, replace=True, n_samples=len(train))\n",
        "    train_sample_diff = train_sample.diff().dropna()\n",
        "\n",
        "    # Train an ARIMA model\n",
        "    model = ARIMA(train_sample_diff, order=(p, d, q))\n",
        "    model_fit = model.fit()\n",
        "\n",
        "    # Forecast the next len(test) time steps\n",
        "    forecast = model_fit.get_forecast(steps=len(test))\n",
        "    forecast_mean = forecast.predicted_mean.values\n",
        "\n",
        "    forecast = model_fit.get_forecast(steps=len(test))\n",
        "    forecast_mean = forecast.predicted_mean.values\n",
        "\n",
        "    forecasts.append(forecast_mean)\n",
        "\n",
        "# Aggregate the forecasts from all models\n",
        "bagged_forecast = np.mean(forecasts, axis=0)"
      ]
    },
    {
      "cell_type": "code",
      "execution_count": 23,
      "metadata": {
        "colab": {
          "base_uri": "https://localhost:8080/"
        },
        "id": "9yhsSa7q5X8b",
        "outputId": "30b519e4-bd29-4b64-91ce-212f2ed06d52"
      },
      "outputs": [
        {
          "name": "stdout",
          "output_type": "stream",
          "text": [
            "RMSE: 1.6889056340288857\n",
            "Mean Squared Error: 2.8524022406545124\n"
          ]
        }
      ],
      "source": [
        "# Calculate RMSE on test set\n",
        "rmse = np.sqrt(mean_squared_error(test['Tax Revenue'], bagged_forecast[:len(test)]))\n",
        "print('RMSE:', rmse)\n",
        "\n",
        "# Calculate Mean Squared Error (MSE)\n",
        "mse_a = mean_squared_error(test['Tax Revenue'], bagged_forecast[:len(test)])\n",
        "print(\"Mean Squared Error:\", mse_a)"
      ]
    },
    {
      "cell_type": "code",
      "execution_count": null,
      "metadata": {
        "id": "estan4Tu6cP5"
      },
      "outputs": [],
      "source": []
    },
    {
      "cell_type": "code",
      "execution_count": null,
      "metadata": {
        "id": "6sn9G39r6ryB"
      },
      "outputs": [],
      "source": []
    },
    {
      "cell_type": "code",
      "execution_count": null,
      "metadata": {
        "id": "pgizKWbY6r0l"
      },
      "outputs": [],
      "source": []
    },
    {
      "cell_type": "code",
      "execution_count": null,
      "metadata": {
        "id": "cORpOZwI6r3K"
      },
      "outputs": [],
      "source": []
    },
    {
      "cell_type": "code",
      "execution_count": null,
      "metadata": {
        "id": "Js_pbu-06r6P"
      },
      "outputs": [],
      "source": []
    },
    {
      "cell_type": "code",
      "execution_count": null,
      "metadata": {
        "id": "-I_8vx4q6r8n"
      },
      "outputs": [],
      "source": []
    },
    {
      "cell_type": "code",
      "execution_count": null,
      "metadata": {
        "id": "jVRtqvlh6r_M"
      },
      "outputs": [],
      "source": []
    },
    {
      "cell_type": "code",
      "execution_count": null,
      "metadata": {
        "id": "ILTA2TXV6sCt"
      },
      "outputs": [],
      "source": []
    },
    {
      "cell_type": "markdown",
      "metadata": {
        "id": "hfjwIXEK6tEI"
      },
      "source": [
        "**MODEL 02 - GARCH MODEL **"
      ]
    },
    {
      "cell_type": "code",
      "execution_count": null,
      "metadata": {
        "id": "4ipmCAo0617x"
      },
      "outputs": [],
      "source": [
        "!pip install arch"
      ]
    },
    {
      "cell_type": "code",
      "execution_count": 24,
      "metadata": {
        "id": "M0ZZ7TgE68uB"
      },
      "outputs": [],
      "source": [
        "# Split the dataset into training and test sets\n",
        "train_es = new_data.iloc[:-5]\n",
        "test_es = new_data.iloc[-5:]"
      ]
    },
    {
      "cell_type": "code",
      "execution_count": 24,
      "metadata": {
        "colab": {
          "base_uri": "https://localhost:8080/"
        },
        "id": "9W4YgJtK7DAP",
        "outputId": "16aae84a-2b6a-40d5-9ddb-bcd01b2ff5e5"
      },
      "outputs": [
        {
          "name": "stdout",
          "output_type": "stream",
          "text": [
            "Iteration:      1,   Func. Count:      6,   Neg. LLF: 348.86115398383754\n",
            "Iteration:      2,   Func. Count:     14,   Neg. LLF: 179.78786843951184\n",
            "Iteration:      3,   Func. Count:     20,   Neg. LLF: 179.6663202517318\n",
            "Iteration:      4,   Func. Count:     26,   Neg. LLF: 182.22399132696182\n",
            "Iteration:      5,   Func. Count:     33,   Neg. LLF: 179.47574496683143\n",
            "Iteration:      6,   Func. Count:     38,   Neg. LLF: 179.47573565136344\n",
            "Iteration:      7,   Func. Count:     42,   Neg. LLF: 179.47573565142775\n",
            "Optimization terminated successfully    (Exit mode 0)\n",
            "            Current function value: 179.47573565136344\n",
            "            Iterations: 7\n",
            "            Function evaluations: 42\n",
            "            Gradient evaluations: 7\n",
            "Iteration:      1,   Func. Count:      6,   Neg. LLF: 67773776.5458098\n",
            "Iteration:      2,   Func. Count:     13,   Neg. LLF: 188.28589112379217\n",
            "Iteration:      3,   Func. Count:     20,   Neg. LLF: 197.84848260645194\n",
            "Iteration:      4,   Func. Count:     27,   Neg. LLF: 173.54352934744333\n",
            "Iteration:      5,   Func. Count:     32,   Neg. LLF: 174.03066069110167\n",
            "Iteration:      6,   Func. Count:     38,   Neg. LLF: 173.5373207014767\n",
            "Iteration:      7,   Func. Count:     43,   Neg. LLF: 173.53730345686415\n",
            "Iteration:      8,   Func. Count:     47,   Neg. LLF: 173.537303456821\n",
            "Optimization terminated successfully    (Exit mode 0)\n",
            "            Current function value: 173.53730345686415\n",
            "            Iterations: 8\n",
            "            Function evaluations: 47\n",
            "            Gradient evaluations: 8\n",
            "Iteration:      1,   Func. Count:      6,   Neg. LLF: 197.28803230625263\n",
            "Iteration:      2,   Func. Count:     14,   Neg. LLF: 203750.06143507126\n",
            "Iteration:      3,   Func. Count:     21,   Neg. LLF: 175.4247438789485\n",
            "Iteration:      4,   Func. Count:     27,   Neg. LLF: 174.950717127809\n",
            "Iteration:      5,   Func. Count:     33,   Neg. LLF: 173.9521639236866\n",
            "Iteration:      6,   Func. Count:     38,   Neg. LLF: 173.95206001480915\n",
            "Iteration:      7,   Func. Count:     44,   Neg. LLF: 173.9518621471454\n",
            "Iteration:      8,   Func. Count:     49,   Neg. LLF: 173.95185980496757\n",
            "Iteration:      9,   Func. Count:     53,   Neg. LLF: 173.95185980506116\n",
            "Optimization terminated successfully    (Exit mode 0)\n",
            "            Current function value: 173.95185980496757\n",
            "            Iterations: 9\n",
            "            Function evaluations: 53\n",
            "            Gradient evaluations: 9\n",
            "Iteration:      1,   Func. Count:      6,   Neg. LLF: 268.8070583849816\n",
            "Iteration:      2,   Func. Count:     13,   Neg. LLF: 371.4056191774081\n",
            "Iteration:      3,   Func. Count:     20,   Neg. LLF: 279.0086680258811\n",
            "Iteration:      4,   Func. Count:     26,   Neg. LLF: 173.32018635041408\n",
            "Iteration:      5,   Func. Count:     32,   Neg. LLF: 168.071669667769\n",
            "Iteration:      6,   Func. Count:     37,   Neg. LLF: 168.07164619314275\n",
            "Iteration:      7,   Func. Count:     42,   Neg. LLF: 168.07163450494284\n",
            "Iteration:      8,   Func. Count:     46,   Neg. LLF: 168.07163450485956\n",
            "Optimization terminated successfully    (Exit mode 0)\n",
            "            Current function value: 168.07163450494284\n",
            "            Iterations: 8\n",
            "            Function evaluations: 46\n",
            "            Gradient evaluations: 8\n"
          ]
        },
        {
          "name": "stderr",
          "output_type": "stream",
          "text": [
            "/usr/local/lib/python3.10/dist-packages/arch/__future__/_utility.py:11: FutureWarning: \n",
            "The default for reindex is True. After September 2021 this will change to\n",
            "False. Set reindex to True or False to silence this message. Alternatively,\n",
            "you can use the import comment\n",
            "\n",
            "from arch.__future__ import reindexing\n",
            "\n",
            "to globally set reindex to True and silence this warning.\n",
            "\n",
            "  warnings.warn(\n",
            "/usr/local/lib/python3.10/dist-packages/arch/__future__/_utility.py:11: FutureWarning: \n",
            "The default for reindex is True. After September 2021 this will change to\n",
            "False. Set reindex to True or False to silence this message. Alternatively,\n",
            "you can use the import comment\n",
            "\n",
            "from arch.__future__ import reindexing\n",
            "\n",
            "to globally set reindex to True and silence this warning.\n",
            "\n",
            "  warnings.warn(\n",
            "/usr/local/lib/python3.10/dist-packages/arch/__future__/_utility.py:11: FutureWarning: \n",
            "The default for reindex is True. After September 2021 this will change to\n",
            "False. Set reindex to True or False to silence this message. Alternatively,\n",
            "you can use the import comment\n",
            "\n",
            "from arch.__future__ import reindexing\n",
            "\n",
            "to globally set reindex to True and silence this warning.\n",
            "\n",
            "  warnings.warn(\n",
            "/usr/local/lib/python3.10/dist-packages/arch/__future__/_utility.py:11: FutureWarning: \n",
            "The default for reindex is True. After September 2021 this will change to\n",
            "False. Set reindex to True or False to silence this message. Alternatively,\n",
            "you can use the import comment\n",
            "\n",
            "from arch.__future__ import reindexing\n",
            "\n",
            "to globally set reindex to True and silence this warning.\n",
            "\n",
            "  warnings.warn(\n"
          ]
        },
        {
          "name": "stdout",
          "output_type": "stream",
          "text": [
            "Iteration:      1,   Func. Count:      6,   Neg. LLF: 273837636.03924465\n",
            "Iteration:      2,   Func. Count:     13,   Neg. LLF: 198.94534926189075\n",
            "Iteration:      3,   Func. Count:     21,   Neg. LLF: 181.11944137057455\n",
            "Iteration:      4,   Func. Count:     28,   Neg. LLF: 177.871705329315\n",
            "Iteration:      5,   Func. Count:     33,   Neg. LLF: 177.86603971951962\n",
            "Iteration:      6,   Func. Count:     38,   Neg. LLF: 177.8657129407655\n",
            "Iteration:      7,   Func. Count:     43,   Neg. LLF: 177.8656824833683\n",
            "Iteration:      8,   Func. Count:     48,   Neg. LLF: 177.86567903053196\n",
            "Iteration:      9,   Func. Count:     52,   Neg. LLF: 177.86567903047307\n",
            "Optimization terminated successfully    (Exit mode 0)\n",
            "            Current function value: 177.86567903053196\n",
            "            Iterations: 9\n",
            "            Function evaluations: 52\n",
            "            Gradient evaluations: 9\n",
            "Iteration:      1,   Func. Count:      6,   Neg. LLF: 64266011.00113434\n",
            "Iteration:      2,   Func. Count:     14,   Neg. LLF: 163.7860970195317\n",
            "Iteration:      3,   Func. Count:     21,   Neg. LLF: 163.2679250545612\n",
            "Iteration:      4,   Func. Count:     28,   Neg. LLF: 162.66920997722104\n",
            "Iteration:      5,   Func. Count:     33,   Neg. LLF: 162.66739231338659\n",
            "Iteration:      6,   Func. Count:     38,   Neg. LLF: 162.66570208401365\n",
            "Iteration:      7,   Func. Count:     44,   Neg. LLF: 162.66357968882457\n",
            "Iteration:      8,   Func. Count:     50,   Neg. LLF: 162.66276134256262\n",
            "Iteration:      9,   Func. Count:     55,   Neg. LLF: 162.66273533712655\n",
            "Iteration:     10,   Func. Count:     59,   Neg. LLF: 162.6627353371346\n",
            "Optimization terminated successfully    (Exit mode 0)\n",
            "            Current function value: 162.66273533712655\n",
            "            Iterations: 10\n",
            "            Function evaluations: 59\n",
            "            Gradient evaluations: 10\n",
            "Iteration:      1,   Func. Count:      6,   Neg. LLF: 475.52366678316207\n",
            "Iteration:      2,   Func. Count:     15,   Neg. LLF: 214.00277536387972\n",
            "Iteration:      3,   Func. Count:     22,   Neg. LLF: 167.94517473811663\n",
            "Iteration:      4,   Func. Count:     29,   Neg. LLF: 167.83915133655245\n"
          ]
        },
        {
          "name": "stderr",
          "output_type": "stream",
          "text": [
            "/usr/local/lib/python3.10/dist-packages/arch/__future__/_utility.py:11: FutureWarning: \n",
            "The default for reindex is True. After September 2021 this will change to\n",
            "False. Set reindex to True or False to silence this message. Alternatively,\n",
            "you can use the import comment\n",
            "\n",
            "from arch.__future__ import reindexing\n",
            "\n",
            "to globally set reindex to True and silence this warning.\n",
            "\n",
            "  warnings.warn(\n",
            "/usr/local/lib/python3.10/dist-packages/arch/__future__/_utility.py:11: FutureWarning: \n",
            "The default for reindex is True. After September 2021 this will change to\n",
            "False. Set reindex to True or False to silence this message. Alternatively,\n",
            "you can use the import comment\n",
            "\n",
            "from arch.__future__ import reindexing\n",
            "\n",
            "to globally set reindex to True and silence this warning.\n",
            "\n",
            "  warnings.warn(\n"
          ]
        },
        {
          "name": "stdout",
          "output_type": "stream",
          "text": [
            "Iteration:      5,   Func. Count:     34,   Neg. LLF: 168.40152577666242\n",
            "Iteration:      6,   Func. Count:     40,   Neg. LLF: 168.14543470718064\n",
            "Iteration:      7,   Func. Count:     46,   Neg. LLF: 168.10547714886013\n",
            "Iteration:      8,   Func. Count:     52,   Neg. LLF: 168.08991013157527\n",
            "Iteration:      9,   Func. Count:     58,   Neg. LLF: 168.07837906837185\n",
            "Iteration:     10,   Func. Count:     64,   Neg. LLF: 167.9257739811762\n",
            "Iteration:     11,   Func. Count:     70,   Neg. LLF: 199.10207206640465\n",
            "Iteration:     12,   Func. Count:     77,   Neg. LLF: 167.9433793005877\n",
            "Iteration:     13,   Func. Count:     83,   Neg. LLF: 167.9753380043926\n",
            "Iteration:     14,   Func. Count:     89,   Neg. LLF: 167.83088546749735\n",
            "Iteration:     15,   Func. Count:     95,   Neg. LLF: 167.7966096998319\n",
            "Iteration:     16,   Func. Count:    100,   Neg. LLF: 167.79370055566028\n",
            "Iteration:     17,   Func. Count:    105,   Neg. LLF: 167.7934979789534\n",
            "Iteration:     18,   Func. Count:    110,   Neg. LLF: 167.7934873938745\n",
            "Iteration:     19,   Func. Count:    114,   Neg. LLF: 167.79348739345875\n",
            "Optimization terminated successfully    (Exit mode 0)\n",
            "            Current function value: 167.7934873938745\n",
            "            Iterations: 19\n",
            "            Function evaluations: 114\n",
            "            Gradient evaluations: 19\n",
            "Iteration:      1,   Func. Count:      6,   Neg. LLF: 295.70048981518767\n",
            "Iteration:      2,   Func. Count:     14,   Neg. LLF: 164.8860764541244\n",
            "Iteration:      3,   Func. Count:     21,   Neg. LLF: 161.9429800373138\n",
            "Iteration:      4,   Func. Count:     26,   Neg. LLF: 161.9423911673598\n",
            "Iteration:      5,   Func. Count:     31,   Neg. LLF: 161.93999275486652\n",
            "Iteration:      6,   Func. Count:     36,   Neg. LLF: 161.93840029686936\n",
            "Iteration:      7,   Func. Count:     41,   Neg. LLF: 161.93832447808816\n",
            "Iteration:      8,   Func. Count:     46,   Neg. LLF: 161.9382923855368\n",
            "Iteration:      9,   Func. Count:     51,   Neg. LLF: 161.93828387209885\n",
            "Iteration:     10,   Func. Count:     56,   Neg. LLF: 161.93828045858461\n",
            "Iteration:     11,   Func. Count:     60,   Neg. LLF: 161.93828045874687\n",
            "Optimization terminated successfully    (Exit mode 0)\n",
            "            Current function value: 161.93828045858461\n",
            "            Iterations: 11\n",
            "            Function evaluations: 60\n",
            "            Gradient evaluations: 11\n"
          ]
        },
        {
          "name": "stderr",
          "output_type": "stream",
          "text": [
            "/usr/local/lib/python3.10/dist-packages/arch/__future__/_utility.py:11: FutureWarning: \n",
            "The default for reindex is True. After September 2021 this will change to\n",
            "False. Set reindex to True or False to silence this message. Alternatively,\n",
            "you can use the import comment\n",
            "\n",
            "from arch.__future__ import reindexing\n",
            "\n",
            "to globally set reindex to True and silence this warning.\n",
            "\n",
            "  warnings.warn(\n",
            "/usr/local/lib/python3.10/dist-packages/arch/__future__/_utility.py:11: FutureWarning: \n",
            "The default for reindex is True. After September 2021 this will change to\n",
            "False. Set reindex to True or False to silence this message. Alternatively,\n",
            "you can use the import comment\n",
            "\n",
            "from arch.__future__ import reindexing\n",
            "\n",
            "to globally set reindex to True and silence this warning.\n",
            "\n",
            "  warnings.warn(\n",
            "/usr/local/lib/python3.10/dist-packages/arch/__future__/_utility.py:11: FutureWarning: \n",
            "The default for reindex is True. After September 2021 this will change to\n",
            "False. Set reindex to True or False to silence this message. Alternatively,\n",
            "you can use the import comment\n",
            "\n",
            "from arch.__future__ import reindexing\n",
            "\n",
            "to globally set reindex to True and silence this warning.\n",
            "\n",
            "  warnings.warn(\n"
          ]
        },
        {
          "name": "stdout",
          "output_type": "stream",
          "text": [
            "Iteration:      1,   Func. Count:      6,   Neg. LLF: 190.1707600378208\n",
            "Iteration:      2,   Func. Count:     13,   Neg. LLF: 3226.5573224208647\n",
            "Iteration:      3,   Func. Count:     21,   Neg. LLF: 163.02171522461222\n",
            "Iteration:      4,   Func. Count:     27,   Neg. LLF: 163.03762525803913\n",
            "Iteration:      5,   Func. Count:     33,   Neg. LLF: 163.01163435711192\n",
            "Iteration:      6,   Func. Count:     37,   Neg. LLF: 163.01163435703677\n",
            "Optimization terminated successfully    (Exit mode 0)\n",
            "            Current function value: 163.01163435711192\n",
            "            Iterations: 6\n",
            "            Function evaluations: 37\n",
            "            Gradient evaluations: 6\n",
            "Iteration:      1,   Func. Count:      6,   Neg. LLF: 201.30050154612604\n",
            "Iteration:      2,   Func. Count:     14,   Neg. LLF: 178.10651450625824\n",
            "Iteration:      3,   Func. Count:     20,   Neg. LLF: 178.14443134589197\n",
            "Iteration:      4,   Func. Count:     26,   Neg. LLF: 177.92828251208397\n",
            "Iteration:      5,   Func. Count:     31,   Neg. LLF: 177.8954321168547\n",
            "Iteration:      6,   Func. Count:     36,   Neg. LLF: 177.7793020835585\n",
            "Iteration:      7,   Func. Count:     41,   Neg. LLF: 177.70373343101994\n",
            "Iteration:      8,   Func. Count:     46,   Neg. LLF: 177.6953486929452\n",
            "Iteration:      9,   Func. Count:     51,   Neg. LLF: 177.6858223098898\n",
            "Iteration:     10,   Func. Count:     56,   Neg. LLF: 177.68482437311008\n",
            "Iteration:     11,   Func. Count:     61,   Neg. LLF: 177.68475207214027\n",
            "Iteration:     12,   Func. Count:     66,   Neg. LLF: 177.68474941535317\n",
            "Iteration:     13,   Func. Count:     70,   Neg. LLF: 177.68474943758815\n",
            "Optimization terminated successfully    (Exit mode 0)\n",
            "            Current function value: 177.68474941535317\n",
            "            Iterations: 13\n",
            "            Function evaluations: 70\n",
            "            Gradient evaluations: 13\n",
            "MAPE: 100.67675184394149\n",
            "MSE: 1.6123389419758134\n"
          ]
        },
        {
          "name": "stderr",
          "output_type": "stream",
          "text": [
            "/usr/local/lib/python3.10/dist-packages/arch/__future__/_utility.py:11: FutureWarning: \n",
            "The default for reindex is True. After September 2021 this will change to\n",
            "False. Set reindex to True or False to silence this message. Alternatively,\n",
            "you can use the import comment\n",
            "\n",
            "from arch.__future__ import reindexing\n",
            "\n",
            "to globally set reindex to True and silence this warning.\n",
            "\n",
            "  warnings.warn(\n"
          ]
        }
      ],
      "source": [
        "from sklearn.preprocessing import StandardScaler\n",
        "from sklearn.utils import resample\n",
        "from sklearn.metrics import mean_absolute_percentage_error\n",
        "import arch\n",
        "import numpy as np\n",
        "\n",
        "# Create a StandardScaler instance\n",
        "scaler = StandardScaler()\n",
        "\n",
        "# Fit the scaler on the training data and transform both training and test sets\n",
        "train_scaled_grch = scaler.fit_transform(train_es.values.reshape(-1, 1)).flatten()\n",
        "test_scaled_grch = scaler.transform(test_es.values.reshape(-1, 1)).flatten()\n",
        "\n",
        "# Number of models in the ensemble\n",
        "n_models = 10\n",
        "\n",
        "# Create an empty list to store forecasts from each model\n",
        "forecasts_grch = []\n",
        "\n",
        "for _ in range(n_models):\n",
        "    # Bootstrap resampling for training\n",
        "    train_sample = resample(train_scaled_grch, replace=True, n_samples=len(train_scaled_grch))\n",
        "\n",
        "    # Create the GARCH model\n",
        "    model_grch = arch.arch_model(train_sample, vol='Garch')\n",
        "\n",
        "    # Fit the GARCH model on the resampled data\n",
        "    model_fit_grch = model_grch.fit()\n",
        "\n",
        "    # Forecast using the GARCH model\n",
        "    forecast = model_fit_grch.forecast(start=len(test_scaled_grch))\n",
        "\n",
        "    # Convert the forecasted values to an array\n",
        "    forecast_values_grch = forecast.mean.values[-len(test_scaled_grch):]\n",
        "\n",
        "    forecasts_grch.append(forecast_values_grch)\n",
        "\n",
        "# Aggregate the forecasts from all models\n",
        "bagged_forecast_grch = np.mean(forecasts_grch, axis=0)\n",
        "\n",
        "# Calculate MAPE\n",
        "mape_grch = mean_absolute_percentage_error(test_scaled_grch, bagged_forecast_grch) * 100\n",
        "\n",
        "# Print the MAPE\n",
        "print(\"MAPE:\", mape_grch)\n",
        "\n",
        "# Calculate MSE\n",
        "mse_grch = mean_squared_error(test_scaled_grch, bagged_forecast_grch)\n",
        "\n",
        "# Print the MSE\n",
        "print(\"MSE:\", mse_grch)\n"
      ]
    },
    {
      "cell_type": "code",
      "execution_count": 25,
      "metadata": {
        "colab": {
          "base_uri": "https://localhost:8080/",
          "height": 772
        },
        "id": "YkmREeL77Frg",
        "outputId": "b3be5395-4326-45d9-b5b1-489c92dbb7ee"
      },
      "outputs": [
        {
          "data": {
            "image/png": "[encoded data removed]",
            "text/plain": [
              "<Figure size 1080x840 with 1 Axes>"
            ]
          },
          "metadata": {},
          "output_type": "display_data"
        }
      ],
      "source": [
        "import matplotlib.pyplot as plt\n",
        "\n",
        "# Plot the original test data\n",
        "plt.plot(test_scaled_grch, label=\"Actual Data\")\n",
        "\n",
        "# Plot the bagged forecast\n",
        "plt.plot(bagged_forecast_grch, label=\"Bagged Forecast\", linestyle=\"--\")\n",
        "\n",
        "plt.xlabel(\"Time\")\n",
        "plt.ylabel(\"Scaled Values\")\n",
        "plt.title(\"Actual Data vs. Bagged Forecast\")\n",
        "plt.legend()\n",
        "plt.show()\n"
      ]
    },
    {
      "cell_type": "code",
      "execution_count": null,
      "metadata": {
        "id": "MaQgUOT27bMU"
      },
      "outputs": [],
      "source": []
    },
    {
      "cell_type": "code",
      "execution_count": null,
      "metadata": {
        "id": "ZNkGGZwT7eZO"
      },
      "outputs": [],
      "source": []
    },
    {
      "cell_type": "code",
      "execution_count": null,
      "metadata": {
        "id": "pGF2eYeD7eb_"
      },
      "outputs": [],
      "source": []
    },
    {
      "cell_type": "code",
      "execution_count": null,
      "metadata": {
        "id": "WxkIPwkx7ee2"
      },
      "outputs": [],
      "source": []
    },
    {
      "cell_type": "code",
      "execution_count": null,
      "metadata": {
        "id": "_vTPWreb7ehT"
      },
      "outputs": [],
      "source": []
    },
    {
      "cell_type": "code",
      "execution_count": null,
      "metadata": {
        "id": "m1HMsOaR7ekv"
      },
      "outputs": [],
      "source": []
    },
    {
      "cell_type": "markdown",
      "metadata": {
        "id": "LLqvH2TR7fPN"
      },
      "source": [
        "**MODEL 03 - EXPONENTIAL SMOOTHING **"
      ]
    },
    {
      "cell_type": "code",
      "execution_count": 15,
      "metadata": {
        "id": "RS73T8Ha7jKt"
      },
      "outputs": [],
      "source": [
        "import numpy as np\n",
        "import pandas as pd\n",
        "import matplotlib.pyplot as plt\n",
        "from statsmodels.tsa.holtwinters import ExponentialSmoothing\n",
        "from sklearn.ensemble import BaggingRegressor\n",
        "from sklearn.preprocessing import StandardScaler\n",
        "from sklearn.metrics import mean_squared_error\n"
      ]
    },
    {
      "cell_type": "code",
      "execution_count": 25,
      "metadata": {
        "colab": {
          "base_uri": "https://localhost:8080/"
        },
        "id": "SWa-adoP7l8C",
        "outputId": "9d8a1bef-7ff6-4924-afe2-67da7bf4ec05"
      },
      "outputs": [
        {
          "name": "stdout",
          "output_type": "stream",
          "text": [
            "MSE (Scaled Holt-Winters): 0.036774412605311106\n",
            "Forecasted Values (Holt-Winters):\n",
            "2020-03-31    1.346742e+06\n",
            "2020-06-30    1.345810e+06\n",
            "2020-09-30    1.344814e+06\n",
            "2020-12-31    1.343745e+06\n",
            "2021-03-31    1.342593e+06\n",
            "2021-06-30    1.343572e+06\n",
            "2021-09-30    1.346259e+06\n",
            "2021-12-31    1.346462e+06\n",
            "2022-03-31    1.346803e+06\n",
            "2022-06-30    1.346666e+06\n",
            "2022-09-30    1.346682e+06\n",
            "2022-12-31    1.346750e+06\n",
            "2023-03-31    1.346742e+06\n",
            "2023-06-30    1.345810e+06\n",
            "2023-09-30    1.344814e+06\n",
            "2023-12-31    1.343745e+06\n",
            "2024-03-31    1.342593e+06\n",
            "2024-06-30    1.343572e+06\n",
            "2024-09-30    1.346259e+06\n",
            "2024-12-31    1.346462e+06\n",
            "2025-03-31    1.346803e+06\n",
            "2025-06-30    1.346666e+06\n",
            "2025-09-30    1.346682e+06\n",
            "2025-12-31    1.346750e+06\n",
            "2026-03-31    1.346742e+06\n",
            "2026-06-30    1.345810e+06\n",
            "2026-09-30    1.344814e+06\n",
            "2026-12-31    1.343745e+06\n",
            "2027-03-31    1.342593e+06\n",
            "2027-06-30    1.343572e+06\n",
            "2027-09-30    1.346259e+06\n",
            "2027-12-31    1.346462e+06\n",
            "2028-03-31    1.346803e+06\n",
            "2028-06-30    1.346666e+06\n",
            "2028-09-30    1.346682e+06\n",
            "2028-12-31    1.346750e+06\n",
            "2029-03-31    1.346742e+06\n",
            "2029-06-30    1.345810e+06\n",
            "2029-09-30    1.344814e+06\n",
            "2029-12-31    1.343745e+06\n",
            "2030-03-31    1.342593e+06\n",
            "2030-06-30    1.343572e+06\n",
            "2030-09-30    1.346259e+06\n",
            "2030-12-31    1.346462e+06\n",
            "2031-03-31    1.346803e+06\n",
            "2031-06-30    1.346666e+06\n",
            "2031-09-30    1.346682e+06\n",
            "2031-12-31    1.346750e+06\n",
            "2032-03-31    1.346742e+06\n",
            "2032-06-30    1.345810e+06\n",
            "2032-09-30    1.344814e+06\n",
            "2032-12-31    1.343745e+06\n",
            "2033-03-31    1.342593e+06\n",
            "2033-06-30    1.343572e+06\n",
            "2033-09-30    1.346259e+06\n",
            "2033-12-31    1.346462e+06\n",
            "2034-03-31    1.346803e+06\n",
            "2034-06-30    1.346666e+06\n",
            "2034-09-30    1.346682e+06\n",
            "2034-12-31    1.346750e+06\n",
            "Freq: Q-DEC, dtype: float64\n"
          ]
        },
        {
          "name": "stderr",
          "output_type": "stream",
          "text": [
            "/usr/local/lib/python3.10/dist-packages/statsmodels/tsa/holtwinters/model.py:917: ConvergenceWarning: Optimization failed to converge. Check mle_retvals.\n",
            "  warnings.warn(\n"
          ]
        }
      ],
      "source": [
        "# Create and fit the Holt-Winters seasonal exponential smoothing model\n",
        "es_model = ExponentialSmoothing(train_es['Tax_Revenue'], seasonal='add', seasonal_periods=12)\n",
        "es_fitted_model = es_model.fit()\n",
        "\n",
        "# Perform forecasting for the next 5 years\n",
        "forecast_horizon = 60  # 5 years with monthly data\n",
        "es_forecast = es_fitted_model.forecast(forecast_horizon)\n",
        "\n",
        "# Standard scaling\n",
        "scaler = StandardScaler()\n",
        "train_scaled = scaler.fit_transform(train_es[['Tax_Revenue']])\n",
        "test_scaled = scaler.transform(test_es[['Tax_Revenue']])\n",
        "\n",
        "# Create and fit the BaggingRegressor\n",
        "bagging_model = BaggingRegressor(n_estimators=10, random_state=0)\n",
        "bagging_model.fit(np.arange(len(train_es)).reshape(-1, 1), train_scaled.ravel())  # Reshape to 1D array\n",
        "\n",
        "# Predict using the bagging model\n",
        "bagging_forecast_scaled = bagging_model.predict(np.arange(len(train_es), len(train_es) + forecast_horizon).reshape(-1, 1))\n",
        "\n",
        "# Create and fit the Holt-Winters seasonal exponential smoothing model with scaled data\n",
        "es_scaled_model = ExponentialSmoothing(train_scaled, seasonal='add', seasonal_periods=12)\n",
        "es_scaled_fitted_model = es_scaled_model.fit()\n",
        "\n",
        "# Perform forecasting for the next 5 years with scaled model\n",
        "es_scaled_forecast = es_scaled_fitted_model.forecast(forecast_horizon)\n",
        "\n",
        "# Calculate MSE for the scaled model\n",
        "mse_scaled = mean_squared_error(test_scaled, es_scaled_forecast[:len(test_scaled)])\n",
        "print(\"MSE (Scaled Holt-Winters):\", mse_scaled)\n",
        "\n",
        "# Print the forecasted values and MSE\n",
        "print(\"Forecasted Values (Holt-Winters):\")\n",
        "print(es_forecast)"
      ]
    },
    {
      "cell_type": "code",
      "execution_count": 32,
      "metadata": {
        "colab": {
          "base_uri": "https://localhost:8080/",
          "height": 444
        },
        "id": "reAGUMpJ-L5m",
        "outputId": "447dabe2-0f08-4932-b5c9-7c7ef05ad6a8"
      },
      "outputs": [
        {
          "data": {
            "image/png": "[encoded data removed]",
            "text/plain": [
              "<Figure size 1200x500 with 1 Axes>"
            ]
          },
          "metadata": {},
          "output_type": "display_data"
        }
      ],
      "source": [
        "# Plot the forecast\n",
        "plt.figure(figsize=(12, 5), dpi=100)\n",
        "es_forecast.plot()\n",
        "plt.xlabel('Year')\n",
        "plt.ylabel('Tax Revenue')\n",
        "plt.title('Exponential Smoothing Forecast')\n",
        "plt.show()"
      ]
    },
    {
      "cell_type": "code",
      "execution_count": null,
      "metadata": {
        "id": "KZoaxny_-Zz9"
      },
      "outputs": [],
      "source": []
    },
    {
      "cell_type": "code",
      "execution_count": null,
      "metadata": {
        "id": "PklWYdZw-Z3S"
      },
      "outputs": [],
      "source": []
    },
    {
      "cell_type": "code",
      "execution_count": null,
      "metadata": {
        "id": "JyxluPJO-Z6W"
      },
      "outputs": [],
      "source": []
    },
    {
      "cell_type": "code",
      "execution_count": null,
      "metadata": {
        "id": "6QA8NiEM-Z-B"
      },
      "outputs": [],
      "source": []
    },
    {
      "cell_type": "code",
      "execution_count": null,
      "metadata": {
        "id": "SDGanP9U-aDg"
      },
      "outputs": [],
      "source": []
    },
    {
      "cell_type": "markdown",
      "metadata": {
        "id": "vKjph6YU-777"
      },
      "source": [
        "**MODEL 04 - LSTM **"
      ]
    },
    {
      "cell_type": "code",
      "execution_count": 92,
      "metadata": {
        "colab": {
          "base_uri": "https://localhost:8080/",
          "height": 238
        },
        "id": "Rl0VUi8s-9oa",
        "outputId": "573cea0a-8737-4801-bebc-ce2c4e6cf7e6"
      },
      "outputs": [
        {
          "data": {
            "text/html": [
              "\n",
              "\n",
              "  <div id=\"df-37bc27b7-a887-4f62-9ba8-794fd93a00f9\">\n",
              "    <div class=\"colab-df-container\">\n",
              "      <div>\n",
              "<style scoped>\n",
              "    .dataframe tbody tr th:only-of-type {\n",
              "        vertical-align: middle;\n",
              "    }\n",
              "\n",
              "    .dataframe tbody tr th {\n",
              "        vertical-align: top;\n",
              "    }\n",
              "\n",
              "    .dataframe thead th {\n",
              "        text-align: right;\n",
              "    }\n",
              "</style>\n",
              "<table border=\"1\" class=\"dataframe\">\n",
              "  <thead>\n",
              "    <tr style=\"text-align: right;\">\n",
              "      <th></th>\n",
              "      <th>Total Revenue</th>\n",
              "    </tr>\n",
              "    <tr>\n",
              "      <th>Year</th>\n",
              "      <th></th>\n",
              "    </tr>\n",
              "  </thead>\n",
              "  <tbody>\n",
              "    <tr>\n",
              "      <th>1990-01-01</th>\n",
              "      <td>67964.0</td>\n",
              "    </tr>\n",
              "    <tr>\n",
              "      <th>1991-01-01</th>\n",
              "      <td>76179.0</td>\n",
              "    </tr>\n",
              "    <tr>\n",
              "      <th>1992-01-01</th>\n",
              "      <td>85781.0</td>\n",
              "    </tr>\n",
              "    <tr>\n",
              "      <th>1993-01-01</th>\n",
              "      <td>98339.0</td>\n",
              "    </tr>\n",
              "    <tr>\n",
              "      <th>1994-01-01</th>\n",
              "      <td>110038.0</td>\n",
              "    </tr>\n",
              "  </tbody>\n",
              "</table>\n",
              "</div>\n",
              "      <button class=\"colab-df-convert\" onclick=\"convertToInteractive('df-37bc27b7-a887-4f62-9ba8-794fd93a00f9')\"\n",
              "              title=\"Convert this dataframe to an interactive table.\"\n",
              "              style=\"display:none;\">\n",
              "\n",
              "  <svg xmlns=\"http://www.w3.org/2000/svg\" height=\"24px\"viewBox=\"0 0 24 24\"\n",
              "       width=\"24px\">\n",
              "    <path d=\"M0 0h24v24H0V0z\" fill=\"none\"/>\n",
              "    <path d=\"M18.56 5.44l.94 2.06.94-2.06 2.06-.94-2.06-.94-.94-2.06-.94 2.06-2.06.94zm-11 1L8.5 8.5l.94-2.06 2.06-.94-2.06-.94L8.5 2.5l-.94 2.06-2.06.94zm10 10l.94 2.06.94-2.06 2.06-.94-2.06-.94-.94-2.06-.94 2.06-2.06.94z\"/><path d=\"M17.41 7.96l-1.37-1.37c-.4-.4-.92-.59-1.43-.59-.52 0-1.04.2-1.43.59L10.3 9.45l-7.72 7.72c-.78.78-.78 2.05 0 2.83L4 21.41c.39.39.9.59 1.41.59.51 0 1.02-.2 1.41-.59l7.78-7.78 2.81-2.81c.8-.78.8-2.07 0-2.86zM5.41 20L4 18.59l7.72-7.72 1.47 1.35L5.41 20z\"/>\n",
              "  </svg>\n",
              "      </button>\n",
              "\n",
              "\n",
              "\n",
              "    <div id=\"df-b297b410-2b05-4be1-8ca5-ea4a231d191b\">\n",
              "      <button class=\"colab-df-quickchart\" onclick=\"quickchart('df-b297b410-2b05-4be1-8ca5-ea4a231d191b')\"\n",
              "              title=\"Suggest charts.\"\n",
              "              style=\"display:none;\">\n",
              "\n",
              "<svg xmlns=\"http://www.w3.org/2000/svg\" height=\"24px\"viewBox=\"0 0 24 24\"\n",
              "     width=\"24px\">\n",
              "    <g>\n",
              "        <path d=\"M19 3H5c-1.1 0-2 .9-2 2v14c0 1.1.9 2 2 2h14c1.1 0 2-.9 2-2V5c0-1.1-.9-2-2-2zM9 17H7v-7h2v7zm4 0h-2V7h2v10zm4 0h-2v-4h2v4z\"/>\n",
              "    </g>\n",
              "</svg>\n",
              "      </button>\n",
              "    </div>\n",
              "\n",
              "<style>\n",
              "  .colab-df-quickchart {\n",
              "    background-color: #E8F0FE;\n",
              "    border: none;\n",
              "    border-radius: 50%;\n",
              "    cursor: pointer;\n",
              "    display: none;\n",
              "    fill: #1967D2;\n",
              "    height: 32px;\n",
              "    padding: 0 0 0 0;\n",
              "    width: 32px;\n",
              "  }\n",
              "\n",
              "  .colab-df-quickchart:hover {\n",
              "    background-color: #E2EBFA;\n",
              "    box-shadow: 0px 1px 2px rgba(60, 64, 67, 0.3), 0px 1px 3px 1px rgba(60, 64, 67, 0.15);\n",
              "    fill: #174EA6;\n",
              "  }\n",
              "\n",
              "  [theme=dark] .colab-df-quickchart {\n",
              "    background-color: #3B4455;\n",
              "    fill: #D2E3FC;\n",
              "  }\n",
              "\n",
              "  [theme=dark] .colab-df-quickchart:hover {\n",
              "    background-color: #434B5C;\n",
              "    box-shadow: 0px 1px 3px 1px rgba(0, 0, 0, 0.15);\n",
              "    filter: drop-shadow(0px 1px 2px rgba(0, 0, 0, 0.3));\n",
              "    fill: #FFFFFF;\n",
              "  }\n",
              "</style>\n",
              "\n",
              "    <script>\n",
              "      async function quickchart(key) {\n",
              "        const containerElement = document.querySelector('#' + key);\n",
              "        const charts = await google.colab.kernel.invokeFunction(\n",
              "            'suggestCharts', [key], {});\n",
              "      }\n",
              "    </script>\n",
              "\n",
              "      <script>\n",
              "\n",
              "function displayQuickchartButton(domScope) {\n",
              "  let quickchartButtonEl =\n",
              "    domScope.querySelector('#df-b297b410-2b05-4be1-8ca5-ea4a231d191b button.colab-df-quickchart');\n",
              "  quickchartButtonEl.style.display =\n",
              "    google.colab.kernel.accessAllowed ? 'block' : 'none';\n",
              "}\n",
              "\n",
              "        displayQuickchartButton(document);\n",
              "      </script>\n",
              "      <style>\n",
              "    .colab-df-container {\n",
              "      display:flex;\n",
              "      flex-wrap:wrap;\n",
              "      gap: 12px;\n",
              "    }\n",
              "\n",
              "    .colab-df-convert {\n",
              "      background-color: #E8F0FE;\n",
              "      border: none;\n",
              "      border-radius: 50%;\n",
              "      cursor: pointer;\n",
              "      display: none;\n",
              "      fill: #1967D2;\n",
              "      height: 32px;\n",
              "      padding: 0 0 0 0;\n",
              "      width: 32px;\n",
              "    }\n",
              "\n",
              "    .colab-df-convert:hover {\n",
              "      background-color: #E2EBFA;\n",
              "      box-shadow: 0px 1px 2px rgba(60, 64, 67, 0.3), 0px 1px 3px 1px rgba(60, 64, 67, 0.15);\n",
              "      fill: #174EA6;\n",
              "    }\n",
              "\n",
              "    [theme=dark] .colab-df-convert {\n",
              "      background-color: #3B4455;\n",
              "      fill: #D2E3FC;\n",
              "    }\n",
              "\n",
              "    [theme=dark] .colab-df-convert:hover {\n",
              "      background-color: #434B5C;\n",
              "      box-shadow: 0px 1px 3px 1px rgba(0, 0, 0, 0.15);\n",
              "      filter: drop-shadow(0px 1px 2px rgba(0, 0, 0, 0.3));\n",
              "      fill: #FFFFFF;\n",
              "    }\n",
              "  </style>\n",
              "\n",
              "      <script>\n",
              "        const buttonEl =\n",
              "          document.querySelector('#df-37bc27b7-a887-4f62-9ba8-794fd93a00f9 button.colab-df-convert');\n",
              "        buttonEl.style.display =\n",
              "          google.colab.kernel.accessAllowed ? 'block' : 'none';\n",
              "\n",
              "        async function convertToInteractive(key) {\n",
              "          const element = document.querySelector('#df-37bc27b7-a887-4f62-9ba8-794fd93a00f9');\n",
              "          const dataTable =\n",
              "            await google.colab.kernel.invokeFunction('convertToInteractive',\n",
              "                                                     [key], {});\n",
              "          if (!dataTable) return;\n",
              "\n",
              "          const docLinkHtml = 'Like what you see? Visit the ' +\n",
              "            '<a target=\"_blank\" href=https://colab.research.google.com/notebooks/data_table.ipynb>data table notebook</a>'\n",
              "            + ' to learn more about interactive tables.';\n",
              "          element.innerHTML = '';\n",
              "          dataTable['output_type'] = 'display_data';\n",
              "          await google.colab.output.renderOutput(dataTable, element);\n",
              "          const docLink = document.createElement('div');\n",
              "          docLink.innerHTML = docLinkHtml;\n",
              "          element.appendChild(docLink);\n",
              "        }\n",
              "      </script>\n",
              "    </div>\n",
              "  </div>\n"
            ],
            "text/plain": [
              "            Total Revenue\n",
              "Year                     \n",
              "1990-01-01        67964.0\n",
              "1991-01-01        76179.0\n",
              "1992-01-01        85781.0\n",
              "1993-01-01        98339.0\n",
              "1994-01-01       110038.0"
            ]
          },
          "execution_count": 92,
          "metadata": {},
          "output_type": "execute_result"
        }
      ],
      "source": [
        "lstm_data = pd.read_csv('/content/cbsl_tot_tax.csv')\n",
        "\n",
        "# Remove unnecessary columns\n",
        "lstm_data = lstm_data[['Year', 'Tax Revenue']]\n",
        "\n",
        "#getting the mean of tax revenue ammount and fill it to null, if theres any\n",
        "lstm_data[\"Tax Revenue\"] = lstm_data[\"Tax Revenue\"].astype(\"float64\")\n",
        "m=round(lstm_data[\"Tax Revenue\"].mean(),2)\n",
        "lstm_data[\"Tax Revenue\"].fillna(m,inplace=True)\n",
        "\n",
        "#Convert the \"Year\" column to datetime format\n",
        "lstm_data[ 'Year'] = pd.to_datetime(lstm_data[ 'Year'], format='%Y')\n",
        "\n",
        "#Set the \"Year\" column as the index\n",
        "lstm_data.set_index('Year', inplace=True)\n",
        "\n",
        "lstm_data.head()"
      ]
    },
    {
      "cell_type": "code",
      "execution_count": 93,
      "metadata": {
        "colab": {
          "base_uri": "https://localhost:8080/",
          "height": 746
        },
        "id": "gYioH6xi_HNe",
        "outputId": "827bd5f8-3a72-4de8-8643-44a6bf803dd0"
      },
      "outputs": [
        {
          "data": {
            "image/png": "[encoded data removed]",
            "text/plain": [
              "<Figure size 1080x840 with 4 Axes>"
            ]
          },
          "metadata": {},
          "output_type": "display_data"
        }
      ],
      "source": [
        "from statsmodels.tsa.seasonal import seasonal_decompose\n",
        "\n",
        "results = seasonal_decompose(lstm_data['Tax Revenue'])\n",
        "results.plot();"
      ]
    },
    {
      "cell_type": "code",
      "execution_count": 94,
      "metadata": {
        "colab": {
          "base_uri": "https://localhost:8080/"
        },
        "id": "H81drc0j_Mj8",
        "outputId": "d25b23ad-c2b2-4774-8ffb-48de1708efb4"
      },
      "outputs": [
        {
          "data": {
            "text/plain": [
              "32"
            ]
          },
          "execution_count": 94,
          "metadata": {},
          "output_type": "execute_result"
        }
      ],
      "source": [
        "len(lstm_data)"
      ]
    },
    {
      "cell_type": "code",
      "execution_count": 95,
      "metadata": {
        "id": "GEWhB1lE_Sfm"
      },
      "outputs": [],
      "source": [
        "#dividing training and testing set\n",
        "train_rnn = lstm_data.iloc[:25]\n",
        "test_rnn = lstm_data.iloc[25:]"
      ]
    },
    {
      "cell_type": "code",
      "execution_count": 96,
      "metadata": {
        "id": "zL6w8Afs_Ulh"
      },
      "outputs": [],
      "source": [
        "from sklearn.preprocessing import MinMaxScaler\n",
        "scaler = MinMaxScaler()"
      ]
    },
    {
      "cell_type": "code",
      "execution_count": 97,
      "metadata": {
        "colab": {
          "base_uri": "https://localhost:8080/"
        },
        "id": "MqWuCh3Z_Vyp",
        "outputId": "e3e870aa-4867-416c-86cb-5f9e81518b72"
      },
      "outputs": [
        {
          "data": {
            "text/plain": [
              "(            Total Revenue\n",
              " Year                     \n",
              " 1990-01-01        67964.0\n",
              " 1991-01-01        76179.0\n",
              " 1992-01-01        85781.0\n",
              " 1993-01-01        98339.0\n",
              " 1994-01-01       110038.0,\n",
              "             Total Revenue\n",
              " Year                     \n",
              " 2017-01-01      1831531.0\n",
              " 2018-01-01      1919973.0\n",
              " 2019-01-01      1890899.0\n",
              " 2020-01-01      1367960.0\n",
              " 2021-01-01      1457071.0)"
            ]
          },
          "execution_count": 97,
          "metadata": {},
          "output_type": "execute_result"
        }
      ],
      "source": [
        "lstm_data.head(),lstm_data.tail()"
      ]
    },
    {
      "cell_type": "code",
      "execution_count": 98,
      "metadata": {
        "id": "awigQbUg_W99"
      },
      "outputs": [],
      "source": [
        "scaler.fit(train_rnn)\n",
        "scaled_train = scaler.transform(train_rnn)\n",
        "scaled_test = scaler.transform(test_rnn)"
      ]
    },
    {
      "cell_type": "code",
      "execution_count": 100,
      "metadata": {
        "colab": {
          "base_uri": "https://localhost:8080/"
        },
        "id": "1SH4qli2J_W_",
        "outputId": "b6e2ca3d-60f3-4d20-9857-3d2532741bd8"
      },
      "outputs": [
        {
          "name": "stdout",
          "output_type": "stream",
          "text": [
            "Epoch 1/50\n",
            "13/13 [==============================] - 3s 15ms/step - loss: 0.2905\n",
            "Epoch 2/50\n",
            "13/13 [==============================] - 0s 19ms/step - loss: 0.1486\n",
            "Epoch 3/50\n",
            "13/13 [==============================] - 0s 17ms/step - loss: 0.0389\n",
            "Epoch 4/50\n",
            "13/13 [==============================] - 0s 24ms/step - loss: 0.0185\n",
            "Epoch 5/50\n",
            "13/13 [==============================] - 0s 21ms/step - loss: 0.0157\n",
            "Epoch 6/50\n",
            "13/13 [==============================] - 0s 17ms/step - loss: 0.0135\n",
            "Epoch 7/50\n",
            "13/13 [==============================] - 0s 19ms/step - loss: 0.0097\n",
            "Epoch 8/50\n",
            "13/13 [==============================] - 0s 19ms/step - loss: 0.0088\n",
            "Epoch 9/50\n",
            "13/13 [==============================] - 0s 12ms/step - loss: 0.0065\n",
            "Epoch 10/50\n",
            "13/13 [==============================] - 0s 9ms/step - loss: 0.0070\n",
            "Epoch 11/50\n",
            "13/13 [==============================] - 0s 9ms/step - loss: 0.0068\n",
            "Epoch 12/50\n",
            "13/13 [==============================] - 0s 8ms/step - loss: 0.0065\n",
            "Epoch 13/50\n",
            "13/13 [==============================] - 0s 8ms/step - loss: 0.0056\n",
            "Epoch 14/50\n",
            "13/13 [==============================] - 0s 9ms/step - loss: 0.0100\n",
            "Epoch 15/50\n",
            "13/13 [==============================] - 0s 8ms/step - loss: 0.0068\n",
            "Epoch 16/50\n",
            "13/13 [==============================] - 0s 9ms/step - loss: 0.0125\n",
            "Epoch 17/50\n",
            "13/13 [==============================] - 0s 8ms/step - loss: 0.0075\n",
            "Epoch 18/50\n",
            "13/13 [==============================] - 0s 9ms/step - loss: 0.0051\n",
            "Epoch 19/50\n",
            "13/13 [==============================] - 0s 9ms/step - loss: 0.0042\n",
            "Epoch 20/50\n",
            "13/13 [==============================] - 0s 8ms/step - loss: 0.0046\n",
            "Epoch 21/50\n",
            "13/13 [==============================] - 0s 8ms/step - loss: 0.0044\n",
            "Epoch 22/50\n",
            "13/13 [==============================] - 0s 9ms/step - loss: 0.0038\n",
            "Epoch 23/50\n",
            "13/13 [==============================] - 0s 10ms/step - loss: 0.0040\n",
            "Epoch 24/50\n",
            "13/13 [==============================] - 0s 8ms/step - loss: 0.0034\n",
            "Epoch 25/50\n",
            "13/13 [==============================] - 0s 9ms/step - loss: 0.0042\n",
            "Epoch 26/50\n",
            "13/13 [==============================] - 0s 8ms/step - loss: 0.0041\n",
            "Epoch 27/50\n",
            "13/13 [==============================] - 0s 9ms/step - loss: 0.0035\n",
            "Epoch 28/50\n",
            "13/13 [==============================] - 0s 9ms/step - loss: 0.0030\n",
            "Epoch 29/50\n",
            "13/13 [==============================] - 0s 8ms/step - loss: 0.0026\n",
            "Epoch 30/50\n",
            "13/13 [==============================] - 0s 8ms/step - loss: 0.0023\n",
            "Epoch 31/50\n",
            "13/13 [==============================] - 0s 8ms/step - loss: 0.0021\n",
            "Epoch 32/50\n",
            "13/13 [==============================] - 0s 8ms/step - loss: 0.0025\n",
            "Epoch 33/50\n",
            "13/13 [==============================] - 0s 8ms/step - loss: 0.0024\n",
            "Epoch 34/50\n",
            "13/13 [==============================] - 0s 9ms/step - loss: 0.0016\n",
            "Epoch 35/50\n",
            "13/13 [==============================] - 0s 8ms/step - loss: 0.0018\n",
            "Epoch 36/50\n",
            "13/13 [==============================] - 0s 8ms/step - loss: 0.0014\n",
            "Epoch 37/50\n",
            "13/13 [==============================] - 0s 9ms/step - loss: 0.0017\n",
            "Epoch 38/50\n",
            "13/13 [==============================] - 0s 8ms/step - loss: 0.0014\n",
            "Epoch 39/50\n",
            "13/13 [==============================] - 0s 8ms/step - loss: 0.0012\n",
            "Epoch 40/50\n",
            "13/13 [==============================] - 0s 9ms/step - loss: 0.0022\n",
            "Epoch 41/50\n",
            "13/13 [==============================] - 0s 10ms/step - loss: 0.0016\n",
            "Epoch 42/50\n",
            "13/13 [==============================] - 0s 10ms/step - loss: 0.0014\n",
            "Epoch 43/50\n",
            "13/13 [==============================] - 0s 9ms/step - loss: 0.0017\n",
            "Epoch 44/50\n",
            "13/13 [==============================] - 0s 9ms/step - loss: 0.0012\n",
            "Epoch 45/50\n",
            "13/13 [==============================] - 0s 11ms/step - loss: 0.0012\n",
            "Epoch 46/50\n",
            "13/13 [==============================] - 0s 9ms/step - loss: 0.0012\n",
            "Epoch 47/50\n",
            "13/13 [==============================] - 0s 9ms/step - loss: 0.0012\n",
            "Epoch 48/50\n",
            "13/13 [==============================] - 0s 9ms/step - loss: 0.0010\n",
            "Epoch 49/50\n",
            "13/13 [==============================] - 0s 8ms/step - loss: 9.6303e-04\n",
            "Epoch 50/50\n",
            "13/13 [==============================] - 0s 10ms/step - loss: 0.0011\n",
            "1/1 [==============================] - 0s 222ms/step\n",
            "1/1 [==============================] - 0s 26ms/step\n",
            "1/1 [==============================] - 0s 28ms/step\n",
            "1/1 [==============================] - 0s 28ms/step\n",
            "1/1 [==============================] - 0s 26ms/step\n",
            "1/1 [==============================] - 0s 27ms/step\n",
            "1/1 [==============================] - 0s 27ms/step\n",
            "Mean Squared Error (Scaled): 0.3300014512870132\n"
          ]
        }
      ],
      "source": [
        "# Timeseries generator\n",
        "n_input = 12  # You can adjust this as needed\n",
        "n_features = 1\n",
        "generator = TimeseriesGenerator(scaled_train, scaled_train, length=n_input, batch_size=1)\n",
        "\n",
        "# Create LSTM model\n",
        "rnn_model = Sequential()\n",
        "rnn_model.add(LSTM(100, activation='relu', input_shape=(n_input, n_features)))\n",
        "rnn_model.add(Dense(1))\n",
        "rnn_model.compile(optimizer='adam', loss='mse')\n",
        "\n",
        "# Train the LSTM model\n",
        "rnn_model.fit(generator, epochs=50)\n",
        "\n",
        "# Prepare the last training batch for prediction\n",
        "last_train_batch = scaled_train[-n_input:]\n",
        "last_train_batch = last_train_batch.reshape((1, n_input, n_features))\n",
        "\n",
        "# Predict scaled values\n",
        "test_predictions_scaled = []\n",
        "\n",
        "for i in range(len(test_rnn)):\n",
        "    current_pred_scaled = rnn_model.predict(last_train_batch)[0]\n",
        "    test_predictions_scaled.append(current_pred_scaled)\n",
        "    last_train_batch = np.append(last_train_batch[:, 1:, :], [[current_pred_scaled]], axis=1)\n",
        "\n",
        "# Calculate Mean Squared Error (MSE) in scaled values\n",
        "mse_scaled = mean_squared_error(scaled_test, test_predictions_scaled)\n",
        "print(\"Mean Squared Error (Scaled):\", mse_scaled)"
      ]
    },
    {
      "cell_type": "code",
      "execution_count": 1,
      "metadata": {
        "id": "kzC6houDJ_Tb"
      },
      "outputs": [
        {
          "ename": "NameError",
          "evalue": "name 'plt' is not defined",
          "output_type": "error",
          "traceback": [
            "\u001b[1;31m---------------------------------------------------------------------------\u001b[0m",
            "\u001b[1;31mNameError\u001b[0m                                 Traceback (most recent call last)",
            "\u001b[1;32m~\\AppData\\Local\\Temp\\ipykernel_6756\\3449101387.py\u001b[0m in \u001b[0;36m<module>\u001b[1;34m\u001b[0m\n\u001b[0;32m      1\u001b[0m \u001b[1;31m# Plot scaled predictions vs actual values\u001b[0m\u001b[1;33m\u001b[0m\u001b[1;33m\u001b[0m\u001b[1;33m\u001b[0m\u001b[0m\n\u001b[1;32m----> 2\u001b[1;33m \u001b[0mplt\u001b[0m\u001b[1;33m.\u001b[0m\u001b[0mfigure\u001b[0m\u001b[1;33m(\u001b[0m\u001b[0mfigsize\u001b[0m\u001b[1;33m=\u001b[0m\u001b[1;33m(\u001b[0m\u001b[1;36m12\u001b[0m\u001b[1;33m,\u001b[0m \u001b[1;36m6\u001b[0m\u001b[1;33m)\u001b[0m\u001b[1;33m)\u001b[0m\u001b[1;33m\u001b[0m\u001b[1;33m\u001b[0m\u001b[0m\n\u001b[0m\u001b[0;32m      3\u001b[0m \u001b[0mplt\u001b[0m\u001b[1;33m.\u001b[0m\u001b[0mplot\u001b[0m\u001b[1;33m(\u001b[0m\u001b[0mscaled_test\u001b[0m\u001b[1;33m,\u001b[0m \u001b[0mlabel\u001b[0m\u001b[1;33m=\u001b[0m\u001b[1;34m'Actual'\u001b[0m\u001b[1;33m)\u001b[0m\u001b[1;33m\u001b[0m\u001b[1;33m\u001b[0m\u001b[0m\n\u001b[0;32m      4\u001b[0m \u001b[0mplt\u001b[0m\u001b[1;33m.\u001b[0m\u001b[0mplot\u001b[0m\u001b[1;33m(\u001b[0m\u001b[0mtest_predictions_scaled\u001b[0m\u001b[1;33m,\u001b[0m \u001b[0mlabel\u001b[0m\u001b[1;33m=\u001b[0m\u001b[1;34m'Predicted'\u001b[0m\u001b[1;33m)\u001b[0m\u001b[1;33m\u001b[0m\u001b[1;33m\u001b[0m\u001b[0m\n\u001b[0;32m      5\u001b[0m \u001b[0mplt\u001b[0m\u001b[1;33m.\u001b[0m\u001b[0mxlabel\u001b[0m\u001b[1;33m(\u001b[0m\u001b[1;34m'Time'\u001b[0m\u001b[1;33m)\u001b[0m\u001b[1;33m\u001b[0m\u001b[1;33m\u001b[0m\u001b[0m\n",
            "\u001b[1;31mNameError\u001b[0m: name 'plt' is not defined"
          ]
        }
      ],
      "source": [
        "# Plot scaled predictions vs actual values\n",
        "plt.figure(figsize=(12, 6))\n",
        "plt.plot(scaled_test, label='Actual')\n",
        "plt.plot(test_predictions_scaled, label='Predicted')\n",
        "plt.xlabel('Time')\n",
        "plt.ylabel('Scaled Tax Revenue')\n",
        "plt.title('Actual vs Predicted Tax Revenue (Scaled)')\n",
        "plt.legend()\n",
        "plt.show()"
      ]
    },
    {
      "cell_type": "code",
      "execution_count": null,
      "metadata": {
        "id": "OcZ19q7sJ_RA"
      },
      "outputs": [],
      "source": []
    },
    {
      "cell_type": "code",
      "execution_count": null,
      "metadata": {
        "id": "6VXvFyvTJ_N9"
      },
      "outputs": [],
      "source": []
    },
    {
      "cell_type": "code",
      "execution_count": null,
      "metadata": {
        "id": "wwCJvhLCJ_LZ"
      },
      "outputs": [],
      "source": []
    }
  ],
  "metadata": {
    "colab": {
      "provenance": []
    },
    "kernelspec": {
      "display_name": "Python 3",
      "name": "python3"
    },
    "language_info": {
      "codemirror_mode": {
        "name": "ipython",
        "version": 3
      },
      "file_extension": ".py",
      "mimetype": "text/x-python",
      "name": "python",
      "nbconvert_exporter": "python",
      "pygments_lexer": "ipython3",
      "version": "3.7.5"
    }
  },
  "nbformat": 4,
  "nbformat_minor": 0
}
