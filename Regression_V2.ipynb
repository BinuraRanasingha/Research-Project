{
 "cells": [
  {
   "cell_type": "code",
   "execution_count": null,
   "metadata": {},
   "outputs": [],
   "source": [
    "from google.colab import drive\n",
    "drive.mount('/content/drive')"
   ]
  },
  {
   "cell_type": "code",
   "execution_count": null,
   "metadata": {},
   "outputs": [],
   "source": [
    "%cd /content/drive/MyDrive/Research_reg/"
   ]
  },
  {
   "cell_type": "code",
   "execution_count": null,
   "metadata": {},
   "outputs": [],
   "source": [
    "#import relevant libraries\n",
    "import numpy as np\n",
    "import pandas as pd"
   ]
  },
  {
   "cell_type": "code",
   "execution_count": null,
   "metadata": {},
   "outputs": [],
   "source": [
    "\n",
    "\n",
    "\n",
    "#import the csv files to extract data\n",
    "money_df=pd.read_csv('MP.csv')\n",
    "money_df=money_df.dropna() #drop null values\n",
    "\n",
    "domestic_df = pd.read_csv('Domestic_borrowing.csv')\n",
    "domestic_df = domestic_df.dropna() #drop null values\n",
    "\n",
    "foreign_df = pd.read_csv('Foreign_borrowing.csv')\n",
    "foreign_df = foreign_df.dropna() #drop null values\n",
    "\n",
    "inflation_df = pd.read_csv('updated_inflation.csv')\n",
    "inflation_df = inflation_df.dropna() #drop null values\n",
    "\n",
    "tax_df = pd.read_csv('Tax.csv')\n",
    "tax_df = tax_df.dropna() #drop null values\n",
    "\n",
    "inf_df = pd.read_csv('updated_inflation.csv')\n",
    "inf_df = inf_df.dropna() #drop null values"
   ]
  },
  {
   "cell_type": "code",
   "execution_count": null,
   "metadata": {},
   "outputs": [],
   "source": [
    "print(money_df.head())\n",
    "print(domestic_df.head())\n",
    "print(foreign_df.head())\n",
    "print(tax_df.head())\n",
    "print(inf_df.head())"
   ]
  }
 ],
 "metadata": {
  "language_info": {
   "name": "python"
  },
  "orig_nbformat": 4
 },
 "nbformat": 4,
 "nbformat_minor": 2
}
