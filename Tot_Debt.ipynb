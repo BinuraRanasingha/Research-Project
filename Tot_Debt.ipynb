{
  "nbformat": 4,
  "nbformat_minor": 0,
  "metadata": {
    "colab": {
      "provenance": []
    },
    "kernelspec": {
      "name": "python3",
      "display_name": "Python 3"
    },
    "language_info": {
      "name": "python"
    }
  },
  "cells": [
    {
      "cell_type": "code",
      "execution_count": null,
      "metadata": {
        "id": "5uFLVpmOlSnT"
      },
      "outputs": [],
      "source": [
        "import pandas as pd\n",
        "import numpy as np\n",
        "import matplotlib.pyplot as plt\n",
        "from statsmodels.tsa.arima.model import ARIMA\n",
        "from statsmodels.graphics.tsaplots import plot_acf, plot_pacf\n",
        "from statsmodels.tsa.statespace.sarimax import SARIMAX"
      ]
    },
    {
      "cell_type": "code",
      "source": [
        "debt_df=pd.read_csv('tot_debt - Sheet1 (1).csv')"
      ],
      "metadata": {
        "id": "IRHDmDTsl2KA"
      },
      "execution_count": null,
      "outputs": []
    },
    {
      "cell_type": "code",
      "source": [
        "debt_df.head()"
      ],
      "metadata": {
        "colab": {
          "base_uri": "https://localhost:8080/",
          "height": 206
        },
        "id": "bdAexssHmYD2",
        "outputId": "6212a065-0187-4d81-fc43-2d62ae78b7f8"
      },
      "execution_count": null,
      "outputs": [
        {
          "output_type": "execute_result",
          "data": {
            "text/plain": [
              "   Year  For_Borrowing  Dom_Borrowing  Tot_Debt\n",
              "0  1990          11644          13508     25152\n",
              "1  1991          19329          16149     35478\n",
              "2  1992           7361          15551     22912\n",
              "3  1993           9855          24241     34096\n",
              "4  1994          11778          37696     49474"
            ],
            "text/html": [
              "\n",
              "  <div id=\"df-0ced1adc-d40a-48ff-a023-08adf7684c0e\" class=\"colab-df-container\">\n",
              "    <div>\n",
              "<style scoped>\n",
              "    .dataframe tbody tr th:only-of-type {\n",
              "        vertical-align: middle;\n",
              "    }\n",
              "\n",
              "    .dataframe tbody tr th {\n",
              "        vertical-align: top;\n",
              "    }\n",
              "\n",
              "    .dataframe thead th {\n",
              "        text-align: right;\n",
              "    }\n",
              "</style>\n",
              "<table border=\"1\" class=\"dataframe\">\n",
              "  <thead>\n",
              "    <tr style=\"text-align: right;\">\n",
              "      <th></th>\n",
              "      <th>Year</th>\n",
              "      <th>For_Borrowing</th>\n",
              "      <th>Dom_Borrowing</th>\n",
              "      <th>Tot_Debt</th>\n",
              "    </tr>\n",
              "  </thead>\n",
              "  <tbody>\n",
              "    <tr>\n",
              "      <th>0</th>\n",
              "      <td>1990</td>\n",
              "      <td>11644</td>\n",
              "      <td>13508</td>\n",
              "      <td>25152</td>\n",
              "    </tr>\n",
              "    <tr>\n",
              "      <th>1</th>\n",
              "      <td>1991</td>\n",
              "      <td>19329</td>\n",
              "      <td>16149</td>\n",
              "      <td>35478</td>\n",
              "    </tr>\n",
              "    <tr>\n",
              "      <th>2</th>\n",
              "      <td>1992</td>\n",
              "      <td>7361</td>\n",
              "      <td>15551</td>\n",
              "      <td>22912</td>\n",
              "    </tr>\n",
              "    <tr>\n",
              "      <th>3</th>\n",
              "      <td>1993</td>\n",
              "      <td>9855</td>\n",
              "      <td>24241</td>\n",
              "      <td>34096</td>\n",
              "    </tr>\n",
              "    <tr>\n",
              "      <th>4</th>\n",
              "      <td>1994</td>\n",
              "      <td>11778</td>\n",
              "      <td>37696</td>\n",
              "      <td>49474</td>\n",
              "    </tr>\n",
              "  </tbody>\n",
              "</table>\n",
              "</div>\n",
              "    <div class=\"colab-df-buttons\">\n",
              "\n",
              "  <div class=\"colab-df-container\">\n",
              "    <button class=\"colab-df-convert\" onclick=\"convertToInteractive('df-0ced1adc-d40a-48ff-a023-08adf7684c0e')\"\n",
              "            title=\"Convert this dataframe to an interactive table.\"\n",
              "            style=\"display:none;\">\n",
              "\n",
              "  <svg xmlns=\"http://www.w3.org/2000/svg\" height=\"24px\" viewBox=\"0 -960 960 960\">\n",
              "    <path d=\"M120-120v-720h720v720H120Zm60-500h600v-160H180v160Zm220 220h160v-160H400v160Zm0 220h160v-160H400v160ZM180-400h160v-160H180v160Zm440 0h160v-160H620v160ZM180-180h160v-160H180v160Zm440 0h160v-160H620v160Z\"/>\n",
              "  </svg>\n",
              "    </button>\n",
              "\n",
              "  <style>\n",
              "    .colab-df-container {\n",
              "      display:flex;\n",
              "      gap: 12px;\n",
              "    }\n",
              "\n",
              "    .colab-df-convert {\n",
              "      background-color: #E8F0FE;\n",
              "      border: none;\n",
              "      border-radius: 50%;\n",
              "      cursor: pointer;\n",
              "      display: none;\n",
              "      fill: #1967D2;\n",
              "      height: 32px;\n",
              "      padding: 0 0 0 0;\n",
              "      width: 32px;\n",
              "    }\n",
              "\n",
              "    .colab-df-convert:hover {\n",
              "      background-color: #E2EBFA;\n",
              "      box-shadow: 0px 1px 2px rgba(60, 64, 67, 0.3), 0px 1px 3px 1px rgba(60, 64, 67, 0.15);\n",
              "      fill: #174EA6;\n",
              "    }\n",
              "\n",
              "    .colab-df-buttons div {\n",
              "      margin-bottom: 4px;\n",
              "    }\n",
              "\n",
              "    [theme=dark] .colab-df-convert {\n",
              "      background-color: #3B4455;\n",
              "      fill: #D2E3FC;\n",
              "    }\n",
              "\n",
              "    [theme=dark] .colab-df-convert:hover {\n",
              "      background-color: #434B5C;\n",
              "      box-shadow: 0px 1px 3px 1px rgba(0, 0, 0, 0.15);\n",
              "      filter: drop-shadow(0px 1px 2px rgba(0, 0, 0, 0.3));\n",
              "      fill: #FFFFFF;\n",
              "    }\n",
              "  </style>\n",
              "\n",
              "    <script>\n",
              "      const buttonEl =\n",
              "        document.querySelector('#df-0ced1adc-d40a-48ff-a023-08adf7684c0e button.colab-df-convert');\n",
              "      buttonEl.style.display =\n",
              "        google.colab.kernel.accessAllowed ? 'block' : 'none';\n",
              "\n",
              "      async function convertToInteractive(key) {\n",
              "        const element = document.querySelector('#df-0ced1adc-d40a-48ff-a023-08adf7684c0e');\n",
              "        const dataTable =\n",
              "          await google.colab.kernel.invokeFunction('convertToInteractive',\n",
              "                                                    [key], {});\n",
              "        if (!dataTable) return;\n",
              "\n",
              "        const docLinkHtml = 'Like what you see? Visit the ' +\n",
              "          '<a target=\"_blank\" href=https://colab.research.google.com/notebooks/data_table.ipynb>data table notebook</a>'\n",
              "          + ' to learn more about interactive tables.';\n",
              "        element.innerHTML = '';\n",
              "        dataTable['output_type'] = 'display_data';\n",
              "        await google.colab.output.renderOutput(dataTable, element);\n",
              "        const docLink = document.createElement('div');\n",
              "        docLink.innerHTML = docLinkHtml;\n",
              "        element.appendChild(docLink);\n",
              "      }\n",
              "    </script>\n",
              "  </div>\n",
              "\n",
              "\n",
              "<div id=\"df-f2da47a6-a25c-4020-af67-1bf5d21e54c0\">\n",
              "  <button class=\"colab-df-quickchart\" onclick=\"quickchart('df-f2da47a6-a25c-4020-af67-1bf5d21e54c0')\"\n",
              "            title=\"Suggest charts.\"\n",
              "            style=\"display:none;\">\n",
              "\n",
              "<svg xmlns=\"http://www.w3.org/2000/svg\" height=\"24px\"viewBox=\"0 0 24 24\"\n",
              "     width=\"24px\">\n",
              "    <g>\n",
              "        <path d=\"M19 3H5c-1.1 0-2 .9-2 2v14c0 1.1.9 2 2 2h14c1.1 0 2-.9 2-2V5c0-1.1-.9-2-2-2zM9 17H7v-7h2v7zm4 0h-2V7h2v10zm4 0h-2v-4h2v4z\"/>\n",
              "    </g>\n",
              "</svg>\n",
              "  </button>\n",
              "\n",
              "<style>\n",
              "  .colab-df-quickchart {\n",
              "      --bg-color: #E8F0FE;\n",
              "      --fill-color: #1967D2;\n",
              "      --hover-bg-color: #E2EBFA;\n",
              "      --hover-fill-color: #174EA6;\n",
              "      --disabled-fill-color: #AAA;\n",
              "      --disabled-bg-color: #DDD;\n",
              "  }\n",
              "\n",
              "  [theme=dark] .colab-df-quickchart {\n",
              "      --bg-color: #3B4455;\n",
              "      --fill-color: #D2E3FC;\n",
              "      --hover-bg-color: #434B5C;\n",
              "      --hover-fill-color: #FFFFFF;\n",
              "      --disabled-bg-color: #3B4455;\n",
              "      --disabled-fill-color: #666;\n",
              "  }\n",
              "\n",
              "  .colab-df-quickchart {\n",
              "    background-color: var(--bg-color);\n",
              "    border: none;\n",
              "    border-radius: 50%;\n",
              "    cursor: pointer;\n",
              "    display: none;\n",
              "    fill: var(--fill-color);\n",
              "    height: 32px;\n",
              "    padding: 0;\n",
              "    width: 32px;\n",
              "  }\n",
              "\n",
              "  .colab-df-quickchart:hover {\n",
              "    background-color: var(--hover-bg-color);\n",
              "    box-shadow: 0 1px 2px rgba(60, 64, 67, 0.3), 0 1px 3px 1px rgba(60, 64, 67, 0.15);\n",
              "    fill: var(--button-hover-fill-color);\n",
              "  }\n",
              "\n",
              "  .colab-df-quickchart-complete:disabled,\n",
              "  .colab-df-quickchart-complete:disabled:hover {\n",
              "    background-color: var(--disabled-bg-color);\n",
              "    fill: var(--disabled-fill-color);\n",
              "    box-shadow: none;\n",
              "  }\n",
              "\n",
              "  .colab-df-spinner {\n",
              "    border: 2px solid var(--fill-color);\n",
              "    border-color: transparent;\n",
              "    border-bottom-color: var(--fill-color);\n",
              "    animation:\n",
              "      spin 1s steps(1) infinite;\n",
              "  }\n",
              "\n",
              "  @keyframes spin {\n",
              "    0% {\n",
              "      border-color: transparent;\n",
              "      border-bottom-color: var(--fill-color);\n",
              "      border-left-color: var(--fill-color);\n",
              "    }\n",
              "    20% {\n",
              "      border-color: transparent;\n",
              "      border-left-color: var(--fill-color);\n",
              "      border-top-color: var(--fill-color);\n",
              "    }\n",
              "    30% {\n",
              "      border-color: transparent;\n",
              "      border-left-color: var(--fill-color);\n",
              "      border-top-color: var(--fill-color);\n",
              "      border-right-color: var(--fill-color);\n",
              "    }\n",
              "    40% {\n",
              "      border-color: transparent;\n",
              "      border-right-color: var(--fill-color);\n",
              "      border-top-color: var(--fill-color);\n",
              "    }\n",
              "    60% {\n",
              "      border-color: transparent;\n",
              "      border-right-color: var(--fill-color);\n",
              "    }\n",
              "    80% {\n",
              "      border-color: transparent;\n",
              "      border-right-color: var(--fill-color);\n",
              "      border-bottom-color: var(--fill-color);\n",
              "    }\n",
              "    90% {\n",
              "      border-color: transparent;\n",
              "      border-bottom-color: var(--fill-color);\n",
              "    }\n",
              "  }\n",
              "</style>\n",
              "\n",
              "  <script>\n",
              "    async function quickchart(key) {\n",
              "      const quickchartButtonEl =\n",
              "        document.querySelector('#' + key + ' button');\n",
              "      quickchartButtonEl.disabled = true;  // To prevent multiple clicks.\n",
              "      quickchartButtonEl.classList.add('colab-df-spinner');\n",
              "      try {\n",
              "        const charts = await google.colab.kernel.invokeFunction(\n",
              "            'suggestCharts', [key], {});\n",
              "      } catch (error) {\n",
              "        console.error('Error during call to suggestCharts:', error);\n",
              "      }\n",
              "      quickchartButtonEl.classList.remove('colab-df-spinner');\n",
              "      quickchartButtonEl.classList.add('colab-df-quickchart-complete');\n",
              "    }\n",
              "    (() => {\n",
              "      let quickchartButtonEl =\n",
              "        document.querySelector('#df-f2da47a6-a25c-4020-af67-1bf5d21e54c0 button');\n",
              "      quickchartButtonEl.style.display =\n",
              "        google.colab.kernel.accessAllowed ? 'block' : 'none';\n",
              "    })();\n",
              "  </script>\n",
              "</div>\n",
              "    </div>\n",
              "  </div>\n"
            ]
          },
          "metadata": {},
          "execution_count": 12
        }
      ]
    },
    {
      "cell_type": "code",
      "source": [
        "debt_df.tail()"
      ],
      "metadata": {
        "colab": {
          "base_uri": "https://localhost:8080/",
          "height": 206
        },
        "id": "8Iy_2Dxumeh1",
        "outputId": "0d415405-9fe2-4c6f-f861-394416b401f1"
      },
      "execution_count": null,
      "outputs": [
        {
          "output_type": "execute_result",
          "data": {
            "text/plain": [
              "    Year  For_Borrowing  Dom_Borrowing  Tot_Debt\n",
              "27  2017         439243         294251    733494\n",
              "28  2018         323535         437234    760769\n",
              "29  2019         542641         896448   1439089\n",
              "30  2020          83199        1750887   1834086\n",
              "31  2021          13901        2071826   2085727"
            ],
            "text/html": [
              "\n",
              "  <div id=\"df-b80699fb-28bb-4efe-a6a2-103bb158b4ac\" class=\"colab-df-container\">\n",
              "    <div>\n",
              "<style scoped>\n",
              "    .dataframe tbody tr th:only-of-type {\n",
              "        vertical-align: middle;\n",
              "    }\n",
              "\n",
              "    .dataframe tbody tr th {\n",
              "        vertical-align: top;\n",
              "    }\n",
              "\n",
              "    .dataframe thead th {\n",
              "        text-align: right;\n",
              "    }\n",
              "</style>\n",
              "<table border=\"1\" class=\"dataframe\">\n",
              "  <thead>\n",
              "    <tr style=\"text-align: right;\">\n",
              "      <th></th>\n",
              "      <th>Year</th>\n",
              "      <th>For_Borrowing</th>\n",
              "      <th>Dom_Borrowing</th>\n",
              "      <th>Tot_Debt</th>\n",
              "    </tr>\n",
              "  </thead>\n",
              "  <tbody>\n",
              "    <tr>\n",
              "      <th>27</th>\n",
              "      <td>2017</td>\n",
              "      <td>439243</td>\n",
              "      <td>294251</td>\n",
              "      <td>733494</td>\n",
              "    </tr>\n",
              "    <tr>\n",
              "      <th>28</th>\n",
              "      <td>2018</td>\n",
              "      <td>323535</td>\n",
              "      <td>437234</td>\n",
              "      <td>760769</td>\n",
              "    </tr>\n",
              "    <tr>\n",
              "      <th>29</th>\n",
              "      <td>2019</td>\n",
              "      <td>542641</td>\n",
              "      <td>896448</td>\n",
              "      <td>1439089</td>\n",
              "    </tr>\n",
              "    <tr>\n",
              "      <th>30</th>\n",
              "      <td>2020</td>\n",
              "      <td>83199</td>\n",
              "      <td>1750887</td>\n",
              "      <td>1834086</td>\n",
              "    </tr>\n",
              "    <tr>\n",
              "      <th>31</th>\n",
              "      <td>2021</td>\n",
              "      <td>13901</td>\n",
              "      <td>2071826</td>\n",
              "      <td>2085727</td>\n",
              "    </tr>\n",
              "  </tbody>\n",
              "</table>\n",
              "</div>\n",
              "    <div class=\"colab-df-buttons\">\n",
              "\n",
              "  <div class=\"colab-df-container\">\n",
              "    <button class=\"colab-df-convert\" onclick=\"convertToInteractive('df-b80699fb-28bb-4efe-a6a2-103bb158b4ac')\"\n",
              "            title=\"Convert this dataframe to an interactive table.\"\n",
              "            style=\"display:none;\">\n",
              "\n",
              "  <svg xmlns=\"http://www.w3.org/2000/svg\" height=\"24px\" viewBox=\"0 -960 960 960\">\n",
              "    <path d=\"M120-120v-720h720v720H120Zm60-500h600v-160H180v160Zm220 220h160v-160H400v160Zm0 220h160v-160H400v160ZM180-400h160v-160H180v160Zm440 0h160v-160H620v160ZM180-180h160v-160H180v160Zm440 0h160v-160H620v160Z\"/>\n",
              "  </svg>\n",
              "    </button>\n",
              "\n",
              "  <style>\n",
              "    .colab-df-container {\n",
              "      display:flex;\n",
              "      gap: 12px;\n",
              "    }\n",
              "\n",
              "    .colab-df-convert {\n",
              "      background-color: #E8F0FE;\n",
              "      border: none;\n",
              "      border-radius: 50%;\n",
              "      cursor: pointer;\n",
              "      display: none;\n",
              "      fill: #1967D2;\n",
              "      height: 32px;\n",
              "      padding: 0 0 0 0;\n",
              "      width: 32px;\n",
              "    }\n",
              "\n",
              "    .colab-df-convert:hover {\n",
              "      background-color: #E2EBFA;\n",
              "      box-shadow: 0px 1px 2px rgba(60, 64, 67, 0.3), 0px 1px 3px 1px rgba(60, 64, 67, 0.15);\n",
              "      fill: #174EA6;\n",
              "    }\n",
              "\n",
              "    .colab-df-buttons div {\n",
              "      margin-bottom: 4px;\n",
              "    }\n",
              "\n",
              "    [theme=dark] .colab-df-convert {\n",
              "      background-color: #3B4455;\n",
              "      fill: #D2E3FC;\n",
              "    }\n",
              "\n",
              "    [theme=dark] .colab-df-convert:hover {\n",
              "      background-color: #434B5C;\n",
              "      box-shadow: 0px 1px 3px 1px rgba(0, 0, 0, 0.15);\n",
              "      filter: drop-shadow(0px 1px 2px rgba(0, 0, 0, 0.3));\n",
              "      fill: #FFFFFF;\n",
              "    }\n",
              "  </style>\n",
              "\n",
              "    <script>\n",
              "      const buttonEl =\n",
              "        document.querySelector('#df-b80699fb-28bb-4efe-a6a2-103bb158b4ac button.colab-df-convert');\n",
              "      buttonEl.style.display =\n",
              "        google.colab.kernel.accessAllowed ? 'block' : 'none';\n",
              "\n",
              "      async function convertToInteractive(key) {\n",
              "        const element = document.querySelector('#df-b80699fb-28bb-4efe-a6a2-103bb158b4ac');\n",
              "        const dataTable =\n",
              "          await google.colab.kernel.invokeFunction('convertToInteractive',\n",
              "                                                    [key], {});\n",
              "        if (!dataTable) return;\n",
              "\n",
              "        const docLinkHtml = 'Like what you see? Visit the ' +\n",
              "          '<a target=\"_blank\" href=https://colab.research.google.com/notebooks/data_table.ipynb>data table notebook</a>'\n",
              "          + ' to learn more about interactive tables.';\n",
              "        element.innerHTML = '';\n",
              "        dataTable['output_type'] = 'display_data';\n",
              "        await google.colab.output.renderOutput(dataTable, element);\n",
              "        const docLink = document.createElement('div');\n",
              "        docLink.innerHTML = docLinkHtml;\n",
              "        element.appendChild(docLink);\n",
              "      }\n",
              "    </script>\n",
              "  </div>\n",
              "\n",
              "\n",
              "<div id=\"df-82183719-9530-4d51-8599-79b019e5c473\">\n",
              "  <button class=\"colab-df-quickchart\" onclick=\"quickchart('df-82183719-9530-4d51-8599-79b019e5c473')\"\n",
              "            title=\"Suggest charts.\"\n",
              "            style=\"display:none;\">\n",
              "\n",
              "<svg xmlns=\"http://www.w3.org/2000/svg\" height=\"24px\"viewBox=\"0 0 24 24\"\n",
              "     width=\"24px\">\n",
              "    <g>\n",
              "        <path d=\"M19 3H5c-1.1 0-2 .9-2 2v14c0 1.1.9 2 2 2h14c1.1 0 2-.9 2-2V5c0-1.1-.9-2-2-2zM9 17H7v-7h2v7zm4 0h-2V7h2v10zm4 0h-2v-4h2v4z\"/>\n",
              "    </g>\n",
              "</svg>\n",
              "  </button>\n",
              "\n",
              "<style>\n",
              "  .colab-df-quickchart {\n",
              "      --bg-color: #E8F0FE;\n",
              "      --fill-color: #1967D2;\n",
              "      --hover-bg-color: #E2EBFA;\n",
              "      --hover-fill-color: #174EA6;\n",
              "      --disabled-fill-color: #AAA;\n",
              "      --disabled-bg-color: #DDD;\n",
              "  }\n",
              "\n",
              "  [theme=dark] .colab-df-quickchart {\n",
              "      --bg-color: #3B4455;\n",
              "      --fill-color: #D2E3FC;\n",
              "      --hover-bg-color: #434B5C;\n",
              "      --hover-fill-color: #FFFFFF;\n",
              "      --disabled-bg-color: #3B4455;\n",
              "      --disabled-fill-color: #666;\n",
              "  }\n",
              "\n",
              "  .colab-df-quickchart {\n",
              "    background-color: var(--bg-color);\n",
              "    border: none;\n",
              "    border-radius: 50%;\n",
              "    cursor: pointer;\n",
              "    display: none;\n",
              "    fill: var(--fill-color);\n",
              "    height: 32px;\n",
              "    padding: 0;\n",
              "    width: 32px;\n",
              "  }\n",
              "\n",
              "  .colab-df-quickchart:hover {\n",
              "    background-color: var(--hover-bg-color);\n",
              "    box-shadow: 0 1px 2px rgba(60, 64, 67, 0.3), 0 1px 3px 1px rgba(60, 64, 67, 0.15);\n",
              "    fill: var(--button-hover-fill-color);\n",
              "  }\n",
              "\n",
              "  .colab-df-quickchart-complete:disabled,\n",
              "  .colab-df-quickchart-complete:disabled:hover {\n",
              "    background-color: var(--disabled-bg-color);\n",
              "    fill: var(--disabled-fill-color);\n",
              "    box-shadow: none;\n",
              "  }\n",
              "\n",
              "  .colab-df-spinner {\n",
              "    border: 2px solid var(--fill-color);\n",
              "    border-color: transparent;\n",
              "    border-bottom-color: var(--fill-color);\n",
              "    animation:\n",
              "      spin 1s steps(1) infinite;\n",
              "  }\n",
              "\n",
              "  @keyframes spin {\n",
              "    0% {\n",
              "      border-color: transparent;\n",
              "      border-bottom-color: var(--fill-color);\n",
              "      border-left-color: var(--fill-color);\n",
              "    }\n",
              "    20% {\n",
              "      border-color: transparent;\n",
              "      border-left-color: var(--fill-color);\n",
              "      border-top-color: var(--fill-color);\n",
              "    }\n",
              "    30% {\n",
              "      border-color: transparent;\n",
              "      border-left-color: var(--fill-color);\n",
              "      border-top-color: var(--fill-color);\n",
              "      border-right-color: var(--fill-color);\n",
              "    }\n",
              "    40% {\n",
              "      border-color: transparent;\n",
              "      border-right-color: var(--fill-color);\n",
              "      border-top-color: var(--fill-color);\n",
              "    }\n",
              "    60% {\n",
              "      border-color: transparent;\n",
              "      border-right-color: var(--fill-color);\n",
              "    }\n",
              "    80% {\n",
              "      border-color: transparent;\n",
              "      border-right-color: var(--fill-color);\n",
              "      border-bottom-color: var(--fill-color);\n",
              "    }\n",
              "    90% {\n",
              "      border-color: transparent;\n",
              "      border-bottom-color: var(--fill-color);\n",
              "    }\n",
              "  }\n",
              "</style>\n",
              "\n",
              "  <script>\n",
              "    async function quickchart(key) {\n",
              "      const quickchartButtonEl =\n",
              "        document.querySelector('#' + key + ' button');\n",
              "      quickchartButtonEl.disabled = true;  // To prevent multiple clicks.\n",
              "      quickchartButtonEl.classList.add('colab-df-spinner');\n",
              "      try {\n",
              "        const charts = await google.colab.kernel.invokeFunction(\n",
              "            'suggestCharts', [key], {});\n",
              "      } catch (error) {\n",
              "        console.error('Error during call to suggestCharts:', error);\n",
              "      }\n",
              "      quickchartButtonEl.classList.remove('colab-df-spinner');\n",
              "      quickchartButtonEl.classList.add('colab-df-quickchart-complete');\n",
              "    }\n",
              "    (() => {\n",
              "      let quickchartButtonEl =\n",
              "        document.querySelector('#df-82183719-9530-4d51-8599-79b019e5c473 button');\n",
              "      quickchartButtonEl.style.display =\n",
              "        google.colab.kernel.accessAllowed ? 'block' : 'none';\n",
              "    })();\n",
              "  </script>\n",
              "</div>\n",
              "    </div>\n",
              "  </div>\n"
            ]
          },
          "metadata": {},
          "execution_count": 13
        }
      ]
    },
    {
      "cell_type": "code",
      "source": [
        "debt_df.dtypes"
      ],
      "metadata": {
        "colab": {
          "base_uri": "https://localhost:8080/"
        },
        "id": "CgJMm0aVnRnf",
        "outputId": "f1420d7f-5f58-4f2e-fa75-2b425cbf20d2"
      },
      "execution_count": null,
      "outputs": [
        {
          "output_type": "execute_result",
          "data": {
            "text/plain": [
              "Year             int64\n",
              "For_Borrowing    int64\n",
              "Dom_Borrowing    int64\n",
              "Tot_Debt         int64\n",
              "dtype: object"
            ]
          },
          "metadata": {},
          "execution_count": 14
        }
      ]
    },
    {
      "cell_type": "code",
      "source": [
        "debt_df.isna().sum()"
      ],
      "metadata": {
        "colab": {
          "base_uri": "https://localhost:8080/"
        },
        "id": "eVkFmMepoGab",
        "outputId": "e2bae056-378f-4eac-83fd-68b6241c4c66"
      },
      "execution_count": null,
      "outputs": [
        {
          "output_type": "execute_result",
          "data": {
            "text/plain": [
              "Year             0\n",
              "For_Borrowing    0\n",
              "Dom_Borrowing    0\n",
              "Tot_Debt         0\n",
              "dtype: int64"
            ]
          },
          "metadata": {},
          "execution_count": 15
        }
      ]
    },
    {
      "cell_type": "code",
      "source": [
        "debt_df=debt_df[['Year','Tot_Debt']]"
      ],
      "metadata": {
        "id": "IaWemzkPnVI3"
      },
      "execution_count": null,
      "outputs": []
    },
    {
      "cell_type": "code",
      "source": [
        "debt_df['Year'] = pd.to_datetime(debt_df['Year'], format='%Y')\n"
      ],
      "metadata": {
        "id": "y2iBfVx0ni9q"
      },
      "execution_count": null,
      "outputs": []
    },
    {
      "cell_type": "markdown",
      "source": [
        " Buidling ARIMA Model"
      ],
      "metadata": {
        "id": "w-5YmJjErYGN"
      }
    },
    {
      "cell_type": "code",
      "source": [
        "debt_df.set_index('Year', inplace=True)"
      ],
      "metadata": {
        "id": "xXCpPHu6rXF2"
      },
      "execution_count": null,
      "outputs": []
    },
    {
      "cell_type": "markdown",
      "source": [
        "Stationary test"
      ],
      "metadata": {
        "id": "S4BJegdIrh2g"
      }
    },
    {
      "cell_type": "code",
      "source": [
        "import pandas as pd\n",
        "import numpy as np\n",
        "import matplotlib.pyplot as plt\n",
        "from statsmodels.tsa.stattools import adfuller\n",
        "\n",
        "def test_stationarity(time_series):\n",
        "    # Calculate rolling statistics\n",
        "    rolling_mean = time_series.rolling(window=12).mean()\n",
        "    rolling_std = time_series.rolling(window=12).std()\n",
        "\n",
        "    # Plot original data, rolling mean, and rolling standard deviation\n",
        "    plt.figure(figsize=(12, 6))\n",
        "    plt.plot(time_series, label='Original')\n",
        "    plt.plot(rolling_mean, label='Rolling Mean')\n",
        "    plt.plot(rolling_std, label='Rolling Std')\n",
        "    plt.legend()\n",
        "    plt.title('Rolling Mean & Standard Deviation')\n",
        "    plt.show()\n",
        "\n",
        "    # Perform Augmented Dickey-Fuller test\n",
        "    result = adfuller(time_series, autolag='AIC')\n",
        "    print(\"Augmented Dickey-Fuller Test Results:\")\n",
        "    print(f'ADF Statistic: {result[0]}')\n",
        "    print(f'p-value: {result[1]}')\n",
        "    print(f'Critical Values:')\n",
        "    for key, value in result[4].items():\n",
        "        print(f'   {key}: {value}')\n",
        "\n",
        "    # Interpretation\n",
        "    if result[1] <= 0.05:\n",
        "        print(\"p-value <= 0.05: Strong evidence against null hypothesis (Non-Stationary)\")\n",
        "    else:\n",
        "        print(\"p-value > 0.05: Weak evidence against null hypothesis (Stationary)\")\n",
        "\n",
        "    if result[0] < result[4]['5%']:\n",
        "        print(\"ADF Statistic < 5% Critical Value: Strong evidence for stationarity\")\n",
        "    else:\n",
        "        print(\"ADF Statistic >= 5% Critical Value: Weak evidence against stationarity\")\n",
        "\n",
        "\n"
      ],
      "metadata": {
        "id": "w4bERZE-tsrk"
      },
      "execution_count": null,
      "outputs": []
    },
    {
      "cell_type": "code",
      "source": [
        "# Assuming 'debt_df' is your DataFrame\n",
        "debt_df['Tot_Debt'] = pd.to_numeric(debt_df['Tot_Debt'], errors='coerce')  # Convert to numeric if not already\n",
        "\n",
        "# Call the function\n",
        "test_stationarity(debt_df['Tot_Debt'])"
      ],
      "metadata": {
        "colab": {
          "base_uri": "https://localhost:8080/",
          "height": 701
        },
        "id": "TCO8h8DepcaU",
        "outputId": "e94ea7e2-6161-4b82-ad6e-1e3e94f92b0e"
      },
      "execution_count": null,
      "outputs": [
        {
          "output_type": "display_data",
          "data": {
            "text/plain": [
              "<Figure size 1200x600 with 1 Axes>"
            ],
            "image/png": "[encoded data removed]"
          },
          "metadata": {}
        },
        {
          "output_type": "stream",
          "name": "stdout",
          "text": [
            "Augmented Dickey-Fuller Test Results:\n",
            "ADF Statistic: 3.89109356737685\n",
            "p-value: 1.0\n",
            "Critical Values:\n",
            "   1%: -3.7883858816542486\n",
            "   5%: -3.013097747543462\n",
            "   10%: -2.6463967573696143\n",
            "p-value > 0.05: Weak evidence against null hypothesis (Stationary)\n",
            "ADF Statistic >= 5% Critical Value: Weak evidence against stationarity\n"
          ]
        }
      ]
    },
    {
      "cell_type": "markdown",
      "source": [
        "Stationarizing the Data"
      ],
      "metadata": {
        "id": "zPGjOkbMroAa"
      }
    },
    {
      "cell_type": "code",
      "source": [
        "debt_df['tot_debt_diff'] = debt_df['Tot_Debt'] - debt_df['Tot_Debt'].shift(3)\n",
        "debt_df.dropna(inplace=True)\n",
        "\n",
        "test_stationarity(debt_df['tot_debt_diff'])\n"
      ],
      "metadata": {
        "id": "fApVOztYrkOB",
        "colab": {
          "base_uri": "https://localhost:8080/",
          "height": 701
        },
        "outputId": "988a7a67-57ef-498e-f397-6aa6d85af7d9"
      },
      "execution_count": null,
      "outputs": [
        {
          "output_type": "display_data",
          "data": {
            "text/plain": [
              "<Figure size 1200x600 with 1 Axes>"
            ],
            "image/png": "[encoded data removed]"
          },
          "metadata": {}
        },
        {
          "output_type": "stream",
          "name": "stdout",
          "text": [
            "Augmented Dickey-Fuller Test Results:\n",
            "ADF Statistic: 1.4859738985386144\n",
            "p-value: 0.9974717575702349\n",
            "Critical Values:\n",
            "   1%: -3.8326031418574136\n",
            "   5%: -3.0312271701414204\n",
            "   10%: -2.655519584487535\n",
            "p-value > 0.05: Weak evidence against null hypothesis (Stationary)\n",
            "ADF Statistic >= 5% Critical Value: Weak evidence against stationarity\n"
          ]
        }
      ]
    },
    {
      "cell_type": "code",
      "source": [
        "plot_acf(debt_df['Tot_Debt'], lags=12)\n",
        "plot_pacf(debt_df['Tot_Debt'], lags=12)\n",
        "plt.show()\n"
      ],
      "metadata": {
        "colab": {
          "base_uri": "https://localhost:8080/",
          "height": 887
        },
        "id": "lb9Mdf-nruOP",
        "outputId": "57abc827-a45a-4540-9e85-a55721041123"
      },
      "execution_count": null,
      "outputs": [
        {
          "output_type": "display_data",
          "data": {
            "text/plain": [
              "<Figure size 640x480 with 1 Axes>"
            ],
            "image/png": "[encoded data removed]"
          },
          "metadata": {}
        },
        {
          "output_type": "display_data",
          "data": {
            "text/plain": [
              "<Figure size 640x480 with 1 Axes>"
            ],
            "image/png": "[encoded data removed]"
          },
          "metadata": {}
        }
      ]
    },
    {
      "cell_type": "markdown",
      "source": [
        "ARIMA\n"
      ],
      "metadata": {
        "id": "kb-APhw2rzSv"
      }
    },
    {
      "cell_type": "code",
      "source": [
        "p = 2\n",
        "d =3\n",
        "q = 3\n",
        "\n",
        "# Build and train the ARIMA model\n",
        "model = ARIMA(debt_df['Tot_Debt'], order=(p, d, q))\n",
        "model_fit = model.fit()\n",
        "\n",
        "# Print the model summary\n",
        "print(model_fit.summary())\n"
      ],
      "metadata": {
        "colab": {
          "base_uri": "https://localhost:8080/"
        },
        "id": "OeJUiwG7rxgJ",
        "outputId": "35116b2f-0e45-442f-eaa8-bf0cd50160a4"
      },
      "execution_count": null,
      "outputs": [
        {
          "output_type": "stream",
          "name": "stdout",
          "text": [
            "                               SARIMAX Results                                \n",
            "==============================================================================\n",
            "Dep. Variable:               Tot_Debt   No. Observations:                   29\n",
            "Model:                 ARIMA(2, 3, 3)   Log Likelihood                -352.787\n",
            "Date:                Sun, 03 Sep 2023   AIC                            717.575\n",
            "Time:                        09:43:40   BIC                            725.123\n",
            "Sample:                    01-01-1993   HQIC                           719.749\n",
            "                         - 01-01-2021                                         \n",
            "Covariance Type:                  opg                                         \n",
            "==============================================================================\n",
            "                 coef    std err          z      P>|z|      [0.025      0.975]\n",
            "------------------------------------------------------------------------------\n",
            "ar.L1         -0.6634      7.230     -0.092      0.927     -14.835      13.508\n",
            "ar.L2          0.2233      2.789      0.080      0.936      -5.243       5.690\n",
            "ma.L1         -0.9160      7.766     -0.118      0.906     -16.136      14.304\n",
            "ma.L2         -0.5515     11.221     -0.049      0.961     -22.545      21.442\n",
            "ma.L3          0.5860      4.954      0.118      0.906      -9.123      10.295\n",
            "sigma2      6.561e+10   1.63e-10   4.04e+20      0.000    6.56e+10    6.56e+10\n",
            "===================================================================================\n",
            "Ljung-Box (L1) (Q):                   0.03   Jarque-Bera (JB):                51.08\n",
            "Prob(Q):                              0.85   Prob(JB):                         0.00\n",
            "Heteroskedasticity (H):              83.42   Skew:                             1.51\n",
            "Prob(H) (two-sided):                  0.00   Kurtosis:                         9.17\n",
            "===================================================================================\n",
            "\n",
            "Warnings:\n",
            "[1] Covariance matrix calculated using the outer product of gradients (complex-step).\n",
            "[2] Covariance matrix is singular or near-singular, with condition number 6.13e+37. Standard errors may be unstable.\n"
          ]
        },
        {
          "output_type": "stream",
          "name": "stderr",
          "text": [
            "/usr/local/lib/python3.10/dist-packages/statsmodels/tsa/base/tsa_model.py:473: ValueWarning: No frequency information was provided, so inferred frequency AS-JAN will be used.\n",
            "  self._init_dates(dates, freq)\n",
            "/usr/local/lib/python3.10/dist-packages/statsmodels/tsa/base/tsa_model.py:473: ValueWarning: No frequency information was provided, so inferred frequency AS-JAN will be used.\n",
            "  self._init_dates(dates, freq)\n",
            "/usr/local/lib/python3.10/dist-packages/statsmodels/tsa/base/tsa_model.py:473: ValueWarning: No frequency information was provided, so inferred frequency AS-JAN will be used.\n",
            "  self._init_dates(dates, freq)\n"
          ]
        }
      ]
    },
    {
      "cell_type": "markdown",
      "source": [
        "Predict"
      ],
      "metadata": {
        "id": "2U7_nmxVr9to"
      }
    },
    {
      "cell_type": "code",
      "source": [
        "forecast_steps = 7\n",
        "forecast = model_fit.forecast(steps=forecast_steps)\n",
        "\n",
        "print(\"Forecasted values:\", forecast)\n"
      ],
      "metadata": {
        "colab": {
          "base_uri": "https://localhost:8080/"
        },
        "id": "6qHJ7Ydvr89g",
        "outputId": "f3a80ea7-e1aa-4ef7-a680-5b8876aecad0"
      },
      "execution_count": null,
      "outputs": [
        {
          "output_type": "stream",
          "name": "stdout",
          "text": [
            "Forecasted values: 2022-01-01    2.355780e+06\n",
            "2023-01-01    2.765307e+06\n",
            "2024-01-01    3.145675e+06\n",
            "2025-01-01    3.635792e+06\n",
            "2026-01-01    4.105847e+06\n",
            "2027-01-01    4.672977e+06\n",
            "2028-01-01    5.230484e+06\n",
            "Freq: AS-JAN, Name: predicted_mean, dtype: float64\n"
          ]
        }
      ]
    },
    {
      "cell_type": "markdown",
      "source": [
        "Visualize"
      ],
      "metadata": {
        "id": "qRnyden8r42G"
      }
    },
    {
      "cell_type": "code",
      "source": [
        "plt.figure(figsize=(12, 6))\n",
        "plt.plot(debt_df.index, debt_df['Tot_Debt'], label='Original')\n",
        "plt.plot(pd.date_range(start=debt_df.index[-1], periods=forecast_steps, freq='M'), forecast, label='Forecast', color='r')\n",
        "\n",
        "\n",
        "\n",
        "plt.legend()\n",
        "plt.title('ARIMA Forecast')\n",
        "plt.xlabel('Date')\n",
        "plt.ylabel('Total Debt')\n",
        "plt.show()\n"
      ],
      "metadata": {
        "colab": {
          "base_uri": "https://localhost:8080/",
          "height": 564
        },
        "id": "Qu-hDwYhr338",
        "outputId": "e7a88340-a247-49a7-c8c7-a77ae3dfbaed"
      },
      "execution_count": null,
      "outputs": [
        {
          "output_type": "display_data",
          "data": {
            "text/plain": [
              "<Figure size 1200x600 with 1 Axes>"
            ],
            "image/png": "[encoded data removed]"
          },
          "metadata": {}
        }
      ]
    },
    {
      "cell_type": "code",
      "source": [
        "\n",
        "# Parameters\n",
        "p = 2\n",
        "d = 3\n",
        "q = 3\n",
        "\n",
        "# Seasonal parameters (for yearly data, there is no seasonality)\n",
        "P = 0\n",
        "D = 0\n",
        "Q = 0\n",
        "s = 12\n",
        "\n",
        "# Build and train the SARIMAX model\n",
        "model = SARIMAX(debt_df['Tot_Debt'], order=(p, d, q), seasonal_order=(P, D, Q, s))\n",
        "model_fit = model.fit()\n",
        "\n",
        "# Print the model summary\n",
        "print(model_fit.summary())\n"
      ],
      "metadata": {
        "colab": {
          "base_uri": "https://localhost:8080/"
        },
        "id": "xP6HTFcWwUdF",
        "outputId": "0913f484-f940-489f-c429-b871b77c743c"
      },
      "execution_count": null,
      "outputs": [
        {
          "output_type": "stream",
          "name": "stdout",
          "text": [
            "                               SARIMAX Results                                \n",
            "==============================================================================\n",
            "Dep. Variable:               Tot_Debt   No. Observations:                   29\n",
            "Model:               SARIMAX(2, 3, 3)   Log Likelihood                -352.787\n",
            "Date:                Sun, 03 Sep 2023   AIC                            717.575\n",
            "Time:                        09:43:41   BIC                            725.123\n",
            "Sample:                    01-01-1993   HQIC                           719.749\n",
            "                         - 01-01-2021                                         \n",
            "Covariance Type:                  opg                                         \n",
            "==============================================================================\n",
            "                 coef    std err          z      P>|z|      [0.025      0.975]\n",
            "------------------------------------------------------------------------------\n",
            "ar.L1         -0.6634      7.230     -0.092      0.927     -14.835      13.508\n",
            "ar.L2          0.2233      2.789      0.080      0.936      -5.243       5.690\n",
            "ma.L1         -0.9160      7.766     -0.118      0.906     -16.136      14.304\n",
            "ma.L2         -0.5515     11.221     -0.049      0.961     -22.545      21.442\n",
            "ma.L3          0.5860      4.954      0.118      0.906      -9.123      10.295\n",
            "sigma2      6.561e+10   1.63e-10   4.04e+20      0.000    6.56e+10    6.56e+10\n",
            "===================================================================================\n",
            "Ljung-Box (L1) (Q):                   0.03   Jarque-Bera (JB):                51.08\n",
            "Prob(Q):                              0.85   Prob(JB):                         0.00\n",
            "Heteroskedasticity (H):              83.42   Skew:                             1.51\n",
            "Prob(H) (two-sided):                  0.00   Kurtosis:                         9.17\n",
            "===================================================================================\n",
            "\n",
            "Warnings:\n",
            "[1] Covariance matrix calculated using the outer product of gradients (complex-step).\n",
            "[2] Covariance matrix is singular or near-singular, with condition number 6.13e+37. Standard errors may be unstable.\n"
          ]
        },
        {
          "output_type": "stream",
          "name": "stderr",
          "text": [
            "/usr/local/lib/python3.10/dist-packages/statsmodels/tsa/base/tsa_model.py:473: ValueWarning: No frequency information was provided, so inferred frequency AS-JAN will be used.\n",
            "  self._init_dates(dates, freq)\n",
            "/usr/local/lib/python3.10/dist-packages/statsmodels/tsa/base/tsa_model.py:473: ValueWarning: No frequency information was provided, so inferred frequency AS-JAN will be used.\n",
            "  self._init_dates(dates, freq)\n"
          ]
        }
      ]
    },
    {
      "cell_type": "code",
      "source": [
        "# Forecast the future values\n",
        "forecast_steps = 7\n",
        "forecast = model_fit.get_forecast(steps=forecast_steps)\n",
        "forecasted_values = forecast.predicted_mean\n",
        "conf_int = forecast.conf_int()\n",
        "\n",
        "# Plotting\n",
        "plt.figure(figsize=(12, 6))\n",
        "plt.plot(debt_df.index, debt_df['Tot_Debt'], label='Original')\n",
        "plt.plot(pd.date_range(start=debt_df.index[-1], periods=forecast_steps, freq='Y'), forecasted_values, label='Forecast', color='r')\n",
        "\n",
        "# Fill between confidence intervals\n",
        "plt.fill_between(pd.date_range(start=debt_df.index[-1], periods=forecast_steps, freq='Y'),\n",
        "                 conf_int.iloc[:, 0], conf_int.iloc[:, 1], color='pink', alpha=0.3)\n",
        "\n",
        "plt.legend()\n",
        "plt.title('SARIMAX Forecast')\n",
        "plt.xlabel('Year')\n",
        "plt.ylabel('Total Debt')\n",
        "plt.show()"
      ],
      "metadata": {
        "id": "LYSnl-1Kw3d_",
        "outputId": "e8607523-698e-42f2-81f4-5fcca320a959",
        "colab": {
          "base_uri": "https://localhost:8080/",
          "height": 564
        }
      },
      "execution_count": null,
      "outputs": [
        {
          "output_type": "display_data",
          "data": {
            "text/plain": [
              "<Figure size 1200x600 with 1 Axes>"
            ],
            "image/png": "[encoded data removed]"
          },
          "metadata": {}
        }
      ]
    },
    {
      "cell_type": "code",
      "source": [
        "forecasted_values[7]"
      ],
      "metadata": {
        "colab": {
          "base_uri": "https://localhost:8080/"
        },
        "id": "AbJUhsN6drHq",
        "outputId": "a322a092-7c68-4d1b-d07d-a456aa2aa5c1"
      },
      "execution_count": null,
      "outputs": [
        {
          "output_type": "execute_result",
          "data": {
            "text/plain": [
              "2022-01-01    2.355780e+06\n",
              "2023-01-01    2.765307e+06\n",
              "2024-01-01    3.145675e+06\n",
              "2025-01-01    3.635792e+06\n",
              "2026-01-01    4.105847e+06\n",
              "2027-01-01    4.672977e+06\n",
              "2028-01-01    5.230484e+06\n",
              "Freq: AS-JAN, Name: predicted_mean, dtype: float64"
            ]
          },
          "metadata": {},
          "execution_count": 33
        }
      ]
    },
    {
      "cell_type": "code",
      "source": [
        "forecasted_values[6]"
      ],
      "metadata": {
        "id": "BefLDcm_vtO7",
        "outputId": "cbb8a530-f98e-4e5a-cf29-97cb4b4b7c27",
        "colab": {
          "base_uri": "https://localhost:8080/"
        }
      },
      "execution_count": null,
      "outputs": [
        {
          "output_type": "execute_result",
          "data": {
            "text/plain": [
              "5230484.074509773"
            ]
          },
          "metadata": {},
          "execution_count": 37
        }
      ]
    },
    {
      "cell_type": "code",
      "source": [
        "model_fit.summary()"
      ],
      "metadata": {
        "colab": {
          "base_uri": "https://localhost:8080/",
          "height": 512
        },
        "id": "MJxBM1wWb2rX",
        "outputId": "e3154d80-c207-4cb3-9122-fd0c1467906d"
      },
      "execution_count": null,
      "outputs": [
        {
          "output_type": "execute_result",
          "data": {
            "text/plain": [
              "<class 'statsmodels.iolib.summary.Summary'>\n",
              "\"\"\"\n",
              "                               SARIMAX Results                                \n",
              "==============================================================================\n",
              "Dep. Variable:               Tot_Debt   No. Observations:                   29\n",
              "Model:               SARIMAX(2, 3, 3)   Log Likelihood                -352.787\n",
              "Date:                Sun, 03 Sep 2023   AIC                            717.575\n",
              "Time:                        09:46:48   BIC                            725.123\n",
              "Sample:                    01-01-1993   HQIC                           719.749\n",
              "                         - 01-01-2021                                         \n",
              "Covariance Type:                  opg                                         \n",
              "==============================================================================\n",
              "                 coef    std err          z      P>|z|      [0.025      0.975]\n",
              "------------------------------------------------------------------------------\n",
              "ar.L1         -0.6634      7.230     -0.092      0.927     -14.835      13.508\n",
              "ar.L2          0.2233      2.789      0.080      0.936      -5.243       5.690\n",
              "ma.L1         -0.9160      7.766     -0.118      0.906     -16.136      14.304\n",
              "ma.L2         -0.5515     11.221     -0.049      0.961     -22.545      21.442\n",
              "ma.L3          0.5860      4.954      0.118      0.906      -9.123      10.295\n",
              "sigma2      6.561e+10   1.63e-10   4.04e+20      0.000    6.56e+10    6.56e+10\n",
              "===================================================================================\n",
              "Ljung-Box (L1) (Q):                   0.03   Jarque-Bera (JB):                51.08\n",
              "Prob(Q):                              0.85   Prob(JB):                         0.00\n",
              "Heteroskedasticity (H):              83.42   Skew:                             1.51\n",
              "Prob(H) (two-sided):                  0.00   Kurtosis:                         9.17\n",
              "===================================================================================\n",
              "\n",
              "Warnings:\n",
              "[1] Covariance matrix calculated using the outer product of gradients (complex-step).\n",
              "[2] Covariance matrix is singular or near-singular, with condition number 6.13e+37. Standard errors may be unstable.\n",
              "\"\"\""
            ],
            "text/html": [
              "<table class=\"simpletable\">\n",
              "<caption>SARIMAX Results</caption>\n",
              "<tr>\n",
              "  <th>Dep. Variable:</th>       <td>Tot_Debt</td>     <th>  No. Observations:  </th>    <td>29</td>   \n",
              "</tr>\n",
              "<tr>\n",
              "  <th>Model:</th>           <td>SARIMAX(2, 3, 3)</td> <th>  Log Likelihood     </th> <td>-352.787</td>\n",
              "</tr>\n",
              "<tr>\n",
              "  <th>Date:</th>            <td>Sun, 03 Sep 2023</td> <th>  AIC                </th>  <td>717.575</td>\n",
              "</tr>\n",
              "<tr>\n",
              "  <th>Time:</th>                <td>09:46:48</td>     <th>  BIC                </th>  <td>725.123</td>\n",
              "</tr>\n",
              "<tr>\n",
              "  <th>Sample:</th>             <td>01-01-1993</td>    <th>  HQIC               </th>  <td>719.749</td>\n",
              "</tr>\n",
              "<tr>\n",
              "  <th></th>                   <td>- 01-01-2021</td>   <th>                     </th>     <td> </td>   \n",
              "</tr>\n",
              "<tr>\n",
              "  <th>Covariance Type:</th>        <td>opg</td>       <th>                     </th>     <td> </td>   \n",
              "</tr>\n",
              "</table>\n",
              "<table class=\"simpletable\">\n",
              "<tr>\n",
              "     <td></td>       <th>coef</th>     <th>std err</th>      <th>z</th>      <th>P>|z|</th>  <th>[0.025</th>    <th>0.975]</th>  \n",
              "</tr>\n",
              "<tr>\n",
              "  <th>ar.L1</th>  <td>   -0.6634</td> <td>    7.230</td> <td>   -0.092</td> <td> 0.927</td> <td>  -14.835</td> <td>   13.508</td>\n",
              "</tr>\n",
              "<tr>\n",
              "  <th>ar.L2</th>  <td>    0.2233</td> <td>    2.789</td> <td>    0.080</td> <td> 0.936</td> <td>   -5.243</td> <td>    5.690</td>\n",
              "</tr>\n",
              "<tr>\n",
              "  <th>ma.L1</th>  <td>   -0.9160</td> <td>    7.766</td> <td>   -0.118</td> <td> 0.906</td> <td>  -16.136</td> <td>   14.304</td>\n",
              "</tr>\n",
              "<tr>\n",
              "  <th>ma.L2</th>  <td>   -0.5515</td> <td>   11.221</td> <td>   -0.049</td> <td> 0.961</td> <td>  -22.545</td> <td>   21.442</td>\n",
              "</tr>\n",
              "<tr>\n",
              "  <th>ma.L3</th>  <td>    0.5860</td> <td>    4.954</td> <td>    0.118</td> <td> 0.906</td> <td>   -9.123</td> <td>   10.295</td>\n",
              "</tr>\n",
              "<tr>\n",
              "  <th>sigma2</th> <td> 6.561e+10</td> <td> 1.63e-10</td> <td> 4.04e+20</td> <td> 0.000</td> <td> 6.56e+10</td> <td> 6.56e+10</td>\n",
              "</tr>\n",
              "</table>\n",
              "<table class=\"simpletable\">\n",
              "<tr>\n",
              "  <th>Ljung-Box (L1) (Q):</th>     <td>0.03</td>  <th>  Jarque-Bera (JB):  </th> <td>51.08</td>\n",
              "</tr>\n",
              "<tr>\n",
              "  <th>Prob(Q):</th>                <td>0.85</td>  <th>  Prob(JB):          </th> <td>0.00</td> \n",
              "</tr>\n",
              "<tr>\n",
              "  <th>Heteroskedasticity (H):</th> <td>83.42</td> <th>  Skew:              </th> <td>1.51</td> \n",
              "</tr>\n",
              "<tr>\n",
              "  <th>Prob(H) (two-sided):</th>    <td>0.00</td>  <th>  Kurtosis:          </th> <td>9.17</td> \n",
              "</tr>\n",
              "</table><br/><br/>Warnings:<br/>[1] Covariance matrix calculated using the outer product of gradients (complex-step).<br/>[2] Covariance matrix is singular or near-singular, with condition number 6.13e+37. Standard errors may be unstable."
            ],
            "text/latex": "\\begin{center}\n\\begin{tabular}{lclc}\n\\toprule\n\\textbf{Dep. Variable:}          &    Tot\\_Debt     & \\textbf{  No. Observations:  } &     29      \\\\\n\\textbf{Model:}                  & SARIMAX(2, 3, 3) & \\textbf{  Log Likelihood     } &  -352.787   \\\\\n\\textbf{Date:}                   & Sun, 03 Sep 2023 & \\textbf{  AIC                } &  717.575    \\\\\n\\textbf{Time:}                   &     09:46:48     & \\textbf{  BIC                } &  725.123    \\\\\n\\textbf{Sample:}                 &    01-01-1993    & \\textbf{  HQIC               } &  719.749    \\\\\n\\textbf{}                        &   - 01-01-2021   & \\textbf{                     } &             \\\\\n\\textbf{Covariance Type:}        &       opg        & \\textbf{                     } &             \\\\\n\\bottomrule\n\\end{tabular}\n\\begin{tabular}{lcccccc}\n                & \\textbf{coef} & \\textbf{std err} & \\textbf{z} & \\textbf{P$> |$z$|$} & \\textbf{[0.025} & \\textbf{0.975]}  \\\\\n\\midrule\n\\textbf{ar.L1}  &      -0.6634  &        7.230     &    -0.092  &         0.927        &      -14.835    &       13.508     \\\\\n\\textbf{ar.L2}  &       0.2233  &        2.789     &     0.080  &         0.936        &       -5.243    &        5.690     \\\\\n\\textbf{ma.L1}  &      -0.9160  &        7.766     &    -0.118  &         0.906        &      -16.136    &       14.304     \\\\\n\\textbf{ma.L2}  &      -0.5515  &       11.221     &    -0.049  &         0.961        &      -22.545    &       21.442     \\\\\n\\textbf{ma.L3}  &       0.5860  &        4.954     &     0.118  &         0.906        &       -9.123    &       10.295     \\\\\n\\textbf{sigma2} &    6.561e+10  &     1.63e-10     &  4.04e+20  &         0.000        &     6.56e+10    &     6.56e+10     \\\\\n\\bottomrule\n\\end{tabular}\n\\begin{tabular}{lclc}\n\\textbf{Ljung-Box (L1) (Q):}     &  0.03 & \\textbf{  Jarque-Bera (JB):  } & 51.08  \\\\\n\\textbf{Prob(Q):}                &  0.85 & \\textbf{  Prob(JB):          } &  0.00  \\\\\n\\textbf{Heteroskedasticity (H):} & 83.42 & \\textbf{  Skew:              } &  1.51  \\\\\n\\textbf{Prob(H) (two-sided):}    &  0.00 & \\textbf{  Kurtosis:          } &  9.17  \\\\\n\\bottomrule\n\\end{tabular}\n%\\caption{SARIMAX Results}\n\\end{center}\n\nWarnings: \\newline\n [1] Covariance matrix calculated using the outer product of gradients (complex-step). \\newline\n [2] Covariance matrix is singular or near-singular, with condition number 6.13e+37. Standard errors may be unstable."
          },
          "metadata": {},
          "execution_count": 30
        }
      ]
    },
    {
      "cell_type": "code",
      "source": [
        "import pickle\n",
        "\n",
        "\n",
        "# Assuming 'model' is your trained machine learning model\n",
        "with open('tot_debt_model.pkl', 'wb') as file:\n",
        "    pickle.dump(model_fit, file)\n"
      ],
      "metadata": {
        "id": "oPhIpZFDbwlA"
      },
      "execution_count": null,
      "outputs": []
    },
    {
      "cell_type": "code",
      "source": [
        "with open('tot_debt_model.pkl', 'rb') as file:\n",
        "    loaded_model = pickle.load(file)\n",
        "\n",
        "\n",
        "forecast_steps = 7\n",
        "forecast = loaded_model.get_forecast(steps=forecast_steps)\n",
        "forecasted_values = forecast.predicted_mean\n",
        "tot_gov_debt=forecasted_values[forecast_steps-1]\n",
        "tot_gov_debt"
      ],
      "metadata": {
        "colab": {
          "base_uri": "https://localhost:8080/"
        },
        "id": "48-S1v97dAMr",
        "outputId": "e52c4a02-08c8-4388-db0a-e9b7dbe7d03c"
      },
      "execution_count": null,
      "outputs": [
        {
          "output_type": "execute_result",
          "data": {
            "text/plain": [
              "5230484.074509773"
            ]
          },
          "metadata": {},
          "execution_count": 41
        }
      ]
    }
  ]
}